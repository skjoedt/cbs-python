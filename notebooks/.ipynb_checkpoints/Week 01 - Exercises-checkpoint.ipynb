{
 "metadata": {
  "name": ""
 },
 "nbformat": 3,
 "nbformat_minor": 0,
 "worksheets": [
  {
   "cells": [
    {
     "cell_type": "markdown",
     "metadata": {},
     "source": [
      "# Week 01 - Exercises"
     ]
    },
    {
     "cell_type": "markdown",
     "metadata": {},
     "source": [
      "<q>1. The greeter</q>\n",
      "<qq>Write a program that asks for the user's name and tells them hello!</qq>\n",
      "**Hint:** *Use the function*\n",
      "\n",
      "    raw_input(\"Write your name: \")\n",
      "\n",
      "*to ask for the name*"
     ]
    },
    {
     "cell_type": "code",
     "collapsed": false,
     "input": [],
     "language": "python",
     "metadata": {},
     "outputs": [],
     "prompt_number": 1
    },
    {
     "cell_type": "markdown",
     "metadata": {},
     "source": [
      "Output should be something like "
     ]
    },
    {
     "cell_type": "raw",
     "metadata": {},
     "source": [
      "    Hello John!"
     ]
    },
    {
     "cell_type": "markdown",
     "metadata": {},
     "source": [
      "<q>2. Getting help in Python</q>"
     ]
    },
    {
     "cell_type": "markdown",
     "metadata": {},
     "source": [
      "<qq>Use the dir() function to get a list of functions available in the *math* module</qq>\n",
      "\n",
      "**Hint:** *Remember to import the math module first.*<br />\n",
      "**Hint:** *Wrap print( ... ) around your dir() function to get a compact display of functions.*"
     ]
    },
    {
     "cell_type": "code",
     "collapsed": false,
     "input": [],
     "language": "python",
     "metadata": {},
     "outputs": []
    },
    {
     "cell_type": "markdown",
     "metadata": {},
     "source": [
      "<qq>Use the help() function to get some helpful information about the *cos*, *sqrt* and *exp* function in the math module</qq>"
     ]
    },
    {
     "cell_type": "code",
     "collapsed": false,
     "input": [],
     "language": "python",
     "metadata": {},
     "outputs": []
    },
    {
     "cell_type": "markdown",
     "metadata": {},
     "source": [
      "<qq>Calculate *cos*, the *square root* and *exponential* of pi. Print them all to the screen.</qq>"
     ]
    },
    {
     "cell_type": "code",
     "collapsed": false,
     "input": [],
     "language": "python",
     "metadata": {},
     "outputs": []
    },
    {
     "cell_type": "markdown",
     "metadata": {},
     "source": [
      "Output should be something like"
     ]
    },
    {
     "cell_type": "raw",
     "metadata": {},
     "source": [
      "-1.0\n",
      "1.77245385091\n",
      "23.1406926328"
     ]
    },
    {
     "cell_type": "markdown",
     "metadata": {},
     "source": [
      "<q>3. What's My Age Again?</q>\n",
      "<qq>Write a program that ask for their year of birth and compute their age (roughly).</qq>\n",
      "\n",
      "**Hint:** *Use int() to convert an input text to numbers*"
     ]
    },
    {
     "cell_type": "code",
     "collapsed": false,
     "input": [],
     "language": "python",
     "metadata": {},
     "outputs": []
    },
    {
     "cell_type": "markdown",
     "metadata": {},
     "source": [
      "Output should be something like"
     ]
    },
    {
     "cell_type": "raw",
     "metadata": {},
     "source": [
      "    Your age is 25"
     ]
    },
    {
     "cell_type": "markdown",
     "metadata": {},
     "source": [
      "<q>4. Detention</q>\n",
      "\n",
      "<img src=\"http://farm5.static.flickr.com/4052/4529445838_37b190bbec.jpg\" />\n",
      "<qq>Write a one-line program that prints \"I WILL NOT DO ANYTHING BAD EVER AGAIN.\" 50 times on the screen.</qq>\n",
      "**Hint:** *Use the multiply operation on the text string* <br />\n",
      "**Hint:** *Use \\n for line breaks*"
     ]
    },
    {
     "cell_type": "code",
     "collapsed": false,
     "input": [],
     "language": "python",
     "metadata": {},
     "outputs": []
    },
    {
     "cell_type": "markdown",
     "metadata": {},
     "source": [
      "<q>Restriction Enzymes in Python</q>\n",
      "In this exercise we will use some of the methods associated with strings to find the restriction sites in a DNA sequence.\n",
      "\n",
      "A restriction enzyme *SacI* is known to cleave 5'-GAGCTC-3'. \n",
      "\n",
      "<qq>Find the **number** of *SacI* restriction sites in the following DNA sequence. Don't take into account the reverse compliment sequence.</qq>"
     ]
    },
    {
     "cell_type": "code",
     "collapsed": false,
     "input": [
      "DNA = \"ATGAATTTGTCACAGATTAATTCGACTACGAGTACAAGAGAAGCG\\\n",
      "GAATTAAAATTCCAAATGCTCCAATCAGAAGAGGCTAGAAGGGGC\\\n",
      "AATGAAAAGGAGAGCTCGATGGGTTTCAAAGAAGCTTTCAGATTA\\\n",
      "CATTATAAGGCAGTAGTATGGGCTTTTTTATTATCTGCTGTGAGT\\\n",
      "ATTATGGAAGCATATGACCAAAAGATATTATTTGGATTTACTGGT\\\n",
      "CTTCCGGTCTATCAAAAAAGATTCGGAGAGGAAGTTTCACCAGGT\\\n",
      "AAATATACTCTTACAACAAAGTGGACAACTTTATTAACCAATGGT\\\n",
      "GTGAAATTTGGACAGATTATCGGGAGCTCACAGCAGGCATTGTGG\\\n",
      "GTTGAAAGAATTGGCTATAGATACTCAATAATAGGTGCAATGGCT\\\n",
      "CAGCTACTGGTATT\""
     ],
     "language": "python",
     "metadata": {},
     "outputs": [],
     "prompt_number": 7
    },
    {
     "cell_type": "code",
     "collapsed": false,
     "input": [],
     "language": "python",
     "metadata": {},
     "outputs": []
    },
    {
     "cell_type": "markdown",
     "metadata": {},
     "source": [
      "<qq>Find the location of the restriction sites in the DNA sequence</qq>"
     ]
    },
    {
     "cell_type": "code",
     "collapsed": false,
     "input": [],
     "language": "python",
     "metadata": {},
     "outputs": []
    },
    {
     "cell_type": "markdown",
     "metadata": {},
     "source": [
      "---\n"
     ]
    },
    {
     "cell_type": "code",
     "collapsed": false,
     "input": [
      "# LOADING STYLES FOR THIS DOCUMENTS\n",
      "from IPython.core.display import HTML\n",
      "\n",
      "\n",
      "def css_styling():\n",
      "    styles = open(\"../styles/custom.css\", \"r\").read()\n",
      "    return HTML(styles)\n",
      "css_styling()"
     ],
     "language": "python",
     "metadata": {},
     "outputs": [
      {
       "html": [
        "<style>\n",
        "    div.cell{\n",
        "        width:800px;\n",
        "        margin-left:16% !important;\n",
        "        margin-right:auto;\n",
        "    }\n",
        "    div.text_cell_render{\n",
        "        font-family: \"Helvetica Neue\", Arial, Helvetica, Geneva, sans-serif;\n",
        "        line-height: 145%;\n",
        "        font-size: 100%;\n",
        "        width:800px;\n",
        "        margin-left:auto;\n",
        "        margin-right:auto;\n",
        "    }\n",
        "    .CodeMirror{\n",
        "            font-family: \"Source Code Pro\", source-code-pro,Consolas, monospace;\n",
        "    }\n",
        "    div.CodeMirror{\n",
        "    \tfont-size: 11pt;\n",
        "    }\n",
        "    div.cell.border-box-sizing.code_cell{\n",
        "    \tpadding-left: 50px;\n",
        "    }\n",
        "    div.text_cell_input {\n",
        "    \tmargin-left: 50px;\n",
        "    }\n",
        "    .prompt{\n",
        "        display: None;\n",
        "    }\n",
        "    .text_cell_render h1 {\n",
        "        font-family: Helvetica, serif;\n",
        "        font-size: 30pt;\n",
        "        color: #274257;\n",
        "        text-transform: uppercase;\n",
        "        line-height: 100%;\n",
        "    }\n",
        "    .text_cell_render h2 {\n",
        "    \tmargin-top: 35px;\n",
        "        font-family: Helvetica, serif;\n",
        "        font-size: 24pt;\n",
        "        color: #2A75A9;\n",
        "        line-height: 100%;\n",
        "    }\n",
        "    .text_cell_render h3{\n",
        "    \tmargin-top: 35px;\n",
        "        font-family: Helvetica, serif;\n",
        "        font-size: 18pt;\n",
        "        color: #7EB5D6;\n",
        "        line-height: 100%;\n",
        "       }\n",
        "    .text_cell_render h4{\n",
        "    \tmargin-top: 35px;\n",
        "    \tfont-family: Helvetica, serif;\n",
        "        font-size: 14pt;\n",
        "        line-height: 100%;\n",
        "    }\n",
        "    .text_cell_render h5 {\n",
        "        font-weight: 300;\n",
        "        font-size: 22pt;\n",
        "        color: #4057A1;\n",
        "        font-style: italic;\n",
        "        margin-bottom: .5em;\n",
        "        margin-top: 0.5em;\n",
        "        display: block;\n",
        "        line-height: 100%;\n",
        "    }\n",
        "    \n",
        "    .warning{\n",
        "        color: rgb( 240, 20, 20 )\n",
        "        } \n",
        "    .wds {\n",
        "        background: none repeat scroll 0% 0% rgb(247, 247, 247);\n",
        "        padding: 0em 0em;\n",
        "        font-size: 11px;\n",
        "        font-family: Arial,Helvetica,sans-serif;\n",
        "        display: inline-block;\n",
        "        margin: 0px 0em;\n",
        "        white-space: nowrap;\n",
        "    }\n",
        "    cb {\n",
        "        background: none repeat scroll 0% 0% rgb(247, 247, 247);\n",
        "        padding: 0.1em 0.6em;\n",
        "        border: 1px solid rgb(204, 204, 204);\n",
        "        font-size: 11pt;\n",
        "        font-family: \"Source Code Pro\", source-code-pro,Consolas, monospace;\n",
        "        color: rgb(51, 51, 51);\n",
        "        box-shadow: 0px 1px 0px rgba(0, 0, 0, 0.2), 0px 0px 0px 2px rgb(255, 255, 255) inset;\n",
        "        border-radius: 3px 3px 3px 3px;\n",
        "        display: inline-block;\n",
        "        margin: 0px 0.1em;\n",
        "        line-height: 1.4;\n",
        "        white-space: nowrap;\n",
        "    }\n",
        "    q {\t\n",
        "        font-weight: 300;\n",
        "        font-size: 14pt;\n",
        "        color: #4057A1;\n",
        "        margin-bottom: .5em;\n",
        "        margin-top: 0.5em;\n",
        "        display: block;\n",
        "        font-family: \"Helvetica Neue\", Arial, Helvetica, Geneva, sans-serif;\n",
        "        line-height: 145%;\n",
        "        width:800px;\n",
        "        margin-left:auto;\n",
        "        margin-right:auto;\n",
        "    }\n",
        "    qq {\t\n",
        "        font-weight: 300;\n",
        "        font-size: 11pt;\n",
        "        color: #4057A1;\n",
        "        margin-bottom: .5em;\n",
        "        margin-top: 0.5em;\n",
        "        display: block;\n",
        "        font-family: \"Helvetica Neue\", Arial, Helvetica, Geneva, sans-serif;\n",
        "        line-height: 145%;\n",
        "        width:800px;\n",
        "        margin-left:auto;\n",
        "        margin-right:auto;\n",
        "    }\n",
        "    kbd {\n",
        "        background: none repeat scroll 0% 0% rgb(247, 247, 247);\n",
        "        padding: 0.1em 0.6em;\n",
        "        border: 1px solid rgb(204, 204, 204);\n",
        "        font-size: 11px;\n",
        "        font-family: Arial,Helvetica,sans-serif;\n",
        "        color: rgb(51, 51, 51);\n",
        "        box-shadow: 0px 1px 0px rgba(0, 0, 0, 0.2), 0px 0px 0px 2px rgb(255, 255, 255) inset;\n",
        "        border-radius: 3px 3px 3px 3px;\n",
        "        display: inline-block;\n",
        "        margin: 0px 0.1em;\n",
        "        text-shadow: 0px 1px 0px rgb(255, 255, 255);\n",
        "        line-height: 1.4;\n",
        "        white-space: nowrap;\n",
        "    }\n",
        "    ol {\n",
        "        list-style-type: decimal;\n",
        "    }\n",
        "\n",
        "\t.box_rotate {\n",
        "\t\t  -webkit-transform: rotate(270deg);  /* Chrome, Safari 3.1+ */\n",
        "\t\t     -moz-transform: rotate(270deg);  /* Firefox 3.5-15 */\n",
        "\t\t      -ms-transform: rotate(270deg);  /* IE 9 */\n",
        "\t\t       -o-transform: rotate(270deg);  /* Opera 10.50-12.00 */\n",
        "\t\t          transform: rotate(270deg);  /* Firefox 16+, IE 10+, Opera 12.10+ */\n",
        "\t}\n",
        "\n",
        "\t.vertical-text {\n",
        "\t\tdisplay: inline-block;\n",
        "\t\toverflow: hidden;\n",
        "\t\twidth: 1.5em;\n",
        "\t}\n",
        "\n",
        "\t.vertical-text__inner {\n",
        "\t\tdisplay: inline-block;\n",
        "\t\twhite-space: nowrap;\n",
        "\t\tline-height: 1.5;\n",
        "\t\t  -webkit-transform: rotate(270deg);  /* Chrome, Safari 3.1+ */\n",
        "\t\t     -moz-transform: rotate(270deg);  /* Firefox 3.5-15 */\n",
        "\t\t      -ms-transform: rotate(270deg);  /* IE 9 */\n",
        "\t\t       -o-transform: rotate(270deg);  /* Opera 10.50-12.00 */\n",
        "\t\t          transform: rotate(270deg);  /* Firefox 16+, IE 10+, Opera 12.10+ */\n",
        "\t}\n",
        "\n",
        "\t.vertical-text__inner:after {\n",
        "\t\tcontent: \"\";\n",
        "\t\tdisplay: block;\n",
        "\t\tmargin: -1.5em 0 100%;\n",
        "\t}\n",
        "\n",
        "\t.topics{\n",
        "\t\tbackground: url('files/images/topics.png') no-repeat scroll 0% 0%; \n",
        "\t\twidth: 520px; \n",
        "\t\theight: 250px; \n",
        "\n",
        "\t\tpadding-top: 35px;\n",
        "\t}\n",
        "\n",
        "\t.c_program{\n",
        "\t\tbackground: url('files/images/program.png') no-repeat scroll 0% 0%; width: 520px; margin-left: auto; margin-right: auto;\n",
        "\t}\n",
        "\n",
        "\t.c_require{\n",
        "\t\tbackground: url('files/images/software.png') no-repeat scroll 0% 0%; width: 520px; height: 250px; margin-left: auto; margin-right: auto;\n",
        "\t}\n",
        "\n",
        "</style>\n",
        "<script>\n",
        "    MathJax.Hub.Config({\n",
        "                        TeX: {\n",
        "                           extensions: [\"AMSmath.js\"]\n",
        "                           },\n",
        "                tex2jax: {\n",
        "                    inlineMath: [ ['$','$'], [\"\\\\(\",\"\\\\)\"] ],\n",
        "                    displayMath: [ ['$$','$$'], [\"\\\\[\",\"\\\\]\"] ]\n",
        "                },\n",
        "                displayAlign: 'center', // Change this to 'center' to center equations.\n",
        "                \"HTML-CSS\": {\n",
        "                    styles: {'.MathJax_Display': {\"margin\": 4}}\n",
        "                }\n",
        "        });\n",
        "</script>\n"
       ],
       "metadata": {},
       "output_type": "pyout",
       "prompt_number": 25,
       "text": [
        "<IPython.core.display.HTML at 0x367c150>"
       ]
      }
     ],
     "prompt_number": 25
    }
   ],
   "metadata": {}
  }
 ]
}