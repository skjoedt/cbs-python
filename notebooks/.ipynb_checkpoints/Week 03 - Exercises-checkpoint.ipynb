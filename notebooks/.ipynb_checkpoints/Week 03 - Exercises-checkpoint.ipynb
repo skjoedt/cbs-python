{
 "metadata": {
  "name": ""
 },
 "nbformat": 3,
 "nbformat_minor": 0,
 "worksheets": [
  {
   "cells": [
    {
     "cell_type": "markdown",
     "metadata": {},
     "source": [
      "# Week 03 - Exercises"
     ]
    },
    {
     "cell_type": "markdown",
     "metadata": {},
     "source": [
      "<q>Decision Statements</q>\n",
      "\n",
      "<qq>Explain what is going on in this code block:</qq>\n",
      "\n",
      "    if conditionA or conditionB:\n",
      "        \" code A \"\n",
      "    else:\n",
      "        \" code B \""
     ]
    },
    {
     "cell_type": "raw",
     "metadata": {},
     "source": [
      "Answer: "
     ]
    },
    {
     "cell_type": "markdown",
     "metadata": {},
     "source": [
      "<qq>Explain what is going on in this code block:</qq>\n",
      "    \n",
      "    if conditionA:\n",
      "        \" code A \"\n",
      "    elif conditionB:\n",
      "        \" code B \"\n",
      "    else:\n",
      "        \" code C \""
     ]
    },
    {
     "cell_type": "raw",
     "metadata": {},
     "source": [
      "Answer: "
     ]
    },
    {
     "cell_type": "markdown",
     "metadata": {},
     "source": [
      "<q>Net charge of a Protein</q>\n",
      "\n",
      "Dictionary containing charges of individual amino acids"
     ]
    },
    {
     "cell_type": "code",
     "collapsed": false,
     "input": [
      "AACharge = {\"C\": -0.045,\n",
      "            \"D\": -0.999,\n",
      "            \"E\": -0.998,\n",
      "            \"H\": 0.091,\n",
      "            \"K\": 1.0,\n",
      "            \"R\": 1.0,\n",
      "            \"Y\": -0.001,}"
     ],
     "language": "python",
     "metadata": {},
     "outputs": [],
     "prompt_number": 4
    },
    {
     "cell_type": "markdown",
     "metadata": {},
     "source": [
      "<qq>Make a program that asks for a protein sequence and calculate the net charge using the dictionary above</qq>"
     ]
    },
    {
     "cell_type": "markdown",
     "metadata": {},
     "source": [
      "The program should:\n",
      "<ul>\n",
      "    <li>Verify that the inputted string is a valid protein sequence or otherwise print an error.</li>\n",
      "    <li>Take into account the charge from the free ends are -0.002 in total.</li>\n",
      "    <li>Print out the net charge of the protein sequence</li>\n",
      "</ul>\n",
      "\n",
      "The program should not take into account:\n",
      "<ul><li>surface accesibility, pH, cysteine disulfide bridges or amidation and acetylation.</li>\n",
      "</ul>"
     ]
    },
    {
     "cell_type": "code",
     "collapsed": false,
     "input": [
      "# Make the program here\n"
     ],
     "language": "python",
     "metadata": {},
     "outputs": []
    },
    {
     "cell_type": "markdown",
     "metadata": {},
     "source": [
      "<q>Obtaining reading frame and translating DNA sequence.</q>"
     ]
    },
    {
     "cell_type": "markdown",
     "metadata": {},
     "source": [
      "Here's a quick code snippet to generate a <a href=\"http://en.wikipedia.org/wiki/DNA_codon_table\" target=\"_blank\">codon table</a> in Python. The 'table' is actually a dictionary that takes a three-letter, lowercase codon as a key, and returns a single uppercase letter corresponding to the encoded amino acid (or '*' if it's a stop codon)."
     ]
    },
    {
     "cell_type": "code",
     "collapsed": false,
     "input": [
      "bases = ['t', 'c', 'a', 'g']\n",
      "codons = [a+b+c for a in bases for b in bases for c in bases]\n",
      "amino_acids = 'FFLLSSSSYY**CC*WLLLLPPPPHHQQRRRRIIIMTTTTNNKKSSRRVVVVAAAADDEEGGGG'\n",
      "codon_table = dict(zip(codons, amino_acids))"
     ],
     "language": "python",
     "metadata": {},
     "outputs": [],
     "prompt_number": 1
    },
    {
     "cell_type": "markdown",
     "metadata": {},
     "source": [
      "So if you type <cb>codon_table['atg']</cb>, you'll get M for methionine. "
     ]
    },
    {
     "cell_type": "code",
     "collapsed": false,
     "input": [
      "codon_table['atg']"
     ],
     "language": "python",
     "metadata": {},
     "outputs": [
      {
       "metadata": {},
       "output_type": "pyout",
       "prompt_number": 6,
       "text": [
        "'M'"
       ]
      }
     ],
     "prompt_number": 6
    },
    {
     "cell_type": "markdown",
     "metadata": {},
     "source": [
      "Exercise here...\n",
      "\n",
      "http://en.wikipedia.org/wiki/DNA_codon_table"
     ]
    },
    {
     "cell_type": "markdown",
     "metadata": {},
     "source": [
      "<q>Calculating the coding potential of a DNA sequence</q>"
     ]
    },
    {
     "cell_type": "markdown",
     "metadata": {},
     "source": [
      "Unequal usage of codons in the coding regions appears to be a universal feature of the genomes across the phylogenetic spectra. This bias obeys mainly to\n",
      "<ul><li>the uneven usage of the amino acids in the existing proteins, and</li>  <li> the uneven usage of synonymous codons</li></ul>\n",
      "The bias in the usage of the synonymous codons correlates with the abundance of the corresponding tRNAs. The correlation is particularly strong for highly expressed genes. Codon usage is specific of the taxonomic group, and there exist correlation between taxonomic divergence and similarity of codon usage. "
     ]
    },
    {
     "cell_type": "markdown",
     "metadata": {},
     "source": [
      "By comparing the frequency of codons in a region of an species genome read in a given frame with the typical frequency of codons in the species genes, it is possible to estimate a likelihood of the region coding for a protein in such a frame. Regions in which codons are used with frequencies similar to the typical species codon frequencies are likely to code for genes (**exons**) while regions which codons distribution is uniform -- 1/64 (0.015625) -- could be considered as non-coding regions (**introns**). "
     ]
    },
    {
     "cell_type": "markdown",
     "metadata": {},
     "source": [
      "<center>\n",
      "<table>\n",
      "<tr><td>\n",
      "<font SIZE=\"-2\"> </font>\n",
      "<table CELLPADDING=3 BORDER=\"1\">\n",
      "<tr><td ALIGN=\"CENTER\" COLSPAN=16>The Human Codon Usage Table</td>\n",
      "</tr>\n",
      "<tr><td ALIGN=\"LEFT\"><font SIZE=\"-2\"> Gly </font></td>\n",
      "<td ALIGN=\"LEFT\"><font SIZE=\"-2\"> GGG </font></td>\n",
      "<td ALIGN=\"RIGHT\"><font SIZE=\"-2\"> 17.08 </font></td>\n",
      "<td ALIGN=\"RIGHT\"><font SIZE=\"-2\"> 0.23  </font></td>\n",
      "<td ALIGN=\"LEFT\"><font SIZE=\"-2\"> Arg </font></td>\n",
      "<td ALIGN=\"LEFT\"><font SIZE=\"-2\"> AGG </font></td>\n",
      "<td ALIGN=\"RIGHT\"><font SIZE=\"-2\"> 12.09 </font></td>\n",
      "<td ALIGN=\"RIGHT\"><font SIZE=\"-2\"> 0.22  </font></td>\n",
      "<td ALIGN=\"LEFT\"><font SIZE=\"-2\"> Trp </font></td>\n",
      "<td ALIGN=\"LEFT\"><font SIZE=\"-2\"> TGG </font></td>\n",
      "<td ALIGN=\"RIGHT\"><font SIZE=\"-2\"> 14.74 </font></td>\n",
      "<td ALIGN=\"RIGHT\"><font SIZE=\"-2\"> 1.00  </font></td>\n",
      "<td ALIGN=\"LEFT\"><font SIZE=\"-2\"> Arg </font></td>\n",
      "<td ALIGN=\"LEFT\"><font SIZE=\"-2\"> CGG </font></td>\n",
      "<td ALIGN=\"RIGHT\"><font SIZE=\"-2\"> 10.40 </font></td>\n",
      "<td ALIGN=\"RIGHT\"><font SIZE=\"-2\"> 0.19 </font></td>\n",
      "</tr>\n",
      "<tr><td ALIGN=\"LEFT\"><font SIZE=\"-2\"> Gly </font></td>\n",
      "<td ALIGN=\"LEFT\"><font SIZE=\"-2\"> GGA </font></td>\n",
      "<td ALIGN=\"RIGHT\"><font SIZE=\"-2\"> 19.31 </font></td>\n",
      "<td ALIGN=\"RIGHT\"><font SIZE=\"-2\"> 0.26  </font></td>\n",
      "<td ALIGN=\"LEFT\"><font SIZE=\"-2\"> Arg </font></td>\n",
      "<td ALIGN=\"LEFT\"><font SIZE=\"-2\"> AGA </font></td>\n",
      "<td ALIGN=\"RIGHT\"><font SIZE=\"-2\"> 11.73 </font></td>\n",
      "<td ALIGN=\"RIGHT\"><font SIZE=\"-2\"> 0.21  </font></td>\n",
      "<td ALIGN=\"LEFT\"><font SIZE=\"-2\"> End </font></td>\n",
      "<td ALIGN=\"LEFT\"><font SIZE=\"-2\"> TGA </font></td>\n",
      "<td ALIGN=\"RIGHT\"><font SIZE=\"-2\"> 2.64 </font></td>\n",
      "<td ALIGN=\"RIGHT\"><font SIZE=\"-2\"> 0.61  </font></td>\n",
      "<td ALIGN=\"LEFT\"><font SIZE=\"-2\"> Arg </font></td>\n",
      "<td ALIGN=\"LEFT\"><font SIZE=\"-2\"> CGA </font></td>\n",
      "<td ALIGN=\"RIGHT\"><font SIZE=\"-2\"> 5.63 </font></td>\n",
      "<td ALIGN=\"RIGHT\"><font SIZE=\"-2\"> 0.10 </font></td>\n",
      "</tr>\n",
      "<tr><td ALIGN=\"LEFT\"><font SIZE=\"-2\"> Gly </font></td>\n",
      "<td ALIGN=\"LEFT\"><font SIZE=\"-2\"> GGT </font></td>\n",
      "<td ALIGN=\"RIGHT\"><font SIZE=\"-2\"> 13.66 </font></td>\n",
      "<td ALIGN=\"RIGHT\"><font SIZE=\"-2\"> 0.18  </font></td>\n",
      "<td ALIGN=\"LEFT\"><font SIZE=\"-2\"> Ser </font></td>\n",
      "<td ALIGN=\"LEFT\"><font SIZE=\"-2\"> AGT </font></td>\n",
      "<td ALIGN=\"RIGHT\"><font SIZE=\"-2\"> 10.18 </font></td>\n",
      "<td ALIGN=\"RIGHT\"><font SIZE=\"-2\"> 0.14  </font></td>\n",
      "<td ALIGN=\"LEFT\"><font SIZE=\"-2\"> Cys </font></td>\n",
      "<td ALIGN=\"LEFT\"><font SIZE=\"-2\"> TGT </font></td>\n",
      "<td ALIGN=\"RIGHT\"><font SIZE=\"-2\"> 9.99 </font></td>\n",
      "<td ALIGN=\"RIGHT\"><font SIZE=\"-2\"> 0.42  </font></td>\n",
      "<td ALIGN=\"LEFT\"><font SIZE=\"-2\"> Arg </font></td>\n",
      "<td ALIGN=\"LEFT\"><font SIZE=\"-2\"> CGT </font></td>\n",
      "<td ALIGN=\"RIGHT\"><font SIZE=\"-2\"> 5.16 </font></td>\n",
      "<td ALIGN=\"RIGHT\"><font SIZE=\"-2\"> 0.09 </font></td>\n",
      "</tr>\n",
      "<tr><td ALIGN=\"LEFT\"><font SIZE=\"-2\"> Gly </font></td>\n",
      "<td ALIGN=\"LEFT\"><font SIZE=\"-2\"> GGC </font></td>\n",
      "<td ALIGN=\"RIGHT\"><font SIZE=\"-2\"> 24.94 </font></td>\n",
      "<td ALIGN=\"RIGHT\"><font SIZE=\"-2\"> 0.33  </font></td>\n",
      "<td ALIGN=\"LEFT\"><font SIZE=\"-2\"> Ser </font></td>\n",
      "<td ALIGN=\"LEFT\"><font SIZE=\"-2\"> AGC </font></td>\n",
      "<td ALIGN=\"RIGHT\"><font SIZE=\"-2\"> 18.54 </font></td>\n",
      "<td ALIGN=\"RIGHT\"><font SIZE=\"-2\"> 0.25  </font></td>\n",
      "<td ALIGN=\"LEFT\"><font SIZE=\"-2\"> Cys </font></td>\n",
      "<td ALIGN=\"LEFT\"><font SIZE=\"-2\"> TGC </font></td>\n",
      "<td ALIGN=\"RIGHT\"><font SIZE=\"-2\"> 13.86 </font></td>\n",
      "<td ALIGN=\"RIGHT\"><font SIZE=\"-2\"> 0.58  </font></td>\n",
      "<td ALIGN=\"LEFT\"><font SIZE=\"-2\"> Arg </font></td>\n",
      "<td ALIGN=\"LEFT\"><font SIZE=\"-2\"> CGC </font></td>\n",
      "<td ALIGN=\"RIGHT\"><font SIZE=\"-2\"> 10.82 </font></td>\n",
      "<td ALIGN=\"RIGHT\"><font SIZE=\"-2\"> 0.19 </font></td>\n",
      "</tr>\n",
      "<tr><td ALIGN=\"LEFT\"><font SIZE=\"-2\"> </font></td>\n",
      "<td ALIGN=\"LEFT\"><font SIZE=\"-2\"> </font></td>\n",
      "<td ALIGN=\"RIGHT\"><font SIZE=\"-2\"> </font></td>\n",
      "<td ALIGN=\"RIGHT\"><font SIZE=\"-2\"> </font></td>\n",
      "<td ALIGN=\"LEFT\"><font SIZE=\"-2\"> </font></td>\n",
      "<td ALIGN=\"LEFT\"><font SIZE=\"-2\"> </font></td>\n",
      "<td ALIGN=\"RIGHT\"><font SIZE=\"-2\"> </font></td>\n",
      "<td ALIGN=\"RIGHT\"><font SIZE=\"-2\"> </font></td>\n",
      "<td ALIGN=\"LEFT\"><font SIZE=\"-2\"> </font></td>\n",
      "<td ALIGN=\"LEFT\"><font SIZE=\"-2\"> </font></td>\n",
      "<td ALIGN=\"RIGHT\"><font SIZE=\"-2\"> </font></td>\n",
      "<td ALIGN=\"RIGHT\"><font SIZE=\"-2\"> </font></td>\n",
      "<td ALIGN=\"LEFT\"><font SIZE=\"-2\"> </font></td>\n",
      "<td ALIGN=\"LEFT\"><font SIZE=\"-2\"> </font></td>\n",
      "<td ALIGN=\"RIGHT\"><font SIZE=\"-2\"> </font></td>\n",
      "<td ALIGN=\"RIGHT\"><font SIZE=\"-2\"> </font></td>\n",
      "</tr>\n",
      "<tr><td ALIGN=\"LEFT\"><font SIZE=\"-2\"> Glu </font></td>\n",
      "<td ALIGN=\"LEFT\"><font SIZE=\"-2\"> GAG </font></td>\n",
      "<td ALIGN=\"RIGHT\"><font SIZE=\"-2\"> 38.82 </font></td>\n",
      "<td ALIGN=\"RIGHT\"><font SIZE=\"-2\"> 0.59  </font></td>\n",
      "<td ALIGN=\"LEFT\"><font SIZE=\"-2\"> Lys </font></td>\n",
      "<td ALIGN=\"LEFT\"><font SIZE=\"-2\"> AAG </font></td>\n",
      "<td ALIGN=\"RIGHT\"><font SIZE=\"-2\"> 33.79 </font></td>\n",
      "<td ALIGN=\"RIGHT\"><font SIZE=\"-2\"> 0.60  </font></td>\n",
      "<td ALIGN=\"LEFT\"><font SIZE=\"-2\"> End </font></td>\n",
      "<td ALIGN=\"LEFT\"><font SIZE=\"-2\"> TAG </font></td>\n",
      "<td ALIGN=\"RIGHT\"><font SIZE=\"-2\"> 0.73 </font></td>\n",
      "<td ALIGN=\"RIGHT\"><font SIZE=\"-2\"> 0.17  </font></td>\n",
      "<td ALIGN=\"LEFT\"><font SIZE=\"-2\"> Gln </font></td>\n",
      "<td ALIGN=\"LEFT\"><font SIZE=\"-2\"> CAG </font></td>\n",
      "<td ALIGN=\"RIGHT\"><font SIZE=\"-2\"> 32.95 </font></td>\n",
      "<td ALIGN=\"RIGHT\"><font SIZE=\"-2\"> 0.73 </font></td>\n",
      "</tr>\n",
      "<tr><td ALIGN=\"LEFT\"><font SIZE=\"-2\"> Glu </font></td>\n",
      "<td ALIGN=\"LEFT\"><font SIZE=\"-2\"> GAA </font></td>\n",
      "<td ALIGN=\"RIGHT\"><font SIZE=\"-2\"> 27.51 </font></td>\n",
      "<td ALIGN=\"RIGHT\"><font SIZE=\"-2\"> 0.41  </font></td>\n",
      "<td ALIGN=\"LEFT\"><font SIZE=\"-2\"> Lys </font></td>\n",
      "<td ALIGN=\"LEFT\"><font SIZE=\"-2\"> AAA </font></td>\n",
      "<td ALIGN=\"RIGHT\"><font SIZE=\"-2\"> 22.32 </font></td>\n",
      "<td ALIGN=\"RIGHT\"><font SIZE=\"-2\"> 0.40  </font></td>\n",
      "<td ALIGN=\"LEFT\"><font SIZE=\"-2\"> End </font></td>\n",
      "<td ALIGN=\"LEFT\"><font SIZE=\"-2\"> TAA </font></td>\n",
      "<td ALIGN=\"RIGHT\"><font SIZE=\"-2\"> 0.95 </font></td>\n",
      "<td ALIGN=\"RIGHT\"><font SIZE=\"-2\"> 0.22  </font></td>\n",
      "<td ALIGN=\"LEFT\"><font SIZE=\"-2\"> Gln </font></td>\n",
      "<td ALIGN=\"LEFT\"><font SIZE=\"-2\"> CAA </font></td>\n",
      "<td ALIGN=\"RIGHT\"><font SIZE=\"-2\"> 11.94 </font></td>\n",
      "<td ALIGN=\"RIGHT\"><font SIZE=\"-2\"> 0.27 </font></td>\n",
      "</tr>\n",
      "<tr><td ALIGN=\"LEFT\"><font SIZE=\"-2\"> Asp </font></td>\n",
      "<td ALIGN=\"LEFT\"><font SIZE=\"-2\"> GAT </font></td>\n",
      "<td ALIGN=\"RIGHT\"><font SIZE=\"-2\"> 21.45 </font></td>\n",
      "<td ALIGN=\"RIGHT\"><font SIZE=\"-2\"> 0.44  </font></td>\n",
      "<td ALIGN=\"LEFT\"><font SIZE=\"-2\"> Asn </font></td>\n",
      "<td ALIGN=\"LEFT\"><font SIZE=\"-2\"> AAT </font></td>\n",
      "<td ALIGN=\"RIGHT\"><font SIZE=\"-2\"> 16.43 </font></td>\n",
      "<td ALIGN=\"RIGHT\"><font SIZE=\"-2\"> 0.44  </font></td>\n",
      "<td ALIGN=\"LEFT\"><font SIZE=\"-2\"> Tyr </font></td>\n",
      "<td ALIGN=\"LEFT\"><font SIZE=\"-2\"> TAT </font></td>\n",
      "<td ALIGN=\"RIGHT\"><font SIZE=\"-2\"> 11.80 </font></td>\n",
      "<td ALIGN=\"RIGHT\"><font SIZE=\"-2\"> 0.42  </font></td>\n",
      "<td ALIGN=\"LEFT\"><font SIZE=\"-2\"> His </font></td>\n",
      "<td ALIGN=\"LEFT\"><font SIZE=\"-2\"> CAT </font></td>\n",
      "<td ALIGN=\"RIGHT\"><font SIZE=\"-2\"> 9.56 </font></td>\n",
      "<td ALIGN=\"RIGHT\"><font SIZE=\"-2\"> 0.41 </font></td>\n",
      "</tr>\n",
      "<tr><td ALIGN=\"LEFT\"><font SIZE=\"-2\"> Asp </font></td>\n",
      "<td ALIGN=\"LEFT\"><font SIZE=\"-2\"> GAC </font></td>\n",
      "<td ALIGN=\"RIGHT\"><font SIZE=\"-2\"> 27.06 </font></td>\n",
      "<td ALIGN=\"RIGHT\"><font SIZE=\"-2\"> 0.56  </font></td>\n",
      "<td ALIGN=\"LEFT\"><font SIZE=\"-2\"> Asn </font></td>\n",
      "<td ALIGN=\"LEFT\"><font SIZE=\"-2\"> AAC </font></td>\n",
      "<td ALIGN=\"RIGHT\"><font SIZE=\"-2\"> 21.30 </font></td>\n",
      "<td ALIGN=\"RIGHT\"><font SIZE=\"-2\"> 0.56  </font></td>\n",
      "<td ALIGN=\"LEFT\"><font SIZE=\"-2\"> Tyr </font></td>\n",
      "<td ALIGN=\"LEFT\"><font SIZE=\"-2\"> TAC </font></td>\n",
      "<td ALIGN=\"RIGHT\"><font SIZE=\"-2\"> 16.48 </font></td>\n",
      "<td ALIGN=\"RIGHT\"><font SIZE=\"-2\"> 0.58  </font></td>\n",
      "<td ALIGN=\"LEFT\"><font SIZE=\"-2\"> His </font></td>\n",
      "<td ALIGN=\"LEFT\"><font SIZE=\"-2\"> CAC </font></td>\n",
      "<td ALIGN=\"RIGHT\"><font SIZE=\"-2\"> 14.00 </font></td>\n",
      "<td ALIGN=\"RIGHT\"><font SIZE=\"-2\"> 0.59 </font></td>\n",
      "</tr>\n",
      "<tr><td ALIGN=\"LEFT\"><font SIZE=\"-2\"> </font></td>\n",
      "<td ALIGN=\"LEFT\"><font SIZE=\"-2\"> </font></td>\n",
      "<td ALIGN=\"RIGHT\"><font SIZE=\"-2\"> </font></td>\n",
      "<td ALIGN=\"RIGHT\"><font SIZE=\"-2\"> </font></td>\n",
      "<td ALIGN=\"LEFT\"><font SIZE=\"-2\"> </font></td>\n",
      "<td ALIGN=\"LEFT\"><font SIZE=\"-2\"> </font></td>\n",
      "<td ALIGN=\"RIGHT\"><font SIZE=\"-2\"> </font></td>\n",
      "<td ALIGN=\"RIGHT\"><font SIZE=\"-2\"> </font></td>\n",
      "<td ALIGN=\"LEFT\"><font SIZE=\"-2\"> </font></td>\n",
      "<td ALIGN=\"LEFT\"><font SIZE=\"-2\"> </font></td>\n",
      "<td ALIGN=\"RIGHT\"><font SIZE=\"-2\"> </font></td>\n",
      "<td ALIGN=\"RIGHT\"><font SIZE=\"-2\"> </font></td>\n",
      "<td ALIGN=\"LEFT\"><font SIZE=\"-2\"> </font></td>\n",
      "<td ALIGN=\"LEFT\"><font SIZE=\"-2\"> </font></td>\n",
      "<td ALIGN=\"RIGHT\"><font SIZE=\"-2\"> </font></td>\n",
      "<td ALIGN=\"RIGHT\"><font SIZE=\"-2\"> </font></td>\n",
      "</tr>\n",
      "<tr><td ALIGN=\"LEFT\"><font SIZE=\"-2\"> Val </font></td>\n",
      "<td ALIGN=\"LEFT\"><font SIZE=\"-2\"> GTG </font></td>\n",
      "<td ALIGN=\"RIGHT\"><font SIZE=\"-2\"> 28.60 </font></td>\n",
      "<td ALIGN=\"RIGHT\"><font SIZE=\"-2\"> 0.48  </font></td>\n",
      "<td ALIGN=\"LEFT\"><font SIZE=\"-2\"> Met </font></td>\n",
      "<td ALIGN=\"LEFT\"><font SIZE=\"-2\"> ATG </font></td>\n",
      "<td ALIGN=\"RIGHT\"><font SIZE=\"-2\"> 21.86 </font></td>\n",
      "<td ALIGN=\"RIGHT\"><font SIZE=\"-2\"> 1.00  </font></td>\n",
      "<td ALIGN=\"LEFT\"><font SIZE=\"-2\"> Leu </font></td>\n",
      "<td ALIGN=\"LEFT\"><font SIZE=\"-2\"> TTG </font></td>\n",
      "<td ALIGN=\"RIGHT\"><font SIZE=\"-2\"> 11.43 </font></td>\n",
      "<td ALIGN=\"RIGHT\"><font SIZE=\"-2\"> 0.12  </font></td>\n",
      "<td ALIGN=\"LEFT\"><font SIZE=\"-2\"> Leu </font></td>\n",
      "<td ALIGN=\"LEFT\"><font SIZE=\"-2\"> CTG </font></td>\n",
      "<td ALIGN=\"RIGHT\"><font SIZE=\"-2\"> 39.93 </font></td>\n",
      "<td ALIGN=\"RIGHT\"><font SIZE=\"-2\"> 0.43 </font></td>\n",
      "</tr>\n",
      "<tr><td ALIGN=\"LEFT\"><font SIZE=\"-2\"> Val </font></td>\n",
      "<td ALIGN=\"LEFT\"><font SIZE=\"-2\"> GTA </font></td>\n",
      "<td ALIGN=\"RIGHT\"><font SIZE=\"-2\"> 6.09 </font></td>\n",
      "<td ALIGN=\"RIGHT\"><font SIZE=\"-2\"> 0.10  </font></td>\n",
      "<td ALIGN=\"LEFT\"><font SIZE=\"-2\"> Ile </font></td>\n",
      "<td ALIGN=\"LEFT\"><font SIZE=\"-2\"> ATA </font></td>\n",
      "<td ALIGN=\"RIGHT\"><font SIZE=\"-2\"> 6.05 </font></td>\n",
      "<td ALIGN=\"RIGHT\"><font SIZE=\"-2\"> 0.14  </font></td>\n",
      "<td ALIGN=\"LEFT\"><font SIZE=\"-2\"> Leu </font></td>\n",
      "<td ALIGN=\"LEFT\"><font SIZE=\"-2\"> TTA </font></td>\n",
      "<td ALIGN=\"RIGHT\"><font SIZE=\"-2\"> 5.55 </font></td>\n",
      "<td ALIGN=\"RIGHT\"><font SIZE=\"-2\"> 0.06  </font></td>\n",
      "<td ALIGN=\"LEFT\"><font SIZE=\"-2\"> Leu </font></td>\n",
      "<td ALIGN=\"LEFT\"><font SIZE=\"-2\"> CTA </font></td>\n",
      "<td ALIGN=\"RIGHT\"><font SIZE=\"-2\"> 6.42 </font></td>\n",
      "<td ALIGN=\"RIGHT\"><font SIZE=\"-2\"> 0.07 </font></td>\n",
      "</tr>\n",
      "<tr><td ALIGN=\"LEFT\"><font SIZE=\"-2\"> Val </font></td>\n",
      "<td ALIGN=\"LEFT\"><font SIZE=\"-2\"> GTT </font></td>\n",
      "<td ALIGN=\"RIGHT\"><font SIZE=\"-2\"> 10.30 </font></td>\n",
      "<td ALIGN=\"RIGHT\"><font SIZE=\"-2\"> 0.17  </font></td>\n",
      "<td ALIGN=\"LEFT\"><font SIZE=\"-2\"> Ile </font></td>\n",
      "<td ALIGN=\"LEFT\"><font SIZE=\"-2\"> ATT </font></td>\n",
      "<td ALIGN=\"RIGHT\"><font SIZE=\"-2\"> 15.03 </font></td>\n",
      "<td ALIGN=\"RIGHT\"><font SIZE=\"-2\"> 0.35  </font></td>\n",
      "<td ALIGN=\"LEFT\"><font SIZE=\"-2\"> Phe </font></td>\n",
      "<td ALIGN=\"LEFT\"><font SIZE=\"-2\"> TTT </font></td>\n",
      "<td ALIGN=\"RIGHT\"><font SIZE=\"-2\"> 15.36 </font></td>\n",
      "<td ALIGN=\"RIGHT\"><font SIZE=\"-2\"> 0.43  </font></td>\n",
      "<td ALIGN=\"LEFT\"><font SIZE=\"-2\"> Leu </font></td>\n",
      "<td ALIGN=\"LEFT\"><font SIZE=\"-2\"> CTT </font></td>\n",
      "<td ALIGN=\"RIGHT\"><font SIZE=\"-2\"> 11.24 </font></td>\n",
      "<td ALIGN=\"RIGHT\"><font SIZE=\"-2\"> 0.12 </font></td>\n",
      "</tr>\n",
      "<tr><td ALIGN=\"LEFT\"><font SIZE=\"-2\"> Val </font></td>\n",
      "<td ALIGN=\"LEFT\"><font SIZE=\"-2\"> GTC </font></td>\n",
      "<td ALIGN=\"RIGHT\"><font SIZE=\"-2\"> 15.01 </font></td>\n",
      "<td ALIGN=\"RIGHT\"><font SIZE=\"-2\"> 0.25  </font></td>\n",
      "<td ALIGN=\"LEFT\"><font SIZE=\"-2\"> Ile </font></td>\n",
      "<td ALIGN=\"LEFT\"><font SIZE=\"-2\"> ATC </font></td>\n",
      "<td ALIGN=\"RIGHT\"><font SIZE=\"-2\"> 22.47 </font></td>\n",
      "<td ALIGN=\"RIGHT\"><font SIZE=\"-2\"> 0.52  </font></td>\n",
      "<td ALIGN=\"LEFT\"><font SIZE=\"-2\"> Phe </font></td>\n",
      "<td ALIGN=\"LEFT\"><font SIZE=\"-2\"> TTC </font></td>\n",
      "<td ALIGN=\"RIGHT\"><font SIZE=\"-2\"> 20.72 </font></td>\n",
      "<td ALIGN=\"RIGHT\"><font SIZE=\"-2\"> 0.57  </font></td>\n",
      "<td ALIGN=\"LEFT\"><font SIZE=\"-2\"> Leu </font></td>\n",
      "<td ALIGN=\"LEFT\"><font SIZE=\"-2\"> CTC </font></td>\n",
      "<td ALIGN=\"RIGHT\"><font SIZE=\"-2\"> 19.14 </font></td>\n",
      "<td ALIGN=\"RIGHT\"><font SIZE=\"-2\"> 0.20 </font></td>\n",
      "</tr>\n",
      "<tr><td ALIGN=\"LEFT\"><font SIZE=\"-2\"> </font></td>\n",
      "<td ALIGN=\"LEFT\"><font SIZE=\"-2\"> </font></td>\n",
      "<td ALIGN=\"RIGHT\"><font SIZE=\"-2\"> </font></td>\n",
      "<td ALIGN=\"RIGHT\"><font SIZE=\"-2\"> </font></td>\n",
      "<td ALIGN=\"LEFT\"><font SIZE=\"-2\"> </font></td>\n",
      "<td ALIGN=\"LEFT\"><font SIZE=\"-2\"> </font></td>\n",
      "<td ALIGN=\"RIGHT\"><font SIZE=\"-2\"> </font></td>\n",
      "<td ALIGN=\"RIGHT\"><font SIZE=\"-2\"> </font></td>\n",
      "<td ALIGN=\"LEFT\"><font SIZE=\"-2\"> </font></td>\n",
      "<td ALIGN=\"LEFT\"><font SIZE=\"-2\"> </font></td>\n",
      "<td ALIGN=\"RIGHT\"><font SIZE=\"-2\"> </font></td>\n",
      "<td ALIGN=\"RIGHT\"><font SIZE=\"-2\"> </font></td>\n",
      "<td ALIGN=\"LEFT\"><font SIZE=\"-2\"> </font></td>\n",
      "<td ALIGN=\"LEFT\"><font SIZE=\"-2\"> </font></td>\n",
      "<td ALIGN=\"RIGHT\"><font SIZE=\"-2\"> </font></td>\n",
      "<td ALIGN=\"RIGHT\"><font SIZE=\"-2\"> </font></td>\n",
      "</tr>\n",
      "<tr><td ALIGN=\"LEFT\"><font SIZE=\"-2\"> Ala </font></td>\n",
      "<td ALIGN=\"LEFT\"><font SIZE=\"-2\"> GCG </font></td>\n",
      "<td ALIGN=\"RIGHT\"><font SIZE=\"-2\"> 7.27 </font></td>\n",
      "<td ALIGN=\"RIGHT\"><font SIZE=\"-2\"> 0.10  </font></td>\n",
      "<td ALIGN=\"LEFT\"><font SIZE=\"-2\"> Thr </font></td>\n",
      "<td ALIGN=\"LEFT\"><font SIZE=\"-2\"> ACG </font></td>\n",
      "<td ALIGN=\"RIGHT\"><font SIZE=\"-2\"> 6.80 </font></td>\n",
      "<td ALIGN=\"RIGHT\"><font SIZE=\"-2\"> 0.12  </font></td>\n",
      "<td ALIGN=\"LEFT\"><font SIZE=\"-2\"> Ser </font></td>\n",
      "<td ALIGN=\"LEFT\"><font SIZE=\"-2\"> TCG </font></td>\n",
      "<td ALIGN=\"RIGHT\"><font SIZE=\"-2\"> 4.38 </font></td>\n",
      "<td ALIGN=\"RIGHT\"><font SIZE=\"-2\"> 0.06  </font></td>\n",
      "<td ALIGN=\"LEFT\"><font SIZE=\"-2\"> Pro </font></td>\n",
      "<td ALIGN=\"LEFT\"><font SIZE=\"-2\"> CCG </font></td>\n",
      "<td ALIGN=\"RIGHT\"><font SIZE=\"-2\"> 7.02 </font></td>\n",
      "<td ALIGN=\"RIGHT\"><font SIZE=\"-2\"> 0.11 </font></td>\n",
      "</tr>\n",
      "<tr><td ALIGN=\"LEFT\"><font SIZE=\"-2\"> Ala </font></td>\n",
      "<td ALIGN=\"LEFT\"><font SIZE=\"-2\"> GCA </font></td>\n",
      "<td ALIGN=\"RIGHT\"><font SIZE=\"-2\"> 15.50 </font></td>\n",
      "<td ALIGN=\"RIGHT\"><font SIZE=\"-2\"> 0.22  </font></td>\n",
      "<td ALIGN=\"LEFT\"><font SIZE=\"-2\"> Thr </font></td>\n",
      "<td ALIGN=\"LEFT\"><font SIZE=\"-2\"> ACA </font></td>\n",
      "<td ALIGN=\"RIGHT\"><font SIZE=\"-2\"> 15.04 </font></td>\n",
      "<td ALIGN=\"RIGHT\"><font SIZE=\"-2\"> 0.27  </font></td>\n",
      "<td ALIGN=\"LEFT\"><font SIZE=\"-2\"> Ser </font></td>\n",
      "<td ALIGN=\"LEFT\"><font SIZE=\"-2\"> TCA </font></td>\n",
      "<td ALIGN=\"RIGHT\"><font SIZE=\"-2\"> 10.96 </font></td>\n",
      "<td ALIGN=\"RIGHT\"><font SIZE=\"-2\"> 0.15  </font></td>\n",
      "<td ALIGN=\"LEFT\"><font SIZE=\"-2\"> Pro </font></td>\n",
      "<td ALIGN=\"LEFT\"><font SIZE=\"-2\"> CCA </font></td>\n",
      "<td ALIGN=\"RIGHT\"><font SIZE=\"-2\"> 17.11 </font></td>\n",
      "<td ALIGN=\"RIGHT\"><font SIZE=\"-2\"> 0.27 </font></td>\n",
      "</tr>\n",
      "<tr><td ALIGN=\"LEFT\"><font SIZE=\"-2\"> Ala </font></td>\n",
      "<td ALIGN=\"LEFT\"><font SIZE=\"-2\"> GCT </font></td>\n",
      "<td ALIGN=\"RIGHT\"><font SIZE=\"-2\"> 20.23 </font></td>\n",
      "<td ALIGN=\"RIGHT\"><font SIZE=\"-2\"> 0.28  </font></td>\n",
      "<td ALIGN=\"LEFT\"><font SIZE=\"-2\"> Thr </font></td>\n",
      "<td ALIGN=\"LEFT\"><font SIZE=\"-2\"> ACT </font></td>\n",
      "<td ALIGN=\"RIGHT\"><font SIZE=\"-2\"> 13.24 </font></td>\n",
      "<td ALIGN=\"RIGHT\"><font SIZE=\"-2\"> 0.23  </font></td>\n",
      "<td ALIGN=\"LEFT\"><font SIZE=\"-2\"> Ser </font></td>\n",
      "<td ALIGN=\"LEFT\"><font SIZE=\"-2\"> TCT </font></td>\n",
      "<td ALIGN=\"RIGHT\"><font SIZE=\"-2\"> 13.51 </font></td>\n",
      "<td ALIGN=\"RIGHT\"><font SIZE=\"-2\"> 0.18  </font></td>\n",
      "<td ALIGN=\"LEFT\"><font SIZE=\"-2\"> Pro </font></td>\n",
      "<td ALIGN=\"LEFT\"><font SIZE=\"-2\"> CCT </font></td>\n",
      "<td ALIGN=\"RIGHT\"><font SIZE=\"-2\"> 18.03 </font></td>\n",
      "<td ALIGN=\"RIGHT\"><font SIZE=\"-2\"> 0.29 </font></td>\n",
      "</tr>\n",
      "<tr><td ALIGN=\"LEFT\"><font SIZE=\"-2\"> Ala </font></td>\n",
      "<td ALIGN=\"LEFT\"><font SIZE=\"-2\"> GCC </font></td>\n",
      "<td ALIGN=\"RIGHT\"><font SIZE=\"-2\"> 28.43 </font></td>\n",
      "<td ALIGN=\"RIGHT\"><font SIZE=\"-2\"> 0.40  </font></td>\n",
      "<td ALIGN=\"LEFT\"><font SIZE=\"-2\"> Thr </font></td>\n",
      "<td ALIGN=\"LEFT\"><font SIZE=\"-2\"> ACC </font></td>\n",
      "<td ALIGN=\"RIGHT\"><font SIZE=\"-2\"> 21.52 </font></td>\n",
      "<td ALIGN=\"RIGHT\"><font SIZE=\"-2\"> 0.38  </font></td>\n",
      "<td ALIGN=\"LEFT\"><font SIZE=\"-2\"> Ser </font></td>\n",
      "<td ALIGN=\"LEFT\"><font SIZE=\"-2\"> TCC </font></td>\n",
      "<td ALIGN=\"RIGHT\"><font SIZE=\"-2\"> 17.37 </font></td>\n",
      "<td ALIGN=\"RIGHT\"><font SIZE=\"-2\"> 0.23  </font></td>\n",
      "<td ALIGN=\"LEFT\"><font SIZE=\"-2\"> Pro </font></td>\n",
      "<td ALIGN=\"LEFT\"><font SIZE=\"-2\"> CCC </font></td>\n",
      "<td ALIGN=\"RIGHT\"><font SIZE=\"-2\"> 20.51 </font></td>\n",
      "<td ALIGN=\"RIGHT\"><font SIZE=\"-2\"> 0.33 </font></td>\n",
      "</tr>\n",
      "<tr><td></td>\n",
      "<td></td>\n",
      "<td></td>\n",
      "<td></td>\n",
      "<td></td>\n",
      "<td></td>\n",
      "<td></td>\n",
      "<td></td>\n",
      "<td></td>\n",
      "<td></td>\n",
      "<td></td>\n",
      "<td></td>\n",
      "<td></td>\n",
      "<td></td>\n",
      "<td></td>\n",
      "<td></td>\n",
      "</tr>\n",
      "<caption>\n",
      "<font size=1>\n",
      "<strong>Table 1:</strong>\n",
      "The human codon usage and codon preference table as published in \n",
      "<tt> <a href=\"http://bioinformatics.weizmann.ac.il/databases/codon\">Weizmann Institute of Science</a></tt>. For each \n",
      "codon, the table displays the frequency of usage of each codon (per thousand)\n",
      "in human coding regions (first column) and the relative frequency of each\n",
      "codon among synonymous codons (second column).\n",
      "</font>\n",
      "</caption>\n",
      "</table>\n",
      "</table>\n",
      "</center>"
     ]
    },
    {
     "cell_type": "markdown",
     "metadata": {},
     "source": [
      "Let $S$ a sequence of DNA, the higher the number of codons in $S$ matching the more frequent codons in the table, the *higher the coding potential* of the sequence $S$ (the probability to be encoding a protein). This value can be computed as: \n",
      "\n",
      "$$ \\frac{p(C_1)p(C_2)p(C_3)...p(C_m)}{\\frac{1}{64}\\frac{1}{64}\\frac{1}{64}...\\frac{1}{64}} $$\n",
      "\n",
      "where $p(C_1),p(C_2),p(C_3)...p(C_m)$ are the codons as $C_1=\\{ACC \\}$. \n",
      "\n",
      "This expression is known as *likelihood ratio* and it is usually computed in logarithmics terms to reduce the magnitude of the numbers (*log-likelihood ratio*). "
     ]
    },
    {
     "cell_type": "markdown",
     "metadata": {},
     "source": [
      "The file *propcodons.txt* contains the human codon usage table above in a format like"
     ]
    },
    {
     "cell_type": "raw",
     "metadata": {},
     "source": [
      "GGG 0.01708\n",
      "GGA 0.01931\n",
      "GGT 0.01366\n",
      "GGC 0.02494\n",
      "GAG 0.03882\n",
      "GAA 0.02751\n",
      "..."
     ]
    },
    {
     "cell_type": "markdown",
     "metadata": {},
     "source": [
      "The code snippet below reads this file and creates a dictionary (```codonprop```) containing the probabilities. "
     ]
    },
    {
     "cell_type": "code",
     "collapsed": false,
     "input": [
      "# Loads a file containing codon probabilities\n",
      "# into a dictionary called codonprop\n",
      "codonprop = {}\n",
      "with open(\"../data/propcodons.txt\") as f:\n",
      "    line = f.readline()\n",
      "    while line:\n",
      "        line = line.split()\n",
      "        codonprop[line[0]] = float(line[1])\n",
      "        line = f.readline()"
     ],
     "language": "python",
     "metadata": {},
     "outputs": [],
     "prompt_number": 50
    },
    {
     "cell_type": "markdown",
     "metadata": {},
     "source": [
      "**Note:** *We learn more about dealing with files next week.*"
     ]
    },
    {
     "cell_type": "markdown",
     "metadata": {},
     "source": [
      "You can access the probabilities using the codon you are looking for, like"
     ]
    },
    {
     "cell_type": "code",
     "collapsed": false,
     "input": [
      "print codonprop.get(\"ACT\", 1.0/64)"
     ],
     "language": "python",
     "metadata": {},
     "outputs": [
      {
       "output_type": "stream",
       "stream": "stdout",
       "text": [
        "0.01324\n"
       ]
      }
     ],
     "prompt_number": 89
    },
    {
     "cell_type": "markdown",
     "metadata": {},
     "source": [
      "<qq>Make a function ```coding_potential(seq)``` that computes the log-likelihood value of a sequence by following the instructions below</qq>"
     ]
    },
    {
     "cell_type": "markdown",
     "metadata": {},
     "source": [
      "<ol>\n",
      "<li>Go through the sequence in steps of three using an iterator $i$</li>\n",
      "    *Hint: Use the function ```range(start, stop[, step])```*\n",
      "<li>Read the $i^{th}$ codon into a variable using slicing.</li>\n",
      "<li>Compute the log likelihood of the sequence using $r = r + log(p_i) - log(1.0/64)$.</li>\n",
      "<li>Return the log likelihood value</li>\n",
      "</ol>"
     ]
    },
    {
     "cell_type": "code",
     "collapsed": false,
     "input": [
      "def coding_potential(seq):\n",
      "    \"\"\" Returns the coding potential of a DNA sequence \"\"\"\n",
      "    # Fill out the rest"
     ],
     "language": "python",
     "metadata": {},
     "outputs": [],
     "prompt_number": 13
    },
    {
     "cell_type": "code",
     "collapsed": false,
     "input": [
      "r = 0.0\n",
      "\n",
      "from math import log\n",
      "seq = intron\n",
      "bg = log(1.0/64)\n",
      "for i in range(0, len(seq), 3):\n",
      "    codon = seq[i:i+3]\n",
      "    if len(codon)==3:\n",
      "        #print codon, log(codonprop.get(codon, 1.0/64))\n",
      "        r += log(codonprop.get(codon, 1.0/64)) - bg\n",
      "#print r == -16.1315104493\n",
      "print r"
     ],
     "language": "python",
     "metadata": {},
     "outputs": [
      {
       "output_type": "stream",
       "stream": "stdout",
       "text": [
        "-14.3648279366\n"
       ]
      }
     ],
     "prompt_number": 171
    },
    {
     "cell_type": "markdown",
     "metadata": {},
     "source": [
      "To test the program we will use it on two different sequences, an exon and an intron:"
     ]
    },
    {
     "cell_type": "code",
     "collapsed": false,
     "input": [
      "exon = \"GCTGCTGGTGGTCTACCCTTGGACCCAGAGGTTCTTTGAGTCCTTTGGGGATCTGTCCACT\\\n",
      "CCTGATGCTGTTATGGGCAACCCTAAGGTGAAGGCTCATGGCAAGAAAGTGCTCGGTGCCT\\\n",
      "TTAGTGATGGCCTGGCTCACCTGGACAACCTCAAGGGCACCTTTGCCACACTGAGTGAGCT\\\n",
      "GCACTGTGACAAGCTGCACGTGGATCCTGAGAACTTCAGG\"\n",
      "\n",
      "intron = \"ATAACAATTGTTTTCTTTTGTTTAATTCTTGCTTTCTTTTTTTTTCTTCTCCGCAATTTTT\\\n",
      "ACTATTATACTTAATGCCTTAACATTGTGTATAACAAAAGGAAATATCTCTGAGATACATT\\\n",
      "AAGTAACTTAAAAAAAAACTTTACACAGTCTGCCTAGTACATTACTATTTGGAATATATGT\\\n",
      "GTGCTTATTTGCATATTCATAATCTCCCTACTTTATTTTC\""
     ],
     "language": "python",
     "metadata": {},
     "outputs": [],
     "prompt_number": 15
    },
    {
     "cell_type": "markdown",
     "metadata": {},
     "source": [
      "Call the functions using these sequences by running: "
     ]
    },
    {
     "cell_type": "code",
     "collapsed": false,
     "input": [
      "coding_potential(exon)"
     ],
     "language": "python",
     "metadata": {},
     "outputs": [],
     "prompt_number": 16
    },
    {
     "cell_type": "code",
     "collapsed": false,
     "input": [
      "coding_potential(intron)"
     ],
     "language": "python",
     "metadata": {},
     "outputs": [],
     "prompt_number": 17
    },
    {
     "cell_type": "markdown",
     "metadata": {},
     "source": [
      "The function should return approximately: \n",
      "    $$r_{exon} = -16.1315104493$$\n",
      "    $$r_{intron} = -14.3648279366$$"
     ]
    },
    {
     "cell_type": "markdown",
     "metadata": {},
     "source": [
      "Unfortunately, as you have seen, the log-likelihood value computed for both cases is very similar so that we can not distinguish among coding and non coding regions. As you know, a DNA sequence can be translated into a series of amino acids using three different reading frames and we are probably using the wrong frame right now. "
     ]
    },
    {
     "cell_type": "markdown",
     "metadata": {},
     "source": [
      "<qq>Copy your function ```coding_potential(seq)``` into the code block below and update it to compute the maximum coding potential of all three reading frames</qq>"
     ]
    },
    {
     "cell_type": "code",
     "collapsed": false,
     "input": [
      "def coding_potential(seq):\n",
      "    \"\"\" Returns the maximum coding potential of a DNA\n",
      "        sequence from all three reading frames. \"\"\"\n",
      "    # Paste code from coding_potential(seq) and update it"
     ],
     "language": "python",
     "metadata": {},
     "outputs": [],
     "prompt_number": 193
    },
    {
     "cell_type": "markdown",
     "metadata": {},
     "source": [
      "Call the functions using these sequences by running: "
     ]
    },
    {
     "cell_type": "code",
     "collapsed": false,
     "input": [
      "coding_potential(exon)"
     ],
     "language": "python",
     "metadata": {},
     "outputs": []
    },
    {
     "cell_type": "code",
     "collapsed": false,
     "input": [
      "coding_potential(intron)"
     ],
     "language": "python",
     "metadata": {},
     "outputs": [],
     "prompt_number": 18
    },
    {
     "cell_type": "markdown",
     "metadata": {},
     "source": [
      "Now your function should return approximately:\n",
      "    $$r_{exon} = 24.0645763143$$\n",
      "    $$r_{intron} = -14.3648279366$$\n"
     ]
    },
    {
     "cell_type": "code",
     "collapsed": false,
     "input": [
      "## REMOVE ME ##\n",
      "from math import log\n",
      "def coding_potential(seq):\n",
      "    bg = log(1.0/64)\n",
      "    r_max = -99.0\n",
      "    for rf in range(3):\n",
      "        r = 0.0\n",
      "        for i in range(0, len(seq), 3):\n",
      "            codon = seq[i+rf:i+rf+3]\n",
      "            if len(codon)==3:\n",
      "                #print codon, log(codonprop.get(codon, 1.0/64))\n",
      "                r += log(codonprop.get(codon, 1.0/64)) - bg\n",
      "        if r > r_max:\n",
      "            r_max = r\n",
      "    return r_max"
     ],
     "language": "python",
     "metadata": {},
     "outputs": [],
     "prompt_number": 199
    },
    {
     "cell_type": "code",
     "collapsed": false,
     "input": [
      "coding_potential(exon)"
     ],
     "language": "python",
     "metadata": {},
     "outputs": [
      {
       "metadata": {},
       "output_type": "pyout",
       "prompt_number": 203,
       "text": [
        "24.064576314294474"
       ]
      }
     ],
     "prompt_number": 203
    },
    {
     "cell_type": "markdown",
     "metadata": {},
     "source": [
      "In practice, the problem is not to determine the likelihood that a given sequence is coding or not, but to locate the (usually small) coding regions within large genomic sequences. The typical procedure is to compute the value of a coding statistic in successive (overlapped) sliding windows, and record the value of the statistic for each of the windows. This generates a profile along the sequence in which peaks may point to the coding regions and valleys to the non-coding ones. "
     ]
    },
    {
     "cell_type": "markdown",
     "metadata": {},
     "source": [
      "<qq>Create a function ```exon_predictor(seq, window, overlap)``` that computes the protein coding potential using sliding windows in the three reading frames at the same time. Follow these instructions:</qq>\n",
      "\n",
      "<ol>\n",
      "<li>Initialize a list $r$ to be filled up with log-likelihood ratios</li>\n",
      "<li>Make a loop that goes through all windows in the sequence shifted by the ```overlap``` size</li>\n",
      "*Hint: Use ```range(start, stop[, step])```*\n",
      "<li>Create a segment sequence corresponding to the ```window``` size using slicing</li>\n",
      "<li>Compute the maximum coding potential in this segment using ```coding_potential(seq)``` and append it to $r$</li>\n",
      "<li>Return $r$</li>"
     ]
    },
    {
     "cell_type": "code",
     "collapsed": false,
     "input": [
      "def exon_predictor(seq, window=120, overlap=10):\n",
      "    \"\"\" Returns the the log-likelihood ratio computed for \n",
      "        every [window] nucleotide windows, shifted by [overlap]  \n",
      "        nucleotides in the sequence seq.\"\"\" \n",
      "      \n",
      "    # INITIATE A LIST OF log-likelihood RATIOS\n",
      "    r = []\n",
      "    \n",
      "    # SCAN EVERY WINDOW IN THE SEQUENCE\n",
      "    for i in xrange(0, len(seq)-window, overlap):\n",
      "        # EXTRACT THE SEGMENT SEQUENCE CORRESPONDING TO THE WINDOW\n",
      "        seqwindow = seq[i:i+window]\n",
      "        # COMPUTE CODING POTENTIAL AND APPEND TO r\n",
      "        r.append ( coding_potential(seqwindow) )\n",
      "    \n",
      "    return r"
     ],
     "language": "python",
     "metadata": {},
     "outputs": [],
     "prompt_number": 237
    },
    {
     "cell_type": "markdown",
     "metadata": {},
     "source": [
      "To test our prediction tool we will use the sequence that encodes three exons of the Human $\\beta$-globin gene. To analyze this information, we can visualize the results in a graphical way using the program matplotlib. To do this, run the code below: "
     ]
    },
    {
     "cell_type": "code",
     "collapsed": false,
     "input": [
      "# READ DNA SEQUENCE FROM FASTA FILE\n",
      "from Bio import SeqIO\n",
      "with open(\"../data/human_beta_globin.fasta\") as f:\n",
      "    for record in SeqIO.parse(f, \"fasta\"):\n",
      "        seq = record # there is only 1 record.\n",
      "seq = str( seq.seq )\n",
      "\n",
      "# INITIALIZE MATPLOTLIB FUNCTIONALITY\n",
      "import matplotlib\n",
      "%pylab inline\n",
      "print \"(Ignore any warnings...)\"\n",
      "\n",
      "# PREDICTION PARAMETERS\n",
      "window = 120\n",
      "overlap = 10\n",
      "\n",
      "# COMPUTE AND PLOT PREDICTION\n",
      "x = range(0, len(seq)-window, overlap)\n",
      "y = exon_predictor(seq, window, overlap)\n",
      "bar ( x,y )\n"
     ],
     "language": "python",
     "metadata": {},
     "outputs": [
      {
       "output_type": "stream",
       "stream": "stdout",
       "text": [
        "Populating the interactive namespace from numpy and matplotlib\n",
        "(Ignore any warnings...)\n"
       ]
      },
      {
       "output_type": "stream",
       "stream": "stderr",
       "text": [
        "WARNING: pylab import has clobbered these variables: ['f', 'record']\n",
        "`%pylab --no-import-all` prevents importing * from pylab and numpy\n"
       ]
      },
      {
       "metadata": {},
       "output_type": "pyout",
       "prompt_number": 255,
       "text": [
        "<Container object of 194 artists>"
       ]
      },
      {
       "metadata": {},
       "output_type": "display_data",
       "png": "[encoded data removed]",
       "text": [
        "<matplotlib.figure.Figure at 0x9e53e10>"
       ]
      }
     ],
     "prompt_number": 255
    },
    {
     "cell_type": "markdown",
     "metadata": {},
     "source": [
      "Hopefully you will see a plot like this\n",
      "\n",
      "<img src=\"files/images/week3_exonintron.png\" />"
     ]
    },
    {
     "cell_type": "markdown",
     "metadata": {},
     "source": [
      "On this plot, it is easy to identify the three regions whose coding potential is positive. Check that those regions are the three real exons that were experimentally verified here: \n",
      "\n",
      "http://www.ebi.ac.uk/ena/data/view/V00499\n",
      "\n"
     ]
    },
    {
     "cell_type": "markdown",
     "metadata": {},
     "source": [
      "<q>[Optional] Conditional Expressions (Advanced)</q>\n",
      "\n",
      "Python can make some rather nice *conditional expressions* in a single line using the syntax\n",
      "\n",
      "    expression1 if condition else expression2\n",
      "\n",
      "An example is:"
     ]
    },
    {
     "cell_type": "code",
     "collapsed": false,
     "input": [
      "type = \"DNA\"\n",
      "bases = \"ATCG\" if type==\"DNA\" else \"AUCG\"\n",
      "print bases"
     ],
     "language": "python",
     "metadata": {},
     "outputs": [
      {
       "output_type": "stream",
       "stream": "stdout",
       "text": [
        "ATCG\n"
       ]
      }
     ],
     "prompt_number": 11
    },
    {
     "cell_type": "markdown",
     "metadata": {},
     "source": [
      "<qq>make a one-line command that can print the average of a list using</qq>\n",
      "\n",
      "    sum(A)/len(A)\n",
      "\n",
      "However, if the list is empty it should print \"N/A\". Test it on these two lists:"
     ]
    },
    {
     "cell_type": "code",
     "collapsed": false,
     "input": [
      "A = [1,2,3,4]\n",
      "B = []"
     ],
     "language": "python",
     "metadata": {},
     "outputs": [],
     "prompt_number": 4
    },
    {
     "cell_type": "code",
     "collapsed": false,
     "input": [
      "# Make one-liner here and try it with A and B.\n"
     ],
     "language": "python",
     "metadata": {},
     "outputs": [],
     "prompt_number": 3
    },
    {
     "cell_type": "markdown",
     "metadata": {},
     "source": [
      "---"
     ]
    },
    {
     "cell_type": "code",
     "collapsed": false,
     "input": [
      "from IPython.core.display import HTML\n",
      "\n",
      "\n",
      "def css_styling():\n",
      "    styles = open(\"../styles/custom.css\", \"r\").read()\n",
      "    return HTML(styles)\n",
      "css_styling()"
     ],
     "language": "python",
     "metadata": {},
     "outputs": [
      {
       "html": [
        "<style>\n",
        "    div.cell{\n",
        "        width:800px;\n",
        "        margin-left:16% !important;\n",
        "        margin-right:auto;\n",
        "    }\n",
        "    div.text_cell_render{\n",
        "        font-family: \"Helvetica Neue\", Arial, Helvetica, Geneva, sans-serif;\n",
        "        line-height: 145%;\n",
        "        font-size: 100%;\n",
        "        width:800px;\n",
        "        margin-left:auto;\n",
        "        margin-right:auto;\n",
        "    }\n",
        "    .CodeMirror{\n",
        "            font-family: \"Source Code Pro\", source-code-pro,Consolas, monospace;\n",
        "    }\n",
        "    div.CodeMirror{\n",
        "    \tfont-size: 11pt;\n",
        "    }\n",
        "    div.cell.border-box-sizing.code_cell{\n",
        "    \tpadding-left: 50px;\n",
        "    }\n",
        "    div.text_cell_input {\n",
        "    \tmargin-left: 50px;\n",
        "    }\n",
        "    .prompt{\n",
        "        display: None;\n",
        "    }\n",
        "    .text_cell_render h1 {\n",
        "        font-family: Helvetica, serif;\n",
        "        font-size: 30pt;\n",
        "        color: #274257;\n",
        "        text-transform: uppercase;\n",
        "        line-height: 100%;\n",
        "    }\n",
        "    .text_cell_render h2 {\n",
        "    \tmargin-top: 35px;\n",
        "        font-family: Helvetica, serif;\n",
        "        font-size: 24pt;\n",
        "        color: #2A75A9;\n",
        "        line-height: 100%;\n",
        "    }\n",
        "    .text_cell_render h3{\n",
        "    \tmargin-top: 35px;\n",
        "        font-family: Helvetica, serif;\n",
        "        font-size: 18pt;\n",
        "        color: #7EB5D6;\n",
        "        line-height: 100%;\n",
        "       }\n",
        "    .text_cell_render h4{\n",
        "    \tmargin-top: 35px;\n",
        "    \tfont-family: Helvetica, serif;\n",
        "        font-size: 14pt;\n",
        "        line-height: 100%;\n",
        "    }\n",
        "    .text_cell_render h5 {\n",
        "        font-weight: 300;\n",
        "        font-size: 22pt;\n",
        "        color: #4057A1;\n",
        "        font-style: italic;\n",
        "        margin-bottom: .5em;\n",
        "        margin-top: 0.5em;\n",
        "        display: block;\n",
        "        line-height: 100%;\n",
        "    }\n",
        "    \n",
        "    .warning{\n",
        "        color: rgb( 240, 20, 20 )\n",
        "        } \n",
        "    .wds {\n",
        "        background: none repeat scroll 0% 0% rgb(247, 247, 247);\n",
        "        padding: 0em 0em;\n",
        "        font-size: 11px;\n",
        "        font-family: Arial,Helvetica,sans-serif;\n",
        "        display: inline-block;\n",
        "        margin: 0px 0em;\n",
        "        white-space: nowrap;\n",
        "    }\n",
        "    cb {\n",
        "        background: none repeat scroll 0% 0% rgb(247, 247, 247);\n",
        "        padding: 0.1em 0.6em;\n",
        "        border: 1px solid rgb(204, 204, 204);\n",
        "        font-size: 11pt;\n",
        "        font-family: \"Source Code Pro\", source-code-pro,Consolas, monospace;\n",
        "        color: rgb(51, 51, 51);\n",
        "        box-shadow: 0px 1px 0px rgba(0, 0, 0, 0.2), 0px 0px 0px 2px rgb(255, 255, 255) inset;\n",
        "        border-radius: 3px 3px 3px 3px;\n",
        "        display: inline-block;\n",
        "        margin: 0px 0.1em;\n",
        "        line-height: 1.4;\n",
        "        white-space: nowrap;\n",
        "    }\n",
        "    q {\t\n",
        "        font-weight: 300;\n",
        "        font-size: 14pt;\n",
        "        color: #4057A1;\n",
        "        margin-bottom: .5em;\n",
        "        margin-top: 0.5em;\n",
        "        display: block;\n",
        "        font-family: \"Helvetica Neue\", Arial, Helvetica, Geneva, sans-serif;\n",
        "        line-height: 145%;\n",
        "        width:800px;\n",
        "        margin-left:auto;\n",
        "        margin-right:auto;\n",
        "    }\n",
        "    qq {\t\n",
        "        font-weight: 300;\n",
        "        font-size: 11pt;\n",
        "        color: #4057A1;\n",
        "        margin-bottom: .5em;\n",
        "        margin-top: 0.5em;\n",
        "        display: block;\n",
        "        font-family: \"Helvetica Neue\", Arial, Helvetica, Geneva, sans-serif;\n",
        "        line-height: 145%;\n",
        "        width:800px;\n",
        "        margin-left:auto;\n",
        "        margin-right:auto;\n",
        "    }\n",
        "    kbd {\n",
        "        background: none repeat scroll 0% 0% rgb(247, 247, 247);\n",
        "        padding: 0.1em 0.6em;\n",
        "        border: 1px solid rgb(204, 204, 204);\n",
        "        font-size: 11px;\n",
        "        font-family: Arial,Helvetica,sans-serif;\n",
        "        color: rgb(51, 51, 51);\n",
        "        box-shadow: 0px 1px 0px rgba(0, 0, 0, 0.2), 0px 0px 0px 2px rgb(255, 255, 255) inset;\n",
        "        border-radius: 3px 3px 3px 3px;\n",
        "        display: inline-block;\n",
        "        margin: 0px 0.1em;\n",
        "        text-shadow: 0px 1px 0px rgb(255, 255, 255);\n",
        "        line-height: 1.4;\n",
        "        white-space: nowrap;\n",
        "    }\n",
        "    ol {\n",
        "        list-style-type: decimal;\n",
        "    }\n",
        "\n",
        "\t.box_rotate {\n",
        "\t\t  -webkit-transform: rotate(270deg);  /* Chrome, Safari 3.1+ */\n",
        "\t\t     -moz-transform: rotate(270deg);  /* Firefox 3.5-15 */\n",
        "\t\t      -ms-transform: rotate(270deg);  /* IE 9 */\n",
        "\t\t       -o-transform: rotate(270deg);  /* Opera 10.50-12.00 */\n",
        "\t\t          transform: rotate(270deg);  /* Firefox 16+, IE 10+, Opera 12.10+ */\n",
        "\t}\n",
        "\n",
        "\t.vertical-text {\n",
        "\t\tdisplay: inline-block;\n",
        "\t\toverflow: hidden;\n",
        "\t\twidth: 1.5em;\n",
        "\t}\n",
        "\n",
        "\t.vertical-text__inner {\n",
        "\t\tdisplay: inline-block;\n",
        "\t\twhite-space: nowrap;\n",
        "\t\tline-height: 1.5;\n",
        "\t\t  -webkit-transform: rotate(270deg);  /* Chrome, Safari 3.1+ */\n",
        "\t\t     -moz-transform: rotate(270deg);  /* Firefox 3.5-15 */\n",
        "\t\t      -ms-transform: rotate(270deg);  /* IE 9 */\n",
        "\t\t       -o-transform: rotate(270deg);  /* Opera 10.50-12.00 */\n",
        "\t\t          transform: rotate(270deg);  /* Firefox 16+, IE 10+, Opera 12.10+ */\n",
        "\t}\n",
        "\n",
        "\t.vertical-text__inner:after {\n",
        "\t\tcontent: \"\";\n",
        "\t\tdisplay: block;\n",
        "\t\tmargin: -1.5em 0 100%;\n",
        "\t}\n",
        "\n",
        "\t.topics{\n",
        "\t\tbackground: url('files/images/topics.png') no-repeat scroll 0% 0%; \n",
        "\t\twidth: 520px; \n",
        "\t\theight: 250px; \n",
        "\n",
        "\t\tpadding-top: 35px;\n",
        "\t}\n",
        "\n",
        "\t.c_program{\n",
        "\t\tbackground: url('files/images/program.png') no-repeat scroll 0% 0%; width: 520px; margin-left: auto; margin-right: auto;\n",
        "\t}\n",
        "\n",
        "\t.c_require{\n",
        "\t\tbackground: url('files/images/software.png') no-repeat scroll 0% 0%; width: 520px; height: 250px; margin-left: auto; margin-right: auto;\n",
        "\t}\n",
        "\n",
        "</style>\n",
        "<script>\n",
        "    MathJax.Hub.Config({\n",
        "                        TeX: {\n",
        "                           extensions: [\"AMSmath.js\"]\n",
        "                           },\n",
        "                tex2jax: {\n",
        "                    inlineMath: [ ['$','$'], [\"\\\\(\",\"\\\\)\"] ],\n",
        "                    displayMath: [ ['$$','$$'], [\"\\\\[\",\"\\\\]\"] ]\n",
        "                },\n",
        "                displayAlign: 'center', // Change this to 'center' to center equations.\n",
        "                \"HTML-CSS\": {\n",
        "                    styles: {'.MathJax_Display': {\"margin\": 4}}\n",
        "                }\n",
        "        });\n",
        "</script>\n"
       ],
       "metadata": {},
       "output_type": "pyout",
       "prompt_number": 40,
       "text": [
        "<IPython.core.display.HTML at 0x1fbedd0>"
       ]
      }
     ],
     "prompt_number": 40
    },
    {
     "cell_type": "code",
     "collapsed": false,
     "input": [],
     "language": "python",
     "metadata": {},
     "outputs": []
    }
   ],
   "metadata": {}
  }
 ]
}