{
 "metadata": {
  "name": ""
 },
 "nbformat": 3,
 "nbformat_minor": 0,
 "worksheets": [
  {
   "cells": [
    {
     "cell_type": "markdown",
     "metadata": {},
     "source": [
      "# Week 03 - Exercises"
     ]
    },
    {
     "cell_type": "markdown",
     "metadata": {},
     "source": [
      "### Update this exercise before you begin!\n",
      "\n",
      "#### For Windows: \n",
      "\n",
      "Open the Git Shell <img src=\"files/images/gitshell.png\" /> icon (<b>not the blue one</b>). Type in \n",
      "\n",
      "<cb>cd cbs-python</cb><br />\n",
      "<cb>git checkout -f master</cb><br />\n",
      "<cb>git pull origin master</cb><br /><br  />\n",
      "\n",
      "#### For MAC and Linux:\n",
      "\n",
      "Open a terminal. Navigate to the course directory (Whereever you placed it):\n",
      "\n",
      "<cb>cd ~/Documents/Courses/cbs-python</cb><br/>\n",
      "\n",
      "Now update the folder using\n",
      "\n",
      "<cb>git checkout -f master</cb><br />\n",
      "<cb>git pull origin master</cb><br /><br  />"
     ]
    },
    {
     "cell_type": "markdown",
     "metadata": {},
     "source": [
      "### Exercises"
     ]
    },
    {
     "cell_type": "markdown",
     "metadata": {},
     "source": [
      "<q>Net charge of a Protein</q>\n",
      "\n",
      "Dictionary containing charges of individual amino acids"
     ]
    },
    {
     "cell_type": "code",
     "collapsed": false,
     "input": [
      "AACharge = {\"C\": -0.045,\n",
      "            \"D\": -0.999,\n",
      "            \"E\": -0.998,\n",
      "            \"H\": 0.091,\n",
      "            \"K\": 1.0,\n",
      "            \"R\": 1.0,\n",
      "            \"Y\": -0.001,}"
     ],
     "language": "python",
     "metadata": {},
     "outputs": [],
     "prompt_number": 4
    },
    {
     "cell_type": "markdown",
     "metadata": {},
     "source": [
      "<qq>Make a program that asks for a protein sequence and calculate the net charge using the dictionary above</qq>"
     ]
    },
    {
     "cell_type": "markdown",
     "metadata": {},
     "source": [
      "The program should:\n",
      "<ul>\n",
      "    <li>Verify that the inputted string is a valid protein sequence or otherwise print an error.</li>\n",
      "    <li>Take into account the charge from the free ends are -0.002 in total.</li>\n",
      "    <li>Print out the net charge of the protein sequence</li>\n",
      "</ul>\n",
      "\n",
      "The program should not take into account:\n",
      "<ul><li>surface accesibility, pH, cysteine disulfide bridges or amidation and acetylation.</li>\n",
      "</ul>"
     ]
    },
    {
     "cell_type": "code",
     "collapsed": false,
     "input": [
      "# Make the program here\n"
     ],
     "language": "python",
     "metadata": {},
     "outputs": []
    },
    {
     "cell_type": "markdown",
     "metadata": {},
     "source": [
      "<q>Obtaining reading frame and translating DNA sequence.</q>"
     ]
    },
    {
     "cell_type": "markdown",
     "metadata": {},
     "source": [
      "Exercise here...\n",
      "\n",
      "http://en.wikipedia.org/wiki/DNA_codon_table"
     ]
    },
    {
     "cell_type": "markdown",
     "metadata": {},
     "source": [
      "<q> Reading CSV files </q>\n",
      "While doing data processing work, it's very common to encounter a file type called CSV (Comma Seperated Values). All spreadsheets (excel, calc, etc.) can deal with these kind of files, so naturally we will too. An example of how the file looks can be seen below:\n",
      "\n",
      ">Header1,Header2,Header3<br />\n",
      "ID0001,119,AGKLLKWKADS<br />\n",
      "ID0002,502,LIPKLLWKLDS<br />\n",
      "ID0003,121,AGLLKWKAELD\n",
      "\n",
      "The seperator doesn't have to be comma, it can be anything (space, tab, colon, etc.). In this exercise we will use the file called genes.csv that is located in\n",
      "\n",
      "    \"../data/genes.csv\"\n",
      "\n",
      "The first few lines of the file look like"
     ]
    },
    {
     "cell_type": "raw",
     "metadata": {},
     "source": [
      "id      C1      C2\n",
      "RNF14   53.3653467074   57.6769478694\n",
      "HIF3A   97.6137236357   82.6390589476\n",
      "UBE2Q2  87.1419671327   87.0941947252\n",
      "RNF10   97.5804605484   89.5783896446\n",
      "RNF11   92.3869628906   93.0984191895\n",
      "GPAA1   420.552914254   380.074278466\n",
      "REM1    1.97558709979   0.196951888502\n",
      "REM2    22.4816515967   17.4021256492\n",
      "IMP4    199.170320839   177.519998163\n",
      "..."
     ]
    },
    {
     "cell_type": "markdown",
     "metadata": {},
     "source": [
      "<qq>Make a program that reads the file and arrange it in a suitable structure.</qq>"
     ]
    },
    {
     "cell_type": "code",
     "collapsed": false,
     "input": [
      "# Make program here"
     ],
     "language": "python",
     "metadata": {},
     "outputs": []
    },
    {
     "cell_type": "markdown",
     "metadata": {},
     "source": [
      "<q>Parsing fasta files</q>"
     ]
    },
    {
     "cell_type": "markdown",
     "metadata": {},
     "source": [
      "The fasta file <i>HIV-1_M-B.fasta</i> contains the protein sequences of Human immunodeficiency virus type 1 group M subtype B. The file is located in \n",
      "\n",
      "    \"../data/HIV-1_M-B.fasta\"\n",
      "\n",
      "The first few lines of the file look like"
     ]
    },
    {
     "cell_type": "raw",
     "metadata": {},
     "source": [
      ">sp|P03378|ENV_HV1A2 Envelope glycoprotein gp160 OS=Human immunodeficiency virus type 1 group M subtype B (isolate ARV2/SF2) GN=env PE=3 SV=1\n",
      "MKVKGTRRNYQHLWRWGTLLLGMLMICSATEKLWVTVYYGVPVWKEATTTLFCASDARAY\n",
      "DTEVHNVWATHACVPTDPNPQEVVLGNVTENFNMWKNNMVEQMQEDIISLWDQSLKPCVK\n",
      "LTPLCVTLNCTDLGKATNTNSSNWKEEIKGEIKNCSFNITTSIRDKIQKENALFRNLDVV\n",
      "PIDNASTTTNYTNYRLIHCNRSVITQACPKVSFEPIPIHYCTPAGFAILKCNNKTFNGKG\n",
      "PCTNVSTVQCTHGIRPIVSTQLLLNGSLAEEEVVIRSDNFTNNAKTIIVQLNESVAINCT\n",
      "RPNNNTRKSIYIGPGRAFHTTGRIIGDIRKAHCNISRAQWNNTLEQIVKKLREQFGNNKT\n",
      "..."
     ]
    },
    {
     "cell_type": "markdown",
     "metadata": {},
     "source": [
      "The header line follows the following construct:"
     ]
    },
    {
     "cell_type": "raw",
     "metadata": {},
     "source": [
      ">db|UniqueIdentifier|EntryName ProteinName OS=OrganismName[ GN=GeneName]PE=ProteinExistence SV=SequenceVersion"
     ]
    },
    {
     "cell_type": "markdown",
     "metadata": {},
     "source": [
      "<qq>Make a program that reads the HIV fasta file and stores the description and sequence of each protein in a structure like this</qq>"
     ]
    },
    {
     "cell_type": "markdown",
     "metadata": {},
     "source": [
      "<ol>\n",
      "    <li>[0] (<i>first protein</i>)</li>\n",
      "    <ul>\n",
      "        <li>\"DB\" : \"sp\"</li>\n",
      "        <li>\"AccNum\" : \"P03378\"</li>\n",
      "        <li>\"EntryName\" : \"ENV_HV1A2\"</li>\n",
      "        <li>\"ProtName\" : \"Envelope glycoprotein gp160\"</li>\n",
      "        <li>\"Organism\" : \"Human immunodeficiency virus type 1 group M subtype B\"</li>\n",
      "        <li>\"Sequence\" : \"MKVKGTRRNYQHLWRWG...\"</li>\n",
      "        <b>Optional (You don't have to do this):</b>\n",
      "        <li>\"Gene\" : \"env\"</li>\n",
      "        <li>\"PE\" : 3</li>\n",
      "        <li>\"SV\" : 1</li>\n",
      "    </ul>\n",
      "    <li>[1] (<i>second protein</i>)</li>\n",
      "    ...\n",
      "</ol>"
     ]
    },
    {
     "cell_type": "markdown",
     "metadata": {},
     "source": [
      "**hint**: *Here are some useful tools you can use*:\n",
      "\n",
      "1.\n",
      "\n",
      "    if line[0] == \">\": # checks if first character is \">\"\n",
      "    \n",
      "2.\n",
      "\n",
      "    line.split(\"|\") # seperates a string into substrings using \"|\" as separator\n",
      "\n",
      "3.\n",
      "\n",
      "    string.strip() # removes newline (\\n) from string\n",
      "\n",
      "4.\n",
      "\n",
      "    \"\".join( [\"a\", \"list\", \"of\", \"words\"] ) # joins a list of strings"
     ]
    },
    {
     "cell_type": "code",
     "collapsed": false,
     "input": [
      "# Make the program here\n"
     ],
     "language": "python",
     "metadata": {},
     "outputs": [],
     "prompt_number": 34
    },
    {
     "cell_type": "markdown",
     "metadata": {},
     "source": [
      "<q>Advanced: Conditional Expressions</q>\n",
      "\n",
      "    expression1 if condition else expression2\n"
     ]
    },
    {
     "cell_type": "code",
     "collapsed": false,
     "input": [
      "print \"My name is\", \"Hans\" if 1>2 else \"John\""
     ],
     "language": "python",
     "metadata": {},
     "outputs": [
      {
       "output_type": "stream",
       "stream": "stdout",
       "text": [
        "My name is John\n"
       ]
      }
     ],
     "prompt_number": 10
    },
    {
     "cell_type": "code",
     "collapsed": false,
     "input": [
      "A = [1,2,3,4]\n",
      "B = []"
     ],
     "language": "python",
     "metadata": {},
     "outputs": [],
     "prompt_number": 4
    },
    {
     "cell_type": "markdown",
     "metadata": {},
     "source": [
      "<qq>make a one-line command that can print the average of a list, A or B, using</qq>\n",
      "\n",
      "    sum(A)\n",
      "    len(A)\n",
      "\n",
      "if list is empty print \"N/A\""
     ]
    },
    {
     "cell_type": "markdown",
     "metadata": {},
     "source": [
      "---"
     ]
    },
    {
     "cell_type": "code",
     "collapsed": false,
     "input": [
      "from IPython.core.display import HTML\n",
      "\n",
      "\n",
      "def css_styling():\n",
      "    styles = open(\"../styles/custom.css\", \"r\").read()\n",
      "    return HTML(styles)\n",
      "css_styling()"
     ],
     "language": "python",
     "metadata": {},
     "outputs": [
      {
       "html": [
        "<style>\n",
        "    div.cell{\n",
        "        width:800px;\n",
        "        margin-left:16% !important;\n",
        "        margin-right:auto;\n",
        "    }\n",
        "    div.text_cell_render{\n",
        "        font-family: \"Helvetica Neue\", Arial, Helvetica, Geneva, sans-serif;\n",
        "        line-height: 145%;\n",
        "        font-size: 100%;\n",
        "        width:800px;\n",
        "        margin-left:auto;\n",
        "        margin-right:auto;\n",
        "    }\n",
        "    .CodeMirror{\n",
        "            font-family: \"Source Code Pro\", source-code-pro,Consolas, monospace;\n",
        "    }\n",
        "    div.CodeMirror{\n",
        "    \tfont-size: 11pt;\n",
        "    }\n",
        "    div.cell.border-box-sizing.code_cell{\n",
        "    \tpadding-left: 50px;\n",
        "    }\n",
        "    div.text_cell_input {\n",
        "    \tmargin-left: 50px;\n",
        "    }\n",
        "    .prompt{\n",
        "        display: None;\n",
        "    }\n",
        "    .text_cell_render h1 {\n",
        "        font-family: Helvetica, serif;\n",
        "        font-size: 30pt;\n",
        "        color: #274257;\n",
        "        text-transform: uppercase;\n",
        "        line-height: 100%;\n",
        "    }\n",
        "    .text_cell_render h2 {\n",
        "    \tmargin-top: 35px;\n",
        "        font-family: Helvetica, serif;\n",
        "        font-size: 24pt;\n",
        "        color: #2A75A9;\n",
        "        line-height: 100%;\n",
        "    }\n",
        "    .text_cell_render h3{\n",
        "    \tmargin-top: 35px;\n",
        "        font-family: Helvetica, serif;\n",
        "        font-size: 18pt;\n",
        "        color: #7EB5D6;\n",
        "        line-height: 100%;\n",
        "       }\n",
        "    .text_cell_render h4{\n",
        "    \tmargin-top: 35px;\n",
        "    \tfont-family: Helvetica, serif;\n",
        "        font-size: 14pt;\n",
        "        line-height: 100%;\n",
        "    }\n",
        "    .text_cell_render h5 {\n",
        "        font-weight: 300;\n",
        "        font-size: 22pt;\n",
        "        color: #4057A1;\n",
        "        font-style: italic;\n",
        "        margin-bottom: .5em;\n",
        "        margin-top: 0.5em;\n",
        "        display: block;\n",
        "        line-height: 100%;\n",
        "    }\n",
        "    \n",
        "    .warning{\n",
        "        color: rgb( 240, 20, 20 )\n",
        "        } \n",
        "    .wds {\n",
        "        background: none repeat scroll 0% 0% rgb(247, 247, 247);\n",
        "        padding: 0em 0em;\n",
        "        font-size: 11px;\n",
        "        font-family: Arial,Helvetica,sans-serif;\n",
        "        display: inline-block;\n",
        "        margin: 0px 0em;\n",
        "        white-space: nowrap;\n",
        "    }\n",
        "    cb {\n",
        "        background: none repeat scroll 0% 0% rgb(247, 247, 247);\n",
        "        padding: 0.1em 0.6em;\n",
        "        border: 1px solid rgb(204, 204, 204);\n",
        "        font-size: 11pt;\n",
        "        font-family: \"Source Code Pro\", source-code-pro,Consolas, monospace;\n",
        "        color: rgb(51, 51, 51);\n",
        "        box-shadow: 0px 1px 0px rgba(0, 0, 0, 0.2), 0px 0px 0px 2px rgb(255, 255, 255) inset;\n",
        "        border-radius: 3px 3px 3px 3px;\n",
        "        display: inline-block;\n",
        "        margin: 0px 0.1em;\n",
        "        line-height: 1.4;\n",
        "        white-space: nowrap;\n",
        "    }\n",
        "    q {\t\n",
        "        font-weight: 300;\n",
        "        font-size: 14pt;\n",
        "        color: #4057A1;\n",
        "        margin-bottom: .5em;\n",
        "        margin-top: 0.5em;\n",
        "        display: block;\n",
        "        font-family: \"Helvetica Neue\", Arial, Helvetica, Geneva, sans-serif;\n",
        "        line-height: 145%;\n",
        "        width:800px;\n",
        "        margin-left:auto;\n",
        "        margin-right:auto;\n",
        "    }\n",
        "    qq {\t\n",
        "        font-weight: 300;\n",
        "        font-size: 11pt;\n",
        "        color: #4057A1;\n",
        "        margin-bottom: .5em;\n",
        "        margin-top: 0.5em;\n",
        "        display: block;\n",
        "        font-family: \"Helvetica Neue\", Arial, Helvetica, Geneva, sans-serif;\n",
        "        line-height: 145%;\n",
        "        width:800px;\n",
        "        margin-left:auto;\n",
        "        margin-right:auto;\n",
        "    }\n",
        "    kbd {\n",
        "        background: none repeat scroll 0% 0% rgb(247, 247, 247);\n",
        "        padding: 0.1em 0.6em;\n",
        "        border: 1px solid rgb(204, 204, 204);\n",
        "        font-size: 11px;\n",
        "        font-family: Arial,Helvetica,sans-serif;\n",
        "        color: rgb(51, 51, 51);\n",
        "        box-shadow: 0px 1px 0px rgba(0, 0, 0, 0.2), 0px 0px 0px 2px rgb(255, 255, 255) inset;\n",
        "        border-radius: 3px 3px 3px 3px;\n",
        "        display: inline-block;\n",
        "        margin: 0px 0.1em;\n",
        "        text-shadow: 0px 1px 0px rgb(255, 255, 255);\n",
        "        line-height: 1.4;\n",
        "        white-space: nowrap;\n",
        "    }\n",
        "    ol {\n",
        "        list-style-type: decimal;\n",
        "    }\n",
        "\n",
        "\t.box_rotate {\n",
        "\t\t  -webkit-transform: rotate(270deg);  /* Chrome, Safari 3.1+ */\n",
        "\t\t     -moz-transform: rotate(270deg);  /* Firefox 3.5-15 */\n",
        "\t\t      -ms-transform: rotate(270deg);  /* IE 9 */\n",
        "\t\t       -o-transform: rotate(270deg);  /* Opera 10.50-12.00 */\n",
        "\t\t          transform: rotate(270deg);  /* Firefox 16+, IE 10+, Opera 12.10+ */\n",
        "\t}\n",
        "\n",
        "\t.vertical-text {\n",
        "\t\tdisplay: inline-block;\n",
        "\t\toverflow: hidden;\n",
        "\t\twidth: 1.5em;\n",
        "\t}\n",
        "\n",
        "\t.vertical-text__inner {\n",
        "\t\tdisplay: inline-block;\n",
        "\t\twhite-space: nowrap;\n",
        "\t\tline-height: 1.5;\n",
        "\t\t  -webkit-transform: rotate(270deg);  /* Chrome, Safari 3.1+ */\n",
        "\t\t     -moz-transform: rotate(270deg);  /* Firefox 3.5-15 */\n",
        "\t\t      -ms-transform: rotate(270deg);  /* IE 9 */\n",
        "\t\t       -o-transform: rotate(270deg);  /* Opera 10.50-12.00 */\n",
        "\t\t          transform: rotate(270deg);  /* Firefox 16+, IE 10+, Opera 12.10+ */\n",
        "\t}\n",
        "\n",
        "\t.vertical-text__inner:after {\n",
        "\t\tcontent: \"\";\n",
        "\t\tdisplay: block;\n",
        "\t\tmargin: -1.5em 0 100%;\n",
        "\t}\n",
        "\n",
        "\t.topics{\n",
        "\t\tbackground: url('files/images/topics.svg') no-repeat scroll 0% 0%; \n",
        "\t\twidth: 520px; \n",
        "\t\theight: 250px; \n",
        "\n",
        "\t\tpadding-top: 35px;\n",
        "\t}\n",
        "\n",
        "</style>\n",
        "<script>\n",
        "    MathJax.Hub.Config({\n",
        "                        TeX: {\n",
        "                           extensions: [\"AMSmath.js\"]\n",
        "                           },\n",
        "                tex2jax: {\n",
        "                    inlineMath: [ ['$','$'], [\"\\\\(\",\"\\\\)\"] ],\n",
        "                    displayMath: [ ['$$','$$'], [\"\\\\[\",\"\\\\]\"] ]\n",
        "                },\n",
        "                displayAlign: 'center', // Change this to 'center' to center equations.\n",
        "                \"HTML-CSS\": {\n",
        "                    styles: {'.MathJax_Display': {\"margin\": 4}}\n",
        "                }\n",
        "        });\n",
        "</script>\n"
       ],
       "output_type": "pyout",
       "prompt_number": 28,
       "text": [
        "<IPython.core.display.HTML at 0x43a0250>"
       ]
      }
     ],
     "prompt_number": 28
    }
   ],
   "metadata": {}
  }
 ]
}