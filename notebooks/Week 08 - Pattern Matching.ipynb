{
 "metadata": {
  "name": ""
 },
 "nbformat": 3,
 "nbformat_minor": 0,
 "worksheets": [
  {
   "cells": [
    {
     "cell_type": "markdown",
     "metadata": {},
     "source": [
      "# Week 08 - Pattern Matching\n",
      "\n",
      "<div class=\"topics\">\n",
      "    <div style=\"padding-left: 15px;\">\n",
      "        This lecture will cover:\n",
      "        \n",
      "        <ul>\n",
      "            <li>Mathching patterns in text</li>\n",
      "            <li>Decifering the regular expressions</li>\n",
      "        </ul>\n",
      "    </div>\n",
      "</div>\n",
      "\n"
     ]
    },
    {
     "cell_type": "markdown",
     "metadata": {},
     "source": [
      "## DISCLAIMER: Some Patience is Required\n",
      "\n",
      "This topic is quite technical and you can't absorb it all at once. You will need to come back to this periodically and explore it further. Be ambitious in experimenting with it. \n",
      "\n",
      ">More than most aspect of programming, learning to use regular expressions *requires experimentation*. Start by using the basics, and when you can't do what you want with what you already know, come back to the books and learn a little bit more.\n",
      "\n",
      "A few books covers this in the aspect of bioinformatics: \n",
      "\n",
      ">S. Bassi, *Python for Bioinformatics*, Chapter 9.<br/>\n",
      "M. Model, *Bioinformatics Programming Using Python*, Chapter 7.\n",
      "\n",
      "Okay, now we can get started!"
     ]
    },
    {
     "cell_type": "markdown",
     "metadata": {},
     "source": [
      "## Pattern Matching\n",
      "\n",
      "The tools we\u2019ve used so far let us ask coarse-grained questions about strings, such as \n",
      "\n",
      ">\u201cdoes this string contain the letter \u2018a\u2019?\u201d\n",
      "\n",
      "and\n",
      "\n",
      ">\u201cdoes this string have nine or more characters?\u201d\n",
      "\n",
      "Regular expressions are a language that lets us ask, in very nuanced ways, the question\n",
      "\n",
      ">***\u201cDoes the string look like this?\u201d***\n"
     ]
    },
    {
     "cell_type": "markdown",
     "metadata": {},
     "source": [
      "\n",
      "### The Sandwich Analogy\n",
      "This is a strange analogy, but it might be helpful for your understanding. You can think of your sandwich order at the deli as a kind of regular expression.\n",
      "\n",
      "<center>\n",
      "<img src=\"files/images/regex-sandwich.png\" width=\"500px\"/>\n",
      "</center>\n",
      "\n",
      "You\u2019re asking for a sandwich with its ingredients in a particular order: \u201ctwo slices of bread, with swiss, salami, and romaine in between.\u201d If you\u2019re getting a pre-made sandwich from the refridgerator, you might be less picky, and look instead for two slices of bread, with cheese, meat and lettuce in between. Maybe you\u2019re picking up a sandwich for a friend, who doesn\u2019t care whether or not the sandwich has lettuce: \u201ctwo slices of bread, with some kind of cheese and meat between them, and optionally lettuce.\u201d"
     ]
    },
    {
     "cell_type": "markdown",
     "metadata": {},
     "source": [
      "### You have probably already uesd it yourself\n",
      "\n",
      "In searching for files on your computer you have maybe stumbled upon the * character that has a special meaning. \n",
      "\n",
      "For example, in the ls command on a Mac we can use this * to list files that contains anything in its place. E.g."
     ]
    },
    {
     "cell_type": "code",
     "collapsed": false,
     "input": [
      "!ls Week*.ipynb"
     ],
     "language": "python",
     "metadata": {},
     "outputs": [
      {
       "output_type": "stream",
       "stream": "stdout",
       "text": [
        "Week 01 - About.ipynb\r\n",
        "Week 01 - Exercises.ipynb\r\n",
        "Week 01 - Getting Course Material.ipynb\r\n",
        "Week 01 - Installation.ipynb\r\n",
        "Week 01 - Introduction.ipynb\r\n",
        "Week 02 - Exercises_Solved.ipynb\r\n",
        "Week 02 - Mo' Python!.ipynb\r\n",
        "Week 03 - Exercises.ipynb\r\n",
        "Week 03 - Flow Control and functions.ipynb\r\n",
        "Week 04 - Dealing with Files.ipynb\r\n",
        "Week 04 - Exercises.ipynb\r\n",
        "Week 05 - Wrap-up session.ipynb\r\n",
        "Week 06 - Exercises.ipynb\r\n",
        "Week 06 - Generators and Error Handling.ipynb\r\n",
        "Week 07 - Classes.ipynb\r\n",
        "Week 07 - Exercises.ipynb\r\n",
        "Week 08 - Exercises.ipynb\r\n",
        "Week 08 - Pattern Matching.ipynb\r\n"
       ]
      }
     ],
     "prompt_number": 2
    },
    {
     "cell_type": "markdown",
     "metadata": {},
     "source": [
      "is a command-line regular expression that search for the pattern *\"Week\"-anything-\".ipynb\"* in file names and shows you a list using ls."
     ]
    },
    {
     "cell_type": "markdown",
     "metadata": {},
     "source": [
      "### Recognition sites of Restriction Enzymes: The Old Way\n",
      "With the tools we have worked with until now, we are able to make functions that can search a target for a given pattern:\n",
      "\n",
      "#### Match pattern in target:"
     ]
    },
    {
     "cell_type": "code",
     "collapsed": false,
     "input": [
      "def multi_match(target, patterns):\n",
      "    \"\"\" Return True if target begins with any of the strings in patterns\"\"\"\n",
      "    for pattern in patterns:\n",
      "        if target.startswith(pattern):\n",
      "            return True\n",
      "    return False"
     ],
     "language": "python",
     "metadata": {},
     "outputs": [],
     "prompt_number": 3
    },
    {
     "cell_type": "markdown",
     "metadata": {},
     "source": [
      "#### Find pattern in target"
     ]
    },
    {
     "cell_type": "code",
     "collapsed": false,
     "input": [
      "def multi_search(target, patterns):\n",
      "    \"\"\" Return the first position in target where\n",
      "    any of the strings in pattern is found \"\"\"\n",
      "    for pattern in patterns:\n",
      "        position = target.find(pattern)\n",
      "        if position >= 0:\n",
      "            return position    "
     ],
     "language": "python",
     "metadata": {},
     "outputs": [],
     "prompt_number": 4
    },
    {
     "cell_type": "markdown",
     "metadata": {},
     "source": [
      "This works very nice to find simple restriction sites of enzymes like the one below: \n",
      "\n",
      "<center>\n",
      "<img src=\"files/images/ecorii.png\" width=\"500px\"/>\n",
      "</center>\n",
      "\n",
      "We could find it in a target sequence using the ```multi_search()``` function above: "
     ]
    },
    {
     "cell_type": "code",
     "collapsed": false,
     "input": [
      "target = \"GCGACGGACGTTATGCCACGGAACGTTGACGAACTGATTGAACCTGGCAGGAAGCGT\"\n",
      "patterns = (\"CCAGG\", \"CCTGG\")\n",
      "\n",
      "multi_search(target, patterns)"
     ],
     "language": "python",
     "metadata": {},
     "outputs": [
      {
       "metadata": {},
       "output_type": "pyout",
       "prompt_number": 5,
       "text": [
        "42"
       ]
      }
     ],
     "prompt_number": 5
    },
    {
     "cell_type": "markdown",
     "metadata": {},
     "source": [
      "Indeed it does exist, at position 42+1 in the target DNA sequence. That went well. Not so many possibilities, now, are there? What about these examples:\n",
      "\n",
      "<center>\n",
      "<img src=\"files/images/dsai.png\" width=\"500px\" />\n",
      "</center>\n",
      "\n",
      "As you can see, suddenly the problem gets very comprehensive and we would have to make a pattern list of 4096 and even some two hundred thousand possibilities."
     ]
    },
    {
     "cell_type": "markdown",
     "metadata": {},
     "source": [
      "### Recognition sites of Restriction Enzymes: Using RegEx\n",
      "Regular expressions take a single pattern string to match a target. \n",
      "\n",
      "Inside this string, we can manage this \"combinatorial explosion\" of possibilities by specifying a ***character set*** rather than a single character. \n",
      "\n",
      "Let's see how it works with the restriction enzymes above.\n",
      "\n",
      "A regular expression for DsaI would look like:\n",
      "\n",
      "    'CC[CA][TC]GG'\n",
      "    \n",
      "For SecI it would look like:\n",
      "\n",
      "    'CC[TCGA][TCGA]GG'\n",
      "\n",
      "and for CjuI it would be represented as:\n",
      "\n",
      "    'CA[CT][TCGA][TCGA][TCGA][TCGA][TCGA][GA]GG'\n",
      "    \n",
      "With a single pattern we have defined all the 4,096 possibilities of the CjuI restriction enzyme. Nice, isn't it? "
     ]
    },
    {
     "cell_type": "markdown",
     "metadata": {},
     "source": [
      "### Testing Regular Expressions\n",
      "Working out hte details of the regular expressions you need for a particular task can be frustrating. It is easiest to design and test regular expressions outside of Python before putting them into a program. \n",
      "\n",
      "An excellent interactive website for testing regular expressions can be found at <br /> <br />\n",
      "\n",
      "<center>\n",
      "http://re-try.appspot.com/\n",
      "</center><br />\n",
      "\n",
      "Go ahead and try it out. Put in the ```target``` sequence be made above into the \"Text\"-field and put in one of the regular expressions above in the \"Regular expression\"-field. "
     ]
    },
    {
     "cell_type": "markdown",
     "metadata": {},
     "source": [
      "### Using the Python ```re``` Module\n",
      "The overall workflow of regular expressions in Python can be seen here, in not too much detail.<br /><br />\n",
      "<center>\n",
      "<img src=\"files/images/regex.png\" width=\"800px\" />\n",
      "</center>\n",
      "\n",
      "\n",
      "#### Functions\n",
      "\n",
      "First, we\u2019ll look at some of the re module\u2019s functions:\n",
      "\n",
      "    re.match(pattern, target)\n",
      "\n",
      "Returns a match object if the regular expression pattern matches zero or more\n",
      "characters starting at the beginning of the target string\n",
      "\n",
      "    re.search(pattern, target)\n",
      "\n",
      "Returns a match object for the first place in the target string that pattern matches\n",
      "\n",
      "    re.findall(pattern, target)\n",
      "\n",
      "Returns a list of all nonoverlapping matches in target as a list of strings or, if the pattern included groups, a list of lists of strings\n",
      "\n",
      "    re.finditer(pattern, target)\n",
      "\n",
      "Returns an iterator that produces a match object for each place in target that\n",
      "pattern matches\n",
      "\n",
      "    re.split(pattern, target[, maxsplit=0])\n",
      "\n",
      "Returns a list of strings obtained by splitting the target at each place where\n",
      "pattern matches, up to maxsplit splits (all if 0 or omitted)\n",
      "\n",
      "    re.sub(pattern, replacement, target[, count=0])\n",
      "\n",
      "Returns the string obtained by replacing each match of pattern to target with\n",
      "replacement, up to count matches (all if 0 or omitted)\n",
      "\n",
      "    re.subn(pattern, replacement, target[, count=0])\n",
      "\n",
      "Performs the same actions as re.sub, but returns a tuple (newstring, number), where newstring is the string "
     ]
    },
    {
     "cell_type": "markdown",
     "metadata": {},
     "source": [
      "#### Results of the Functions (Match Object)\n",
      "\n",
      "***Match Object Fields***\n",
      "\n",
      "Match object fields are accessed directly using dot notation. That is, if mobj is a match object, the startpos field will be accessed as mobj.startpos. The fields include:\n",
      "\n",
      "    match.startpos\n",
      "\n",
      "The value of startpos passed to the function or method that returned the match\n",
      "object\n",
      "\n",
      "    match.endpos\n",
      "\n",
      "The value of endpos passed to the function or method that returned the match\n",
      "object\n",
      "    \n",
      "    match.re\n",
      "\n",
      "The regular expression passed to the function or method that returned the match\n",
      "object\n",
      "\n",
      "    match.string\n",
      "\n",
      "The target passed to the function or method that returned the match object\n",
      "\n",
      "    match.lastindex\n",
      "\n",
      "The index (integer) of the last group in the match, or None if there were no groups\n",
      "\n",
      "***Match Object Methods***\n",
      "\n",
      "Match object methods include the following. In any match object method with group numbers as parameters, 0 refers to the entire match, 1 to the first parenthesized group in the match, 2 to the second, and so on:\n",
      "\n",
      "    match.group([groupnumber1 [, groupnumber2 [, ....]]])\n",
      "\n",
      "With no arguments, returns the entire match; with one argument returns the string that matched the corresponding group number, and with multiple arguments returns a tuple with the strings corresponding to the specified groups\n",
      "\n",
      "    match.groups([default])\n",
      "\n",
      "Returns a tuple containing all the groups of the match; for any group in the pattern that was not used in matching the target, the value in the tuple will be default (or None if not specified)\n",
      "\n",
      "    match.start([groupnumber])\n",
      "\n",
      "Returns the starting position of the target string that was matched by the group\n",
      "with index groupnumber; with no arguments, returns the whole part of the target\n",
      "that was matched\n",
      "\n",
      "    match.end([groupnumber])\n",
      "\n",
      "Returns the ending position of the target string that was matched by the group with index groupnumber; with no arguments, returns the whole part of the target that was matched\n",
      "    \n",
      "    match.span([groupnumber])\n",
      "\n",
      "Returns the pair (startpos, endpos) corresponding to the range of the target string that was matched by the group with index groupnumber; with no arguments, returns the first and last position of the whole part of the target that was matched\n",
      "\n",
      "    match.expand(string)\n",
      "\n",
      "Performs \u201cbackslash substitution\u201d like the regular expression object sub method,\n",
      "but also replaces each occurrence of \\1, \\2, etc., in string with the value of the corresponding matched group"
     ]
    },
    {
     "cell_type": "markdown",
     "metadata": {},
     "source": [
      "### Example: The Restriction Enzymes\n",
      "\n",
      "To begin with we need to import the re module "
     ]
    },
    {
     "cell_type": "code",
     "collapsed": false,
     "input": [
      "import re"
     ],
     "language": "python",
     "metadata": {},
     "outputs": [],
     "prompt_number": 6
    },
    {
     "cell_type": "markdown",
     "metadata": {},
     "source": [
      "Next we need to prepare the target and pattern. We already have a target"
     ]
    },
    {
     "cell_type": "code",
     "collapsed": false,
     "input": [
      " target"
     ],
     "language": "python",
     "metadata": {},
     "outputs": [
      {
       "metadata": {},
       "output_type": "pyout",
       "prompt_number": 7,
       "text": [
        "'GCGACGGACGTTATGCCACGGAACGTTGACGAACTGATTGAACCTGGCAGGAAGCGT'"
       ]
      }
     ],
     "prompt_number": 7
    },
    {
     "cell_type": "markdown",
     "metadata": {},
     "source": [
      "The pattern can be one of the restriction enzymes"
     ]
    },
    {
     "cell_type": "code",
     "collapsed": false,
     "input": [
      "pattern = \"CC[CA][TC]GG\""
     ],
     "language": "python",
     "metadata": {},
     "outputs": [],
     "prompt_number": 8
    },
    {
     "cell_type": "markdown",
     "metadata": {},
     "source": [
      "Let's try to find all patterns in the target"
     ]
    },
    {
     "cell_type": "code",
     "collapsed": false,
     "input": [
      "print re.findall(pattern, target)"
     ],
     "language": "python",
     "metadata": {},
     "outputs": [
      {
       "output_type": "stream",
       "stream": "stdout",
       "text": [
        "['CCACGG']\n"
       ]
      }
     ],
     "prompt_number": 9
    },
    {
     "cell_type": "markdown",
     "metadata": {},
     "source": [
      "Or alternatively search for the pattern to get a Match Object"
     ]
    },
    {
     "cell_type": "code",
     "collapsed": false,
     "input": [
      "print re.search(pattern, target)"
     ],
     "language": "python",
     "metadata": {},
     "outputs": [
      {
       "output_type": "stream",
       "stream": "stdout",
       "text": [
        "<_sre.SRE_Match object at 0x2474168>\n"
       ]
      }
     ],
     "prompt_number": 10
    },
    {
     "cell_type": "code",
     "collapsed": false,
     "input": [
      "match = re.search(pattern, target)"
     ],
     "language": "python",
     "metadata": {},
     "outputs": [],
     "prompt_number": 11
    },
    {
     "cell_type": "markdown",
     "metadata": {},
     "source": [
      "Now we can use the Match Object to get more information about the match"
     ]
    },
    {
     "cell_type": "code",
     "collapsed": false,
     "input": [
      "match.group()"
     ],
     "language": "python",
     "metadata": {},
     "outputs": [
      {
       "metadata": {},
       "output_type": "pyout",
       "prompt_number": 12,
       "text": [
        "'CCACGG'"
       ]
      }
     ],
     "prompt_number": 12
    },
    {
     "cell_type": "code",
     "collapsed": false,
     "input": [
      "match.start()"
     ],
     "language": "python",
     "metadata": {},
     "outputs": [
      {
       "metadata": {},
       "output_type": "pyout",
       "prompt_number": 13,
       "text": [
        "15"
       ]
      }
     ],
     "prompt_number": 13
    },
    {
     "cell_type": "code",
     "collapsed": false,
     "input": [
      "match.end()"
     ],
     "language": "python",
     "metadata": {},
     "outputs": [
      {
       "metadata": {},
       "output_type": "pyout",
       "prompt_number": 14,
       "text": [
        "21"
       ]
      }
     ],
     "prompt_number": 14
    },
    {
     "cell_type": "code",
     "collapsed": false,
     "input": [
      "match.re"
     ],
     "language": "python",
     "metadata": {},
     "outputs": [
      {
       "metadata": {},
       "output_type": "pyout",
       "prompt_number": 15,
       "text": [
        "re.compile(r'CC[CA][TC]GG')"
       ]
      }
     ],
     "prompt_number": 15
    },
    {
     "cell_type": "markdown",
     "metadata": {},
     "source": [
      "### Compiling the Regular Expression\n",
      "The ```re.compile``` function returns a regular expression object with a compiled version of the pattern. \n",
      "\n",
      "All it means, is that instead of making the regular expression machinery every time there is a new target sequence, it is good practice to do it just once. Using the compiled version is more efficient. It works like this:\n",
      "\n",
      "    re.compile(pattern)\n",
      "\n",
      "Returns a regular expression object constructed from pattern.\n",
      "\n",
      "Now, if we have multiple target sequences"
     ]
    },
    {
     "cell_type": "code",
     "collapsed": false,
     "input": [
      "targets = [\n",
      "    \"GCGACGGACGTTATGCCACGGAACGTTGACGAACTGATTGAACCTGGCAGGAAGCGT\",\n",
      "    \"GCGACGGACATTATGCGGCGGAACGTAGACGAACTGATAGAAACTGGCAGGAAGCGT\",\n",
      "    \"GCGACGGACGTTATGCCAGGGAAGGTTGACGAACTCATTGAACCAGGCAGGAAGCGT\",\n",
      "    \"GCGACGGACGTTATGCCATGGAACGTTGACGAACTGATTGAACCTGGCAGGAAGCGT\"\n",
      "    ]"
     ],
     "language": "python",
     "metadata": {},
     "outputs": [],
     "prompt_number": 16
    },
    {
     "cell_type": "markdown",
     "metadata": {},
     "source": [
      "we can go through them all, without compiling the regular expression each time is is used"
     ]
    },
    {
     "cell_type": "code",
     "collapsed": false,
     "input": [
      "regexobj = re.compile(pattern) # This is done once!\n",
      "\n",
      "for target in targets:\n",
      "    print regexobj.findall(target)"
     ],
     "language": "python",
     "metadata": {},
     "outputs": [
      {
       "output_type": "stream",
       "stream": "stdout",
       "text": [
        "['CCACGG']\n",
        "[]\n",
        "[]\n",
        "['CCATGG']\n"
       ]
      }
     ],
     "prompt_number": 17
    },
    {
     "cell_type": "markdown",
     "metadata": {},
     "source": [
      "As you can see, the methods are the same as the functions above, only now we don't have to specify the pattern each time:\n",
      "\n",
      "    regexobj.match(target)\n",
      "\n",
      "    regexobj.search(target)\n",
      "\n",
      "    regexobj.findall(target)\n",
      "\n",
      "    regexobj.finditer(target)\n",
      "\n",
      "    regexobj.split(target[, maxsplit=0])\n",
      "\n",
      "    regexobj.sub(replacement, target[, count=0])\n",
      "\n",
      "    regexobj.subn(replacement, target[, count=0])"
     ]
    },
    {
     "cell_type": "markdown",
     "metadata": {},
     "source": [
      "\n",
      "### More of the Syntax\n",
      "Here are a few other character sets in regular expressions:\n",
      "\n",
      "<table>\n",
      "    <tr><td>**Pattern**</td><td>**Matches**</td></tr>\n",
      "    <tr><td>[ATCG]</td><td>One DNA base character</td></tr>\n",
      "    <tr><td>[A-Za-z_]</td><td>One letter or underscore</td></tr>\n",
      "    <tr><td>[^0-9]</td><td>Any Character *except* a digit</td></tr>\n",
      "    <tr><td>[-+/\\*^]</td><td>Any of -, +, /, * or ^.</td></tr>\n",
      "    <tr><td>[0-9\\t]</td><td>A digit or a tab</td></tr>\n",
      "    <tr><td>.</td><td>Any character</td></tr>\n",
      "</table>\n",
      "\n",
      "The regular expression syntax also offers some notations for ***character classes***. They represent a group of characters, such as digits, words etc.\n",
      "\n",
      "<table>\n",
      "    <tr><td>**Character**</td><td>**Matches**</td></tr>\n",
      "    <tr><td>\\d</td><td>Any digit</td></tr>\n",
      "    <tr><td>\\D</td><td>Any non-digit</td></tr>\n",
      "    <tr><td>\\s</td><td>Any whitespace character</td></tr>\n",
      "    <tr><td>\\S</td><td>Any non-whitespace character</td></tr>\n",
      "    <tr><td>\\w</td><td>Any character considered part of a word</td></tr>\n",
      "    <tr><td>\\W</td><td>Any character not considered part of a word</td></tr>\n",
      "</table>\n",
      "\n",
      "There is regular expressions to indicate the beginning or end of a target, line within a target or word. These ***boundary indicators*** are a bit unusual as they do not match any character: they just indicate the position within the target\n",
      "\n",
      "<table>\n",
      "    <tr><td>**Character**</td><td>**Matches**</td></tr>\n",
      "    <tr><td>^</td><td>The start of a line</td></tr>\n",
      "    <tr><td>$</td><td>The end of a line</td></tr>\n",
      "    <tr><td>\\b</td><td>The beginning of a word</td></tr>\n",
      "    <tr><td>\\B</td><td>Anywhere *except* the beginning of a word</td></tr>\n",
      "</table>\n",
      "\n",
      "For instance to match CG in the beginning of a line or string we could use\n",
      "\n",
      "    '^CG'\n",
      "\n",
      "or to match TATATA in the end of a string we could use\n",
      "\n",
      "    'TATATA$'"
     ]
    },
    {
     "cell_type": "markdown",
     "metadata": {},
     "source": [
      "### Variable-Length Matching\n",
      "In regular expressions we can allow the pattern to be of variable length using ***repitition characters***. Each of these characters refers to the regular expression that directly precedes it.\n",
      "\n",
      "<table>\n",
      "    <tr><td>**Character**</td><td>**Matches**</td></tr>\n",
      "    <tr><td>?</td><td>Zero or one repitition</td></tr>\n",
      "    <tr><td>\\*</td><td>Zero or *more* repititions</td></tr>\n",
      "    <tr><td>+</td><td>One or more repitition</td></tr>\n",
      "    <tr><td>{n}</td><td>Exactly *n* repititions</td></tr>\n",
      "    <tr><td>{m,n}</td><td>Between *m* and *n* repititions</td></tr>\n",
      "</table>\n",
      "\n",
      "Here are some examples where we revisit the patterns for the restriction enzymes above. This time we can use the repitition characters to collapse the patterns even more:\n",
      "\n",
      "For SecI it would look like:\n",
      "\n",
      "    'CC[TCGA]{2}GG'\n",
      "\n",
      "and for CjuI it would be represented as:\n",
      "\n",
      "    'CA[CT][TCGA]{5}[GA]GG'\n",
      "    \n",
      "We can also do things like matching any TA repeat between 3 and 8\n",
      "\n",
      "    '(TA){3,8}'\n",
      "\n",
      "which would match TATATA and TATATATATATA."
     ]
    },
    {
     "cell_type": "markdown",
     "metadata": {},
     "source": [
      "## Update the exercise!\n",
      "** !!! Before you do anything, backup your exercises !!! **\n",
      "#### For Windows: \n",
      "\n",
      "Open the Git Shell <img src=\"files/images/gitshell.png\" /> icon (<b>not the blue one</b>). Type in \n",
      "\n",
      "<cb>cd cbs-python</cb><br />\n",
      "<cb>git checkout -f master</cb><br />\n",
      "<cb>git pull origin master</cb><br /><br  />\n",
      "\n",
      "#### For MAC and Linux:\n",
      "\n",
      "Open a terminal. Navigate to the course directory (Whereever you placed it):\n",
      "\n",
      "<cb>cd ~/Documents/Courses/cbs-python</cb><br/>\n",
      "\n",
      "Now update the folder using\n",
      "\n",
      "<cb>git checkout -f master</cb><br />\n",
      "<cb>git pull origin master</cb><br /><br  />"
     ]
    },
    {
     "cell_type": "code",
     "collapsed": false,
     "input": [
      "from IPython.core.display import HTML\n",
      "\n",
      "\n",
      "def css_styling():\n",
      "    styles = open(\"../styles/custom.css\", \"r\").read()\n",
      "    return HTML(styles)\n",
      "css_styling()"
     ],
     "language": "python",
     "metadata": {},
     "outputs": [
      {
       "html": [
        "<style>\n",
        "    div.cell{\n",
        "        width:800px;\n",
        "        margin-left:16% !important;\n",
        "        margin-right:auto;\n",
        "    }\n",
        "    div.text_cell_render{\n",
        "        font-family: \"Helvetica Neue\", Arial, Helvetica, Geneva, sans-serif;\n",
        "        line-height: 145%;\n",
        "        font-size: 100%;\n",
        "        width:800px;\n",
        "        margin-left:auto;\n",
        "        margin-right:auto;\n",
        "    }\n",
        "    .CodeMirror{\n",
        "            font-family: \"Source Code Pro\", source-code-pro,Consolas, monospace;\n",
        "    }\n",
        "    div.CodeMirror{\n",
        "    \tfont-size: 11pt;\n",
        "    }\n",
        "    div.cell.border-box-sizing.code_cell{\n",
        "    \tpadding-left: 50px;\n",
        "    }\n",
        "    div.text_cell_input {\n",
        "    \tmargin-left: 50px;\n",
        "    }\n",
        "    .prompt{\n",
        "        display: None;\n",
        "    }\n",
        "    .text_cell_render h1 {\n",
        "        font-family: Helvetica, serif;\n",
        "        font-size: 30pt;\n",
        "        color: #274257;\n",
        "        text-transform: uppercase;\n",
        "        line-height: 100%;\n",
        "    }\n",
        "    .text_cell_render h2 {\n",
        "    \tmargin-top: 35px;\n",
        "        font-family: Helvetica, serif;\n",
        "        font-size: 24pt;\n",
        "        color: #2A75A9;\n",
        "        line-height: 100%;\n",
        "    }\n",
        "    .text_cell_render h3{\n",
        "    \tmargin-top: 35px;\n",
        "        font-family: Helvetica, serif;\n",
        "        font-size: 18pt;\n",
        "        color: #7EB5D6;\n",
        "        line-height: 100%;\n",
        "       }\n",
        "    .text_cell_render h4{\n",
        "    \tmargin-top: 35px;\n",
        "    \tfont-family: Helvetica, serif;\n",
        "        font-size: 14pt;\n",
        "        line-height: 100%;\n",
        "    }\n",
        "    .text_cell_render h5 {\n",
        "        font-weight: 300;\n",
        "        font-size: 22pt;\n",
        "        color: #4057A1;\n",
        "        font-style: italic;\n",
        "        margin-bottom: .5em;\n",
        "        margin-top: 0.5em;\n",
        "        display: block;\n",
        "        line-height: 100%;\n",
        "    }\n",
        "    \n",
        "    .warning{\n",
        "        color: rgb( 240, 20, 20 )\n",
        "        } \n",
        "    .wds {\n",
        "        background: none repeat scroll 0% 0% rgb(247, 247, 247);\n",
        "        padding: 0em 0em;\n",
        "        font-size: 11px;\n",
        "        font-family: Arial,Helvetica,sans-serif;\n",
        "        display: inline-block;\n",
        "        margin: 0px 0em;\n",
        "        white-space: nowrap;\n",
        "    }\n",
        "    cb {\n",
        "        background: none repeat scroll 0% 0% rgb(247, 247, 247);\n",
        "        padding: 0.1em 0.6em;\n",
        "        border: 1px solid rgb(204, 204, 204);\n",
        "        font-size: 11pt;\n",
        "        font-family: \"Source Code Pro\", source-code-pro,Consolas, monospace;\n",
        "        color: rgb(51, 51, 51);\n",
        "        box-shadow: 0px 1px 0px rgba(0, 0, 0, 0.2), 0px 0px 0px 2px rgb(255, 255, 255) inset;\n",
        "        border-radius: 3px 3px 3px 3px;\n",
        "        display: inline-block;\n",
        "        margin: 0px 0.1em;\n",
        "        line-height: 1.4;\n",
        "        white-space: nowrap;\n",
        "    }\n",
        "    q {\t\n",
        "        font-weight: 300;\n",
        "        font-size: 14pt;\n",
        "        color: #4057A1;\n",
        "        margin-bottom: .5em;\n",
        "        margin-top: 0.5em;\n",
        "        display: block;\n",
        "        font-family: \"Helvetica Neue\", Arial, Helvetica, Geneva, sans-serif;\n",
        "        line-height: 145%;\n",
        "        width:800px;\n",
        "        margin-left:auto;\n",
        "        margin-right:auto;\n",
        "    }\n",
        "    qq {\t\n",
        "        font-weight: 300;\n",
        "        font-size: 11pt;\n",
        "        color: #4057A1;\n",
        "        margin-bottom: .5em;\n",
        "        margin-top: 0.5em;\n",
        "        display: block;\n",
        "        font-family: \"Helvetica Neue\", Arial, Helvetica, Geneva, sans-serif;\n",
        "        line-height: 145%;\n",
        "        width:800px;\n",
        "        margin-left:auto;\n",
        "        margin-right:auto;\n",
        "    }\n",
        "    kbd {\n",
        "        background: none repeat scroll 0% 0% rgb(247, 247, 247);\n",
        "        padding: 0.1em 0.6em;\n",
        "        border: 1px solid rgb(204, 204, 204);\n",
        "        font-size: 11px;\n",
        "        font-family: Arial,Helvetica,sans-serif;\n",
        "        color: rgb(51, 51, 51);\n",
        "        box-shadow: 0px 1px 0px rgba(0, 0, 0, 0.2), 0px 0px 0px 2px rgb(255, 255, 255) inset;\n",
        "        border-radius: 3px 3px 3px 3px;\n",
        "        display: inline-block;\n",
        "        margin: 0px 0.1em;\n",
        "        text-shadow: 0px 1px 0px rgb(255, 255, 255);\n",
        "        line-height: 1.4;\n",
        "        white-space: nowrap;\n",
        "    }\n",
        "    ol {\n",
        "        list-style-type: decimal;\n",
        "    }\n",
        "\n",
        "\t.box_rotate {\n",
        "\t\t  -webkit-transform: rotate(270deg);  /* Chrome, Safari 3.1+ */\n",
        "\t\t     -moz-transform: rotate(270deg);  /* Firefox 3.5-15 */\n",
        "\t\t      -ms-transform: rotate(270deg);  /* IE 9 */\n",
        "\t\t       -o-transform: rotate(270deg);  /* Opera 10.50-12.00 */\n",
        "\t\t          transform: rotate(270deg);  /* Firefox 16+, IE 10+, Opera 12.10+ */\n",
        "\t}\n",
        "\n",
        "\t.vertical-text {\n",
        "\t\tdisplay: inline-block;\n",
        "\t\toverflow: hidden;\n",
        "\t\twidth: 1.5em;\n",
        "\t}\n",
        "\n",
        "\t.vertical-text__inner {\n",
        "\t\tdisplay: inline-block;\n",
        "\t\twhite-space: nowrap;\n",
        "\t\tline-height: 1.5;\n",
        "\t\t  -webkit-transform: rotate(270deg);  /* Chrome, Safari 3.1+ */\n",
        "\t\t     -moz-transform: rotate(270deg);  /* Firefox 3.5-15 */\n",
        "\t\t      -ms-transform: rotate(270deg);  /* IE 9 */\n",
        "\t\t       -o-transform: rotate(270deg);  /* Opera 10.50-12.00 */\n",
        "\t\t          transform: rotate(270deg);  /* Firefox 16+, IE 10+, Opera 12.10+ */\n",
        "\t}\n",
        "\n",
        "\t.vertical-text__inner:after {\n",
        "\t\tcontent: \"\";\n",
        "\t\tdisplay: block;\n",
        "\t\tmargin: -1.5em 0 100%;\n",
        "\t}\n",
        "\n",
        "\t.topics{\n",
        "\t\tbackground: url('files/images/topics.png') no-repeat scroll 0% 0%; \n",
        "\t\twidth: 520px; \n",
        "\t\theight: 250px; \n",
        "\n",
        "\t\tpadding-top: 35px;\n",
        "\t}\n",
        "\n",
        "\t.c_program{\n",
        "\t\tbackground: url('files/images/program.png') no-repeat scroll 0% 0%; width: 520px; margin-left: auto; margin-right: auto;\n",
        "\t}\n",
        "\n",
        "\t.c_require{\n",
        "\t\tbackground: url('files/images/software.png') no-repeat scroll 0% 0%; width: 520px; height: 250px; margin-left: auto; margin-right: auto;\n",
        "\t}\n",
        "\n",
        "</style>\n",
        "<script>\n",
        "    MathJax.Hub.Config({\n",
        "                        TeX: {\n",
        "                           extensions: [\"AMSmath.js\"]\n",
        "                           },\n",
        "                tex2jax: {\n",
        "                    inlineMath: [ ['$','$'], [\"\\\\(\",\"\\\\)\"] ],\n",
        "                    displayMath: [ ['$$','$$'], [\"\\\\[\",\"\\\\]\"] ]\n",
        "                },\n",
        "                displayAlign: 'center', // Change this to 'center' to center equations.\n",
        "                \"HTML-CSS\": {\n",
        "                    styles: {'.MathJax_Display': {\"margin\": 4}}\n",
        "                }\n",
        "        });\n",
        "</script>\n"
       ],
       "metadata": {},
       "output_type": "pyout",
       "prompt_number": 1,
       "text": [
        "<IPython.core.display.HTML at 0x2476110>"
       ]
      }
     ],
     "prompt_number": 1
    },
    {
     "cell_type": "code",
     "collapsed": false,
     "input": [],
     "language": "python",
     "metadata": {},
     "outputs": []
    }
   ],
   "metadata": {}
  }
 ]
}