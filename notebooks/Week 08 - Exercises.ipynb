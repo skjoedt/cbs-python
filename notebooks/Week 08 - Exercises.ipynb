{
 "metadata": {
  "name": ""
 },
 "nbformat": 3,
 "nbformat_minor": 0,
 "worksheets": [
  {
   "cells": [
    {
     "cell_type": "markdown",
     "metadata": {},
     "source": [
      "# Week 08 - Exercises"
     ]
    },
    {
     "cell_type": "markdown",
     "metadata": {},
     "source": [
      "<q>1. The basics of Pattern Matching</q>\n",
      "\n",
      "Start out by opening the website<br />\n",
      "\n",
      "<center>\n",
      "http://re-try.appspot.com/\n",
      "</center>\n",
      "in another tab. \n",
      "\n",
      "Given the sequence below"
     ]
    },
    {
     "cell_type": "raw",
     "metadata": {},
     "source": [
      "CGTAGGACAGTGGGACCCTCAGTAGGGCCTATGCGTATGGCGGGACCTGGCA"
     ]
    },
    {
     "cell_type": "markdown",
     "metadata": {},
     "source": [
      "<qq>Find all restriction enzyme recognition sites in the sequence above that matches the restriction enzyme *DraII* shown below</qq>\n",
      "<center>\n",
      "<img src=\"files/images/draii.png\" width=\"400px\"/>\n",
      "</center>"
     ]
    },
    {
     "cell_type": "raw",
     "metadata": {},
     "source": [
      "Write them here: \n",
      "1. \n",
      "2. \n",
      "3. "
     ]
    },
    {
     "cell_type": "markdown",
     "metadata": {},
     "source": [
      "---"
     ]
    },
    {
     "cell_type": "markdown",
     "metadata": {},
     "source": [
      "<q>2. Have a look at the pattern below</q>"
     ]
    },
    {
     "cell_type": "code",
     "collapsed": false,
     "input": [
      "\"(ATG([TCGA]{3})*?(TTA|TGA|TAG))\""
     ],
     "language": "python",
     "metadata": {},
     "outputs": []
    },
    {
     "cell_type": "markdown",
     "metadata": {},
     "source": [
      "Or structured differently:"
     ]
    },
    {
     "cell_type": "raw",
     "metadata": {},
     "source": [
      "\"(\n",
      "  ATG\n",
      "  ([TCGA]{3})*?\n",
      "  (TTA|TGA|TAG)\n",
      " )\""
     ]
    },
    {
     "cell_type": "markdown",
     "metadata": {},
     "source": [
      "Try it with the sequence below as target (using the <a href=\"http://re-try.appspot.com/\">webtool</a>)"
     ]
    },
    {
     "cell_type": "raw",
     "metadata": {},
     "source": [
      "GACGATGCAGAATGATCACTTAGACGAAAAAAAAAAAAAAAAAAAAAATGAAACAGAATGATCACGAATTA"
     ]
    },
    {
     "cell_type": "markdown",
     "metadata": {},
     "source": [
      "<qq>What is the output?</qq>"
     ]
    },
    {
     "cell_type": "raw",
     "metadata": {},
     "source": [
      "Answer:\n"
     ]
    },
    {
     "cell_type": "markdown",
     "metadata": {},
     "source": [
      "<qq>What do you think it searches for in DNA sequences?</qq>"
     ]
    },
    {
     "cell_type": "raw",
     "metadata": {},
     "source": [
      "Answer: "
     ]
    },
    {
     "cell_type": "markdown",
     "metadata": {},
     "source": [
      "<qq>Why is there a set of three strings for the match? What do they represent if you look at the pattern? E.g.</qq>\n",
      "\n",
      "    'ATGCAGAATGATCACTTA', 'CAC', 'TTA'"
     ]
    },
    {
     "cell_type": "raw",
     "metadata": {},
     "source": [
      "Answer: "
     ]
    },
    {
     "cell_type": "markdown",
     "metadata": {},
     "source": [
      "<qq>What role does the ? play in the pattern? (Test it yourself by removing it from the pattern and see the difference in the output)</qq>\n",
      "(Note: It is called non-greedy Pattern Matching)"
     ]
    },
    {
     "cell_type": "raw",
     "metadata": {},
     "source": [
      "Answer: "
     ]
    },
    {
     "cell_type": "markdown",
     "metadata": {},
     "source": [
      "---"
     ]
    },
    {
     "cell_type": "markdown",
     "metadata": {},
     "source": [
      "<q>3. Revisiting the Fasta Parser</q>\n",
      "In week 4 we had a look at fasta files containing a description line and sequence lines. We tried to make an exhaustive function that could extract all the information from the description line that had the following format:"
     ]
    },
    {
     "cell_type": "raw",
     "metadata": {},
     "source": [
      ">db|UniqueIdenatifier|EntryName ProteinName OS=OrganismName[ GN=GeneName]PE=ProteinExistence SV=SequenceVersion"
     ]
    },
    {
     "cell_type": "markdown",
     "metadata": {},
     "source": [
      "An example of a fasta entry could be"
     ]
    },
    {
     "cell_type": "raw",
     "metadata": {},
     "source": [
      ">sp|P03378|ENV_HV1A2 Envelope glycoprotein gp160 OS=Human immunodeficiency virus type 1 group M subtype B (isolate ARV2/SF2) GN=env PE=3 SV=1\n",
      "MKVKGTRRNYQHLWRWGTLLLGMLMICSATEKLWVTVYYGVPVWKEATTTLFCASDARAY\n",
      "DTEVHNVWATHACVPTDPNPQEVVLGNVTENFNMWKNNMVEQMQEDIISLWDQSLKPCVK\n",
      "LTPLCVTLNCTDLGKATNTNSSNWKEEIKGEIKNCSFNITTSIRDKIQKENALFRNLDVV\n",
      "PIDNASTTTNYTNYRLIHCNRSVITQACPKVSFEPIPIHYCTPAGFAILKCNNKTFNGKG\n",
      "PCTNVSTVQCTHGIRPIVSTQLLLNGSLAEEEVVIRSDNFTNNAKTIIVQLNESVAINCT\n",
      "RPNNNTRKSIYIGPGRAFHTTGRIIGDIRKAHCNISRAQWNNTLEQIVKKLREQFGNNKT\n",
      "..."
     ]
    },
    {
     "cell_type": "markdown",
     "metadata": {},
     "source": [
      "<qq>Create a regular expression pattern that can fetch the information from the fasta entry above in an output like</qq>"
     ]
    },
    {
     "cell_type": "raw",
     "metadata": {},
     "source": [
      "'sp', 'P03378', 'ENV_HV1A2', 'Envelope glycoprotein gp160', 'Human immunodeficiency virus type 1 group M subtype B (isolate ARV2/SF2)', 'env', '3', '1'"
     ]
    },
    {
     "cell_type": "markdown",
     "metadata": {},
     "source": [
      "(Use the webtool and paste the description line into the \"Text\"-field)"
     ]
    },
    {
     "cell_type": "markdown",
     "metadata": {},
     "source": [
      "Write the pattern here:"
     ]
    },
    {
     "cell_type": "raw",
     "metadata": {},
     "source": [
      "Answer: "
     ]
    },
    {
     "cell_type": "markdown",
     "metadata": {},
     "source": [
      "---"
     ]
    },
    {
     "cell_type": "markdown",
     "metadata": {},
     "source": [
      "<q>4. Using Python to do Pattern Matching</q>"
     ]
    },
    {
     "cell_type": "markdown",
     "metadata": {},
     "source": [
      "<qq>Make a script in Python using the ```re``` module that can find the three restriction sites in *problem 1* but prints the surrounding (flanking) 5 nucleotides</qq>\n",
      "\n",
      "E.g. the the match **```GGGACCC```** should be printed as ```ACAGT```**```GGGACCC```**```TCAGT```\n",
      "\n",
      "**Hint:** *Here are some instructions*\n",
      "\n",
      "<ol>\n",
      "<li>Use the ```finditer()``` method of the ```re``` module to make a Match Object-generator and store it as ```matchobjects```</li>\n",
      "<li>Go through each of the objects in the newly created ```matchobjects``` iterator using a for loop</li>\n",
      "<ol>\n",
      "<li>Get the positions in the sequence where the match was obtained using the ```match.span()``` method.</li>\n",
      "<li>Print the sequence slice that flanks the matched restriction site by 5 nucleotides</li>\n",
      "</ol>\n",
      "</ol>"
     ]
    },
    {
     "cell_type": "code",
     "collapsed": false,
     "input": [
      "import re\n",
      "target = \"CGTAGGACAGTGGGACCCTCAGTAGGGCCTATGCGTATGGCGGGACCTGGCA\"\n",
      "pattern = \"\"\n",
      "# Finish the code"
     ],
     "language": "python",
     "metadata": {},
     "outputs": [],
     "prompt_number": 5
    },
    {
     "cell_type": "markdown",
     "metadata": {},
     "source": [
      "---"
     ]
    },
    {
     "cell_type": "code",
     "collapsed": false,
     "input": [
      "from IPython.core.display import HTML\n",
      "\n",
      "\n",
      "def css_styling():\n",
      "    styles = open(\"../styles/custom.css\", \"r\").read()\n",
      "    return HTML(styles)\n",
      "css_styling()"
     ],
     "language": "python",
     "metadata": {},
     "outputs": [
      {
       "html": [
        "<style>\n",
        "    div.cell{\n",
        "        width:800px;\n",
        "        margin-left:16% !important;\n",
        "        margin-right:auto;\n",
        "    }\n",
        "    div.text_cell_render{\n",
        "        font-family: \"Helvetica Neue\", Arial, Helvetica, Geneva, sans-serif;\n",
        "        line-height: 145%;\n",
        "        font-size: 100%;\n",
        "        width:800px;\n",
        "        margin-left:auto;\n",
        "        margin-right:auto;\n",
        "    }\n",
        "    .CodeMirror{\n",
        "            font-family: \"Source Code Pro\", source-code-pro,Consolas, monospace;\n",
        "    }\n",
        "    div.CodeMirror{\n",
        "    \tfont-size: 11pt;\n",
        "    }\n",
        "    div.cell.border-box-sizing.code_cell{\n",
        "    \tpadding-left: 50px;\n",
        "    }\n",
        "    div.text_cell_input {\n",
        "    \tmargin-left: 50px;\n",
        "    }\n",
        "    .prompt{\n",
        "        display: None;\n",
        "    }\n",
        "    .text_cell_render h1 {\n",
        "        font-family: Helvetica, serif;\n",
        "        font-size: 30pt;\n",
        "        color: #274257;\n",
        "        text-transform: uppercase;\n",
        "        line-height: 100%;\n",
        "    }\n",
        "    .text_cell_render h2 {\n",
        "    \tmargin-top: 35px;\n",
        "        font-family: Helvetica, serif;\n",
        "        font-size: 24pt;\n",
        "        color: #2A75A9;\n",
        "        line-height: 100%;\n",
        "    }\n",
        "    .text_cell_render h3{\n",
        "    \tmargin-top: 35px;\n",
        "        font-family: Helvetica, serif;\n",
        "        font-size: 18pt;\n",
        "        color: #7EB5D6;\n",
        "        line-height: 100%;\n",
        "       }\n",
        "    .text_cell_render h4{\n",
        "    \tmargin-top: 35px;\n",
        "    \tfont-family: Helvetica, serif;\n",
        "        font-size: 14pt;\n",
        "        line-height: 100%;\n",
        "    }\n",
        "    .text_cell_render h5 {\n",
        "        font-weight: 300;\n",
        "        font-size: 22pt;\n",
        "        color: #4057A1;\n",
        "        font-style: italic;\n",
        "        margin-bottom: .5em;\n",
        "        margin-top: 0.5em;\n",
        "        display: block;\n",
        "        line-height: 100%;\n",
        "    }\n",
        "    \n",
        "    .warning{\n",
        "        color: rgb( 240, 20, 20 )\n",
        "        } \n",
        "    .wds {\n",
        "        background: none repeat scroll 0% 0% rgb(247, 247, 247);\n",
        "        padding: 0em 0em;\n",
        "        font-size: 11px;\n",
        "        font-family: Arial,Helvetica,sans-serif;\n",
        "        display: inline-block;\n",
        "        margin: 0px 0em;\n",
        "        white-space: nowrap;\n",
        "    }\n",
        "    cb {\n",
        "        background: none repeat scroll 0% 0% rgb(247, 247, 247);\n",
        "        padding: 0.1em 0.6em;\n",
        "        border: 1px solid rgb(204, 204, 204);\n",
        "        font-size: 11pt;\n",
        "        font-family: \"Source Code Pro\", source-code-pro,Consolas, monospace;\n",
        "        color: rgb(51, 51, 51);\n",
        "        box-shadow: 0px 1px 0px rgba(0, 0, 0, 0.2), 0px 0px 0px 2px rgb(255, 255, 255) inset;\n",
        "        border-radius: 3px 3px 3px 3px;\n",
        "        display: inline-block;\n",
        "        margin: 0px 0.1em;\n",
        "        line-height: 1.4;\n",
        "        white-space: nowrap;\n",
        "    }\n",
        "    q {\t\n",
        "        font-weight: 300;\n",
        "        font-size: 14pt;\n",
        "        color: #4057A1;\n",
        "        margin-bottom: .5em;\n",
        "        margin-top: 0.5em;\n",
        "        display: block;\n",
        "        font-family: \"Helvetica Neue\", Arial, Helvetica, Geneva, sans-serif;\n",
        "        line-height: 145%;\n",
        "        width:800px;\n",
        "        margin-left:auto;\n",
        "        margin-right:auto;\n",
        "    }\n",
        "    qq {\t\n",
        "        font-weight: 300;\n",
        "        font-size: 11pt;\n",
        "        color: #4057A1;\n",
        "        margin-bottom: .5em;\n",
        "        margin-top: 0.5em;\n",
        "        display: block;\n",
        "        font-family: \"Helvetica Neue\", Arial, Helvetica, Geneva, sans-serif;\n",
        "        line-height: 145%;\n",
        "        width:800px;\n",
        "        margin-left:auto;\n",
        "        margin-right:auto;\n",
        "    }\n",
        "    kbd {\n",
        "        background: none repeat scroll 0% 0% rgb(247, 247, 247);\n",
        "        padding: 0.1em 0.6em;\n",
        "        border: 1px solid rgb(204, 204, 204);\n",
        "        font-size: 11px;\n",
        "        font-family: Arial,Helvetica,sans-serif;\n",
        "        color: rgb(51, 51, 51);\n",
        "        box-shadow: 0px 1px 0px rgba(0, 0, 0, 0.2), 0px 0px 0px 2px rgb(255, 255, 255) inset;\n",
        "        border-radius: 3px 3px 3px 3px;\n",
        "        display: inline-block;\n",
        "        margin: 0px 0.1em;\n",
        "        text-shadow: 0px 1px 0px rgb(255, 255, 255);\n",
        "        line-height: 1.4;\n",
        "        white-space: nowrap;\n",
        "    }\n",
        "    ol {\n",
        "        list-style-type: decimal;\n",
        "    }\n",
        "\n",
        "\t.box_rotate {\n",
        "\t\t  -webkit-transform: rotate(270deg);  /* Chrome, Safari 3.1+ */\n",
        "\t\t     -moz-transform: rotate(270deg);  /* Firefox 3.5-15 */\n",
        "\t\t      -ms-transform: rotate(270deg);  /* IE 9 */\n",
        "\t\t       -o-transform: rotate(270deg);  /* Opera 10.50-12.00 */\n",
        "\t\t          transform: rotate(270deg);  /* Firefox 16+, IE 10+, Opera 12.10+ */\n",
        "\t}\n",
        "\n",
        "\t.vertical-text {\n",
        "\t\tdisplay: inline-block;\n",
        "\t\toverflow: hidden;\n",
        "\t\twidth: 1.5em;\n",
        "\t}\n",
        "\n",
        "\t.vertical-text__inner {\n",
        "\t\tdisplay: inline-block;\n",
        "\t\twhite-space: nowrap;\n",
        "\t\tline-height: 1.5;\n",
        "\t\t  -webkit-transform: rotate(270deg);  /* Chrome, Safari 3.1+ */\n",
        "\t\t     -moz-transform: rotate(270deg);  /* Firefox 3.5-15 */\n",
        "\t\t      -ms-transform: rotate(270deg);  /* IE 9 */\n",
        "\t\t       -o-transform: rotate(270deg);  /* Opera 10.50-12.00 */\n",
        "\t\t          transform: rotate(270deg);  /* Firefox 16+, IE 10+, Opera 12.10+ */\n",
        "\t}\n",
        "\n",
        "\t.vertical-text__inner:after {\n",
        "\t\tcontent: \"\";\n",
        "\t\tdisplay: block;\n",
        "\t\tmargin: -1.5em 0 100%;\n",
        "\t}\n",
        "\n",
        "\t.topics{\n",
        "\t\tbackground: url('files/images/topics.png') no-repeat scroll 0% 0%; \n",
        "\t\twidth: 520px; \n",
        "\t\theight: 250px; \n",
        "\n",
        "\t\tpadding-top: 35px;\n",
        "\t}\n",
        "\n",
        "\t.c_program{\n",
        "\t\tbackground: url('files/images/program.png') no-repeat scroll 0% 0%; width: 520px; margin-left: auto; margin-right: auto;\n",
        "\t}\n",
        "\n",
        "\t.c_require{\n",
        "\t\tbackground: url('files/images/software.png') no-repeat scroll 0% 0%; width: 520px; height: 250px; margin-left: auto; margin-right: auto;\n",
        "\t}\n",
        "\n",
        "</style>\n",
        "<script>\n",
        "    MathJax.Hub.Config({\n",
        "                        TeX: {\n",
        "                           extensions: [\"AMSmath.js\"]\n",
        "                           },\n",
        "                tex2jax: {\n",
        "                    inlineMath: [ ['$','$'], [\"\\\\(\",\"\\\\)\"] ],\n",
        "                    displayMath: [ ['$$','$$'], [\"\\\\[\",\"\\\\]\"] ]\n",
        "                },\n",
        "                displayAlign: 'center', // Change this to 'center' to center equations.\n",
        "                \"HTML-CSS\": {\n",
        "                    styles: {'.MathJax_Display': {\"margin\": 4}}\n",
        "                }\n",
        "        });\n",
        "</script>\n"
       ],
       "metadata": {},
       "output_type": "pyout",
       "prompt_number": 2,
       "text": [
        "<IPython.core.display.HTML at 0x2a374d0>"
       ]
      }
     ],
     "prompt_number": 2
    },
    {
     "cell_type": "code",
     "collapsed": false,
     "input": [],
     "language": "python",
     "metadata": {},
     "outputs": []
    }
   ],
   "metadata": {}
  }
 ]
}