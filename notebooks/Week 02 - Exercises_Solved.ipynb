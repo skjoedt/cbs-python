{
 "metadata": {
  "name": ""
 },
 "nbformat": 3,
 "nbformat_minor": 0,
 "worksheets": [
  {
   "cells": [
    {
     "cell_type": "markdown",
     "metadata": {},
     "source": [
      "# Week 02 - Exercises"
     ]
    },
    {
     "cell_type": "markdown",
     "metadata": {},
     "source": [
      "<q>1. Assignments and operations</q>\n",
      "\n",
      "<qq>What is the difference between + and +=?</qq>\n"
     ]
    },
    {
     "cell_type": "code",
     "collapsed": false,
     "input": [
      "A = 1\n",
      "B = 4\n",
      "\n",
      "A + B\n",
      "A += B"
     ],
     "language": "python",
     "metadata": {},
     "outputs": [],
     "prompt_number": 1
    },
    {
     "cell_type": "raw",
     "metadata": {},
     "source": [
      "Answer: A + B adds together A and B. In this case nothing is happening because the result is neither printed or stored. A += B addes the value of B to the variable A, which is now updated to 5. "
     ]
    },
    {
     "cell_type": "markdown",
     "metadata": {},
     "source": [
      "<q>2. Get comfortable with the new data structures</q>\n",
      "\n",
      "<qq>[Lists] Add comments (use #) to the script below describing what happens in each line</qq>"
     ]
    },
    {
     "cell_type": "code",
     "collapsed": false,
     "input": [
      "L = [1,2,3] + [4,5,6] # Concatenating the two lists into a new list L.\n",
      "L.reverse() # Reverse the list L. \n",
      "print L \n",
      "L.sort() # Sorts the list L according to the values (ascending)\n",
      "print L\n",
      "idx = L.index(4) # Prints the index of the item in the list L with value 4.\n",
      "print idx"
     ],
     "language": "python",
     "metadata": {},
     "outputs": [
      {
       "output_type": "stream",
       "stream": "stdout",
       "text": [
        "[6, 5, 4, 3, 2, 1]\n",
        "[1, 2, 3, 4, 5, 6]\n",
        "3\n"
       ]
      }
     ],
     "prompt_number": 6
    },
    {
     "cell_type": "markdown",
     "metadata": {},
     "source": [
      "<qq> What is the difference between ```list.remove()```, ```list.pop()``` and ```del(list)```? Try them out and add comments:</qq>"
     ]
    },
    {
     "cell_type": "code",
     "collapsed": false,
     "input": [
      "myList = [0,1,5,3,4,5,6,7,8,9,10]\n",
      "print myList\n",
      "myList.pop() # Prints/Returns and removes last item in the list myList.\n",
      "print myList\n",
      "myList.remove(5) # Removes the first occurrence of the value 5 in myList.\n",
      "print myList\n",
      "del(myList[2])\n",
      "print myList # Deletes the third item in myList. "
     ],
     "language": "python",
     "metadata": {},
     "outputs": [
      {
       "output_type": "stream",
       "stream": "stdout",
       "text": [
        "[0, 1, 5, 3, 4, 5, 6, 7, 8, 9, 10]\n",
        "[0, 1, 5, 3, 4, 5, 6, 7, 8, 9]\n",
        "[0, 1, 3, 4, 5, 6, 7, 8, 9]\n",
        "[0, 1, 4, 5, 6, 7, 8, 9]\n"
       ]
      }
     ],
     "prompt_number": 11
    },
    {
     "cell_type": "markdown",
     "metadata": {},
     "source": [
      "<qq>[Dictionaries] Make a **list** of **dictionaries** of your top-3 favorite movies with the following structure:</qq>\n",
      "\n",
      "<ol>\n",
      "    <li>[0]</li>\n",
      "    <ul>\n",
      "        <li>\"Title\" : \"\"The Holy Grail\"</li>\n",
      "        <li>\"Genre\" : \"Comedy\"</li>\n",
      "        <li>\"Year\" : 1975</li>\n",
      "        <li>\"Length\" : 91</li>\n",
      "        <li>\"Directors\" : [\"Terry Gilliam\", \"Terry Jones\"]</li>\n",
      "        <li>\"Stars\" : [\"Graham Chapman\", \"John Cleese\", \"Eric Idle\"]</li>\n",
      "    </ul>\n",
      "    <li>[1]</li>\n",
      "    ...\n",
      "</ol>"
     ]
    },
    {
     "cell_type": "code",
     "collapsed": false,
     "input": [
      "movies = [\n",
      "          {\"Title\": \"The Holy Grail\", \"Genre\": \"Comedy\", \"Year\": 1975, \"Length\": 91,\n",
      "           \"Directors\": [\"Terry Gilliam\", \"Terry Jones\"], \n",
      "           \"Stars\": [\"Graham Chapman\", \"John Cleese\", \"Eric Idle\"]},\n",
      "          \n",
      "          {\"Title\": \"The Life of Brian\", \"Genre\": \"Comedy\", \"Year\": 1979, \"Length\": 94,\n",
      "           \"Directors\": \"Terry Jones\", \n",
      "           \"Stars\": [\"Graham Chapman\", \"John Cleese\", \"Eric Idle\"]},\n",
      "          \n",
      "          {\"Title\": \"The Meaning of Life\", \"Genre\": \"Comedy\", \"Year\": 1983, \"Length\": 107,\n",
      "           \"Directors\": [\"Terry Gilliam\", \"Terry Jones\"], \n",
      "           \"Stars\": [\"Graham Chapman\", \"John Cleese\", \"Eric Idle\"]}\n",
      "         ]"
     ],
     "language": "python",
     "metadata": {},
     "outputs": [],
     "prompt_number": 16
    },
    {
     "cell_type": "markdown",
     "metadata": {},
     "source": [
      "<qq>Go through each of the three movies and print the title, year and genre *using only two lines of code*.</qq>"
     ]
    },
    {
     "cell_type": "code",
     "collapsed": false,
     "input": [
      "for movie in movies:\n",
      "    print movie[\"Title\"] + \", \" + str (movie[\"Year\"]) + \", \" + movie[\"Genre\"]"
     ],
     "language": "python",
     "metadata": {},
     "outputs": [
      {
       "output_type": "stream",
       "stream": "stdout",
       "text": [
        "The Holy Grail, 1975, Comedy\n",
        "The Life of Brian, 1979, Comedy\n",
        "The Meaning of Life, 1983, Comedy\n"
       ]
      }
     ],
     "prompt_number": 19
    },
    {
     "cell_type": "markdown",
     "metadata": {},
     "source": [
      "The output should look something like this:"
     ]
    },
    {
     "cell_type": "raw",
     "metadata": {},
     "source": [
      "The Holy Grail, 1975, Comedy\n",
      "The Life of Brian, 1979, Comedy\n",
      "The Meaning of Life, 1983, Comedy"
     ]
    },
    {
     "cell_type": "markdown",
     "metadata": {},
     "source": [
      "<q>3. Slice and dice</q>\n",
      "In Python we used the index to access an item of a collection. Python can also access a range of items of collections using slicing. \n",
      "\n",
      "Instead of \n",
      "\n",
      "    collection[5]\n",
      "\n",
      "to access the 6'th element, we can use\n",
      "\n",
      "    collection[3:5]\n",
      "\n",
      "\n",
      "to access the 4'th and 5'th item of a sequence. The following figure shows how the slicing index is translated into ranges:\n",
      "\n",
      "\n",
      "<center>\n",
      "<img src=\"http://infohost.nmt.edu/tcc/help/pubs/python/web/fig/slicing.png\" width=\"250px\" />\n",
      "</center>\n",
      "\n",
      "In this exercise we try it out. Use this table for assistance:\n",
      "<center>\n",
      "<table>\n",
      "    <tr><td><b>Expression</b></td><td><b>Returns</b></td></tr>\n",
      "    <tr><td>seq[i:j]</td><td>Elements of *seq* from *i* to, but not including *j*</td></tr>\n",
      "    <tr><td>seq[i:]</td><td>Elements of *seq* from *i* through the end of the sequence</td></tr>\n",
      "    <tr><td>seq[:j]</td><td>Elements of *seq* from the first up to, but not including *j*</td></tr>\n",
      "    <tr><td>seq[:-1]</td><td>Elements of *seq* from the first up to, but not including the last</td></tr>\n",
      "    <tr><td>seq[:]</td><td>All the elements of *seq* - i.e. a copy of *seq*</td></tr>\n",
      "    <tr><td>seq[i:j:k]</td><td>Every k<sup>th</sup> element of *seq*, from i up to, but not including *j*</td></tr>\n",
      "</table>\n",
      "</center>\n",
      "\n",
      "We have a protein sequence: "
     ]
    },
    {
     "cell_type": "code",
     "collapsed": false,
     "input": [
      "prot_seq = \"MKWVTFISLLFLFSSAYSRGVFRRDAHKSEVAHRFKDLGEENFKALVLIAFA\""
     ],
     "language": "python",
     "metadata": {},
     "outputs": [],
     "prompt_number": 20
    },
    {
     "cell_type": "markdown",
     "metadata": {},
     "source": [
      "<qq>Obtain the signal peptide sequence of ```prot_seq```, which is the first 18 amino acids</qq>"
     ]
    },
    {
     "cell_type": "code",
     "collapsed": false,
     "input": [
      "prot_seq[:18]"
     ],
     "language": "python",
     "metadata": {},
     "outputs": [
      {
       "metadata": {},
       "output_type": "pyout",
       "prompt_number": 21,
       "text": [
        "'MKWVTFISLLFLFSSAYS'"
       ]
      }
     ],
     "prompt_number": 21
    },
    {
     "cell_type": "markdown",
     "metadata": {},
     "source": [
      "<qq>Obtain the middle part of the protein from amino acid position 22 to 36.</qq>"
     ]
    },
    {
     "cell_type": "code",
     "collapsed": false,
     "input": [
      "prot_seq[21:36]"
     ],
     "language": "python",
     "metadata": {},
     "outputs": [
      {
       "metadata": {},
       "output_type": "pyout",
       "prompt_number": 22,
       "text": [
        "'FRRDAHKSEVAHRFK'"
       ]
      }
     ],
     "prompt_number": 22
    },
    {
     "cell_type": "markdown",
     "metadata": {},
     "source": [
      "<qq>Obtain the last 12 amino acids using two different methods of slicing </qq>"
     ]
    },
    {
     "cell_type": "code",
     "collapsed": false,
     "input": [
      "prot_seq[40:]"
     ],
     "language": "python",
     "metadata": {},
     "outputs": [
      {
       "metadata": {},
       "output_type": "pyout",
       "prompt_number": 25,
       "text": [
        "'ENFKALVLIAFA'"
       ]
      }
     ],
     "prompt_number": 25
    },
    {
     "cell_type": "code",
     "collapsed": false,
     "input": [
      "prot_seq[-12:]"
     ],
     "language": "python",
     "metadata": {},
     "outputs": [
      {
       "metadata": {},
       "output_type": "pyout",
       "prompt_number": 27,
       "text": [
        "'ENFKALVLIAFA'"
       ]
      }
     ],
     "prompt_number": 27
    },
    {
     "cell_type": "markdown",
     "metadata": {},
     "source": [
      "<qq>Obtain every second amino acid of the protein sequence using slicing</qq>"
     ]
    },
    {
     "cell_type": "code",
     "collapsed": false,
     "input": [
      "prot_seq[::2]"
     ],
     "language": "python",
     "metadata": {},
     "outputs": [
      {
       "metadata": {},
       "output_type": "pyout",
       "prompt_number": 28,
       "text": [
        "'MWTILFFSYRVRDHSVHFDGEFAVIF'"
       ]
      }
     ],
     "prompt_number": 28
    },
    {
     "cell_type": "markdown",
     "metadata": {},
     "source": [
      "<qq>Reverse the sequence using slicing</qq>\n",
      "**Hint:** *Set the step to $k=-1$*"
     ]
    },
    {
     "cell_type": "code",
     "collapsed": false,
     "input": [
      "prot_seq[::-1]"
     ],
     "language": "python",
     "metadata": {},
     "outputs": [
      {
       "metadata": {},
       "output_type": "pyout",
       "prompt_number": 29,
       "text": [
        "'AFAILVLAKFNEEGLDKFRHAVESKHADRRFVGRSYASSFLFLLSIFTVWKM'"
       ]
      }
     ],
     "prompt_number": 29
    },
    {
     "cell_type": "markdown",
     "metadata": {},
     "source": [
      "<q>4. Playing with strings</q>"
     ]
    },
    {
     "cell_type": "markdown",
     "metadata": {},
     "source": [
      "Strings has alot of built in functions. In this exercise we will explore some of the most common features. "
     ]
    },
    {
     "cell_type": "code",
     "collapsed": false,
     "input": [
      "signal_peptide = \"maskatllclaftllfatcia\""
     ],
     "language": "python",
     "metadata": {},
     "outputs": [],
     "prompt_number": 30
    },
    {
     "cell_type": "markdown",
     "metadata": {},
     "source": [
      "A list of functions associated with the string *signal_peptide* can be found by writing signal_peptide followed by a dot (.) and then hitting the <kbd>Tab</kbd> key to ask for auto-complete suggestions."
     ]
    },
    {
     "cell_type": "markdown",
     "metadata": {},
     "source": [
      "    signal_peptide.<hit-tab>"
     ]
    },
    {
     "cell_type": "markdown",
     "metadata": {},
     "source": [
      "Another way is to use the dir() function around signal_peptide:\n",
      "\n",
      "    dir(signal_peptide)\n",
      "\n",
      "Use either of these methods to find the suited functions for the following questions: "
     ]
    },
    {
     "cell_type": "markdown",
     "metadata": {},
     "source": [
      "<qq>Obtain a uppercase version of ```signal_peptide```</qq>"
     ]
    },
    {
     "cell_type": "code",
     "collapsed": false,
     "input": [
      "signal_peptide.upper()"
     ],
     "language": "python",
     "metadata": {},
     "outputs": [
      {
       "metadata": {},
       "output_type": "pyout",
       "prompt_number": 31,
       "text": [
        "'MASKATLLCLAFTLLFATCIA'"
       ]
      }
     ],
     "prompt_number": 31
    },
    {
     "cell_type": "markdown",
     "metadata": {},
     "source": [
      "<qq>Obtain the amino acid position of the first occurrance of Cysteine</qq>"
     ]
    },
    {
     "cell_type": "code",
     "collapsed": false,
     "input": [
      "signal_peptide.find(\"c\")+1"
     ],
     "language": "python",
     "metadata": {},
     "outputs": [
      {
       "metadata": {},
       "output_type": "pyout",
       "prompt_number": 35,
       "text": [
        "9"
       ]
      }
     ],
     "prompt_number": 35
    },
    {
     "cell_type": "markdown",
     "metadata": {},
     "source": [
      "<qq>Print a deriving sequence where the part *\"laftl\"* is replaced with *\"alftlg\"*"
     ]
    },
    {
     "cell_type": "code",
     "collapsed": false,
     "input": [
      "signal_peptide.replace(\"laftl\", \"alftlg\")"
     ],
     "language": "python",
     "metadata": {},
     "outputs": [
      {
       "metadata": {},
       "output_type": "pyout",
       "prompt_number": 36,
       "text": [
        "'maskatllcalftlglfatcia'"
       ]
      }
     ],
     "prompt_number": 36
    },
    {
     "cell_type": "markdown",
     "metadata": {},
     "source": [
      "<qq>Find the GC content in the following sequence</qq>"
     ]
    },
    {
     "cell_type": "code",
     "collapsed": false,
     "input": [
      "dna_sequence = \"TGCGTAGACGTGAGTAAAATGCATAAATAACTAGGCG\""
     ],
     "language": "python",
     "metadata": {},
     "outputs": [],
     "prompt_number": 42
    },
    {
     "cell_type": "markdown",
     "metadata": {},
     "source": [
      "**hint:** <i>Use len(dna_sequence) to get the length of the sequence</i>"
     ]
    },
    {
     "cell_type": "code",
     "collapsed": false,
     "input": [
      "( dna_sequence.count(\"C\")+dna_sequence.count(\"G\") )/float(len(dna_sequence))*100"
     ],
     "language": "python",
     "metadata": {},
     "outputs": [
      {
       "metadata": {},
       "output_type": "pyout",
       "prompt_number": 47,
       "text": [
        "40.54054054054054"
       ]
      }
     ],
     "prompt_number": 47
    },
    {
     "cell_type": "markdown",
     "metadata": {},
     "source": [
      "<q>5. Membership testing and sequence validation</q>\n",
      "In Python you can use list comprehensions to create a list B from a list A:\n",
      "    \n",
      "    B = [expression for item in list]\n",
      "    B = [x^2 for x in A]\n",
      "\n",
      "The last bit\n",
      "    \n",
      "    item in list\n",
      "\n",
      "can also be used to test for the membership of the value x in a list. For instance:\n"
     ]
    },
    {
     "cell_type": "code",
     "collapsed": false,
     "input": [
      "2 in [1,2,3,4]"
     ],
     "language": "python",
     "metadata": {},
     "outputs": [
      {
       "metadata": {},
       "output_type": "pyout",
       "prompt_number": 17,
       "text": [
        "True"
       ]
      }
     ],
     "prompt_number": 17
    },
    {
     "cell_type": "markdown",
     "metadata": {},
     "source": [
      "will return True if the number 2 is found in the list. Here is another example using membership testing for base validation:"
     ]
    },
    {
     "cell_type": "code",
     "collapsed": false,
     "input": [
      "valid_base = \"UCAG\"\n",
      "print \"C\" in valid_base\n",
      "print \"G\" in valid_base\n",
      "print \"A\" in valid_base\n",
      "print \"T\" in valid_base"
     ],
     "language": "python",
     "metadata": {},
     "outputs": [
      {
       "output_type": "stream",
       "stream": "stdout",
       "text": [
        "True\n",
        "True\n",
        "True\n",
        "False\n"
       ]
      }
     ],
     "prompt_number": 49
    },
    {
     "cell_type": "markdown",
     "metadata": {},
     "source": [
      "<qq>Make a program that validates base sequences of RNA using a list comprehension. (Advanced)</qq>\n",
      "\n",
      "Combine list comprehensions\n",
      "\n",
      "    [expression for item in collection]\n",
      "\n",
      "and membership testing\n",
      "\n",
      "    value in collection\n",
      "\n",
      "to validate that these two sequences are RNA:"
     ]
    },
    {
     "cell_type": "code",
     "collapsed": false,
     "input": [
      "base_seqA = \"ACGAGCUG\"\n",
      "base_seqB = \"ACTGTCGA\"\n",
      "\n",
      "# put your code into the brackets below:\n",
      "\n",
      "print all ( [base in valid_base for base in base_seqA] ) \n",
      "print all ( [base in valid_base for base in base_seqB] ) "
     ],
     "language": "python",
     "metadata": {},
     "outputs": [
      {
       "output_type": "stream",
       "stream": "stdout",
       "text": [
        "True\n",
        "False\n"
       ]
      }
     ],
     "prompt_number": 50
    },
    {
     "cell_type": "markdown",
     "metadata": {},
     "source": [
      "**Note:** *The function*\n",
      "\n",
      "    all(list)\n",
      "\n",
      "*will return True if all items in the list is true*:"
     ]
    },
    {
     "cell_type": "code",
     "collapsed": false,
     "input": [
      "print all( [True, True, True] )\n",
      "print all( [True, True, False] )"
     ],
     "language": "python",
     "metadata": {},
     "outputs": [
      {
       "output_type": "stream",
       "stream": "stdout",
       "text": [
        "True\n",
        "False\n"
       ]
      }
     ],
     "prompt_number": 20
    },
    {
     "cell_type": "markdown",
     "metadata": {},
     "source": [
      "<q>6. Reverse Compliment (Advanced)</q>\n",
      "A dictionary of the complement nucleotides:"
     ]
    },
    {
     "cell_type": "code",
     "collapsed": false,
     "input": [
      "cmpl = {\"A\": \"T\", \"C\": \"G\", \"G\": \"C\", \"T\": \"A\"}"
     ],
     "language": "python",
     "metadata": {},
     "outputs": [],
     "prompt_number": 52
    },
    {
     "cell_type": "markdown",
     "metadata": {},
     "source": [
      "<qq>Use the dictionary above to print the reverse complement sequence of ```dna_sequence```</qq>"
     ]
    },
    {
     "cell_type": "markdown",
     "metadata": {},
     "source": [
      "**Hint:** *use the \"\".join( ) function to concatenate a list into a string. Here is how it works:*"
     ]
    },
    {
     "cell_type": "code",
     "collapsed": false,
     "input": [
      "\"\".join( [ \"a\", \"b\", \"c\", \"d\" ] )"
     ],
     "language": "python",
     "metadata": {},
     "outputs": [
      {
       "metadata": {},
       "output_type": "pyout",
       "prompt_number": 1,
       "text": [
        "'abcd'"
       ]
      }
     ],
     "prompt_number": 1
    },
    {
     "cell_type": "code",
     "collapsed": false,
     "input": [
      "# Finish the command below\n",
      "print dna_sequence\n",
      "\"\".join ( [cmpl[nucleotide] for nucleotide in dna_sequence[::-1]] ) "
     ],
     "language": "python",
     "metadata": {},
     "outputs": [
      {
       "output_type": "stream",
       "stream": "stdout",
       "text": [
        "TGCGTAGACGTGAGTAAAATGCATAAATAACTAGGCG\n"
       ]
      },
      {
       "metadata": {},
       "output_type": "pyout",
       "prompt_number": 53,
       "text": [
        "'CGCCTAGTTATTTATGCATTTTACTCACGTCTACGCA'"
       ]
      }
     ],
     "prompt_number": 53
    },
    {
     "cell_type": "markdown",
     "metadata": {},
     "source": [
      "<q>7. Python and memory handling </q>\n",
      "This exercise will show you the difference between referring to an object and creating an object. \n",
      "\n",
      "<qq> Make a list ```A``` of 20 zeroes using the * operator </qq>"
     ]
    },
    {
     "cell_type": "code",
     "collapsed": false,
     "input": [
      "A = [0]*20\n",
      "print A"
     ],
     "language": "python",
     "metadata": {},
     "outputs": [
      {
       "output_type": "stream",
       "stream": "stdout",
       "text": [
        "[0, 0, 0, 0, 0, 0, 0, 0, 0, 0, 0, 0, 0, 0, 0, 0, 0, 0, 0, 0]\n"
       ]
      }
     ],
     "prompt_number": 4
    },
    {
     "cell_type": "markdown",
     "metadata": {},
     "source": [
      "<qq> Change the 11<sup>th</sup> value to 1 and print the entire list to screen</qq> "
     ]
    },
    {
     "cell_type": "code",
     "collapsed": false,
     "input": [
      "A[10] = 1\n",
      "print A"
     ],
     "language": "python",
     "metadata": {},
     "outputs": [
      {
       "output_type": "stream",
       "stream": "stdout",
       "text": [
        "[0, 0, 0, 0, 0, 0, 0, 0, 0, 0, 1, 0, 0, 0, 0, 0, 0, 0, 0, 0]\n"
       ]
      }
     ],
     "prompt_number": 5
    },
    {
     "cell_type": "markdown",
     "metadata": {},
     "source": [
      "Output should look like"
     ]
    },
    {
     "cell_type": "raw",
     "metadata": {},
     "source": [
      "[0, 0, 0, 0, 0, 0, 0, 0, 0, 0, 1, 0, 0, 0, 0, 0, 0, 0, 0, 0]"
     ]
    },
    {
     "cell_type": "markdown",
     "metadata": {},
     "source": [
      "<qq> Make a 5x3 matrix (list of lists), ```B```, of zeroes using the same terminology</qq>\n",
      "\n",
      "<table>\n",
      "    <tr><td>0</td><td>0</td><td>0</td><td>0</td><td>0</td></tr>\n",
      "    <tr><td>0</td><td>0</td><td>0</td><td>0</td><td>0</td></tr>\n",
      "    <tr><td>0</td><td>0</td><td>0</td><td>0</td><td>0</td></tr>\n",
      "</table>"
     ]
    },
    {
     "cell_type": "code",
     "collapsed": false,
     "input": [
      "B = [[0]*5]*3\n",
      "print B"
     ],
     "language": "python",
     "metadata": {},
     "outputs": [
      {
       "output_type": "stream",
       "stream": "stdout",
       "text": [
        "[[0, 0, 0, 0, 0], [0, 0, 0, 0, 0], [0, 0, 0, 0, 0]]\n"
       ]
      }
     ],
     "prompt_number": 54
    },
    {
     "cell_type": "markdown",
     "metadata": {},
     "source": [
      "Output should look like:"
     ]
    },
    {
     "cell_type": "raw",
     "metadata": {},
     "source": [
      "[[0, 0, 0, 0, 0], [0, 0, 0, 0, 0], [0, 0, 0, 0, 0]]"
     ]
    },
    {
     "cell_type": "markdown",
     "metadata": {},
     "source": [
      "<qq>Change the 3<sup>rd</sup> element in the 2<sup>nd</sup> list to 1. Print the list B to the screen </qq>\n",
      "\n",
      "<table>\n",
      "    <tr><td>0</td><td>0</td><td>0</td><td>0</td><td>0</td></tr>\n",
      "    <tr><td>0</td><td>0</td><td>1</td><td>0</td><td>0</td></tr>\n",
      "    <tr><td>0</td><td>0</td><td>0</td><td>0</td><td>0</td></tr>\n",
      "</table>"
     ]
    },
    {
     "cell_type": "code",
     "collapsed": false,
     "input": [
      "B[1][2] = 1\n",
      "print B"
     ],
     "language": "python",
     "metadata": {},
     "outputs": [
      {
       "output_type": "stream",
       "stream": "stdout",
       "text": [
        "[[0, 0, 1, 0, 0], [0, 0, 1, 0, 0], [0, 0, 1, 0, 0]]\n"
       ]
      }
     ],
     "prompt_number": 55
    },
    {
     "cell_type": "markdown",
     "metadata": {},
     "source": [
      "<qq>Why doesn't it work? Use this picture for help</qq>\n",
      "\n",
      "<center>\n",
      "<img src=\"files/images/ex2_lists.png\" />\n",
      "</center>"
     ]
    },
    {
     "cell_type": "raw",
     "metadata": {},
     "source": [
      "Answer: "
     ]
    },
    {
     "cell_type": "markdown",
     "metadata": {},
     "source": [
      "<qq>Use list comprehensions to fix the problem. Run the command below</qq>\n",
      "\n",
      "This is the correct way of generating a 5x3 matrix in python:\n",
      "\n",
      "**Note:** *range(3) is a standard Python function that generates a list [0,1,2]*"
     ]
    },
    {
     "cell_type": "code",
     "collapsed": false,
     "input": [
      "C = [[0]*5 for i in range(3)]\n",
      "C"
     ],
     "language": "python",
     "metadata": {},
     "outputs": [
      {
       "metadata": {},
       "output_type": "pyout",
       "prompt_number": 18,
       "text": [
        "[[0, 0, 0, 0, 0], [0, 0, 0, 0, 0], [0, 0, 0, 0, 0]]"
       ]
      }
     ],
     "prompt_number": 18
    },
    {
     "cell_type": "markdown",
     "metadata": {},
     "source": [
      "<qq>Now change the the value of the 3<sup>rd</sup> element in the 2<sup>nd</sup> list to \"SUCCESS\""
     ]
    },
    {
     "cell_type": "code",
     "collapsed": false,
     "input": [
      "C[1][2] = \"SUCCESS\"\n",
      "C"
     ],
     "language": "python",
     "metadata": {},
     "outputs": [
      {
       "metadata": {},
       "output_type": "pyout",
       "prompt_number": 19,
       "text": [
        "[[0, 0, 0, 0, 0], [0, 0, 'SUCCESS', 0, 0], [0, 0, 0, 0, 0]]"
       ]
      }
     ],
     "prompt_number": 19
    },
    {
     "cell_type": "markdown",
     "metadata": {},
     "source": [
      "Hopefully you got:"
     ]
    },
    {
     "cell_type": "raw",
     "metadata": {},
     "source": [
      "[[0, 0, 0, 0, 0], [0, 0, 'SUCCESS', 0, 0], [0, 0, 0, 0, 0]]"
     ]
    },
    {
     "cell_type": "markdown",
     "metadata": {},
     "source": [
      "Remember this way of creating multi-dimensional lists. You will be using it later!"
     ]
    },
    {
     "cell_type": "markdown",
     "metadata": {},
     "source": [
      "## OPTIONAL: Pandas DataFrames"
     ]
    },
    {
     "cell_type": "markdown",
     "metadata": {},
     "source": [
      "Lets get a little more familiar with Pandas"
     ]
    },
    {
     "cell_type": "code",
     "collapsed": false,
     "input": [
      "import pandas"
     ],
     "language": "python",
     "metadata": {},
     "outputs": [],
     "prompt_number": 46
    },
    {
     "cell_type": "markdown",
     "metadata": {},
     "source": [
      "The following line reads in a CSV (comma-seperated-values) file from our data directory. Make sure you understand the command"
     ]
    },
    {
     "cell_type": "code",
     "collapsed": false,
     "input": [
      "data = pandas.read_csv(\"../data/weather_year.csv\")"
     ],
     "language": "python",
     "metadata": {},
     "outputs": [],
     "prompt_number": 47
    },
    {
     "cell_type": "markdown",
     "metadata": {},
     "source": [
      "Find the file <cb>weather_year.csv</cb> in your system and open it with Excel or similar.\n",
      "\n",
      "<qq>How many rows does the file contain?</qq>"
     ]
    },
    {
     "cell_type": "raw",
     "metadata": {},
     "source": []
    },
    {
     "cell_type": "markdown",
     "metadata": {},
     "source": [
      "<qq>Find out how to show the number of rows in the *data* object</qq>"
     ]
    },
    {
     "cell_type": "code",
     "collapsed": false,
     "input": [],
     "language": "python",
     "metadata": {},
     "outputs": [],
     "prompt_number": 56
    },
    {
     "cell_type": "markdown",
     "metadata": {},
     "source": [
      "<qq>Find out how to show a list of columns in the *data* object</qq>"
     ]
    },
    {
     "cell_type": "code",
     "collapsed": false,
     "input": [],
     "language": "python",
     "metadata": {},
     "outputs": [],
     "prompt_number": 56
    },
    {
     "cell_type": "markdown",
     "metadata": {},
     "source": [
      "The column names in *data* are a little unweildy, so we're going to rename them. This is as easy as assigning a new list of column names to the columns property of the DataFrame."
     ]
    },
    {
     "cell_type": "code",
     "collapsed": false,
     "input": [
      "column_names = [\"date\", \"max_temp\", \"mean_temp\", \"min_temp\", \"max_dew\",\n",
      "                \"mean_dew\", \"min_dew\", \"max_humidity\", \"mean_humidity\",\n",
      "                \"min_humidity\", \"max_pressure\", \"mean_pressure\",\n",
      "                \"min_pressure\", \"max_visibilty\", \"mean_visibility\",\n",
      "                \"min_visibility\", \"max_wind\", \"mean_wind\", \"min_wind\",\n",
      "                \"precipitation\", \"cloud_cover\", \"events\", \"wind_dir\"]"
     ],
     "language": "python",
     "metadata": {},
     "outputs": [],
     "prompt_number": 57
    },
    {
     "cell_type": "markdown",
     "metadata": {},
     "source": [
      "<qq>Use the list above to rename the column names of *data*</qq>"
     ]
    },
    {
     "cell_type": "code",
     "collapsed": false,
     "input": [],
     "language": "python",
     "metadata": {},
     "outputs": [],
     "prompt_number": 59
    },
    {
     "cell_type": "markdown",
     "metadata": {},
     "source": [
      "There are lots useful methods on columns, such as std() to get the standard deviation. Most of pandas' methods will happily ignore missing values like NaN."
     ]
    },
    {
     "cell_type": "markdown",
     "metadata": {},
     "source": [
      "<qq>Print the first 10 rows of temperature values in the column now named <i>mean_temp</i></qq>\n",
      "**hint:** *use the head() function built into data*"
     ]
    },
    {
     "cell_type": "code",
     "collapsed": false,
     "input": [],
     "language": "python",
     "metadata": {},
     "outputs": []
    },
    {
     "cell_type": "markdown",
     "metadata": {},
     "source": [
      "<qq>Find the mean, standard deviation, minimum and maximum of the *data* column now named <i>mean_temp</i></qq>"
     ]
    },
    {
     "cell_type": "code",
     "collapsed": false,
     "input": [],
     "language": "python",
     "metadata": {},
     "outputs": [],
     "prompt_number": 65
    },
    {
     "cell_type": "markdown",
     "metadata": {},
     "source": [
      "**Final remarks**: The Pandas DataFrame are a very extensive data structure: more than we can cover in this course. You can find a number of tutorials on the pandas module online if it makes sense for you to structure your data like this.\n",
      "\n",
      "Here are a few:\n",
      "\n",
      "http://synesthesiam.com/posts/an-introduction-to-pandas.html <br />\n",
      "https://bitbucket.org/hrojas/learn-pandas"
     ]
    },
    {
     "cell_type": "markdown",
     "metadata": {},
     "source": [
      "---\n"
     ]
    },
    {
     "cell_type": "code",
     "collapsed": false,
     "input": [
      "from IPython.core.display import HTML\n",
      "\n",
      "\n",
      "def css_styling():\n",
      "    styles = open(\"../styles/custom.css\", \"r\").read()\n",
      "    return HTML(styles)\n",
      "css_styling()"
     ],
     "language": "python",
     "metadata": {},
     "outputs": [
      {
       "html": [
        "<style>\n",
        "    div.cell{\n",
        "        width:800px;\n",
        "        margin-left:16% !important;\n",
        "        margin-right:auto;\n",
        "    }\n",
        "    div.text_cell_render{\n",
        "        font-family: \"Helvetica Neue\", Arial, Helvetica, Geneva, sans-serif;\n",
        "        line-height: 145%;\n",
        "        font-size: 100%;\n",
        "        width:800px;\n",
        "        margin-left:auto;\n",
        "        margin-right:auto;\n",
        "    }\n",
        "    .CodeMirror{\n",
        "            font-family: \"Source Code Pro\", source-code-pro,Consolas, monospace;\n",
        "    }\n",
        "    div.CodeMirror{\n",
        "    \tfont-size: 11pt;\n",
        "    }\n",
        "    div.cell.border-box-sizing.code_cell{\n",
        "    \tpadding-left: 50px;\n",
        "    }\n",
        "    div.text_cell_input {\n",
        "    \tmargin-left: 50px;\n",
        "    }\n",
        "    .prompt{\n",
        "        display: None;\n",
        "    }\n",
        "    .text_cell_render h1 {\n",
        "        font-family: Helvetica, serif;\n",
        "        font-size: 30pt;\n",
        "        color: #274257;\n",
        "        text-transform: uppercase;\n",
        "        line-height: 100%;\n",
        "    }\n",
        "    .text_cell_render h2 {\n",
        "    \tmargin-top: 35px;\n",
        "        font-family: Helvetica, serif;\n",
        "        font-size: 24pt;\n",
        "        color: #2A75A9;\n",
        "        line-height: 100%;\n",
        "    }\n",
        "    .text_cell_render h3{\n",
        "    \tmargin-top: 35px;\n",
        "        font-family: Helvetica, serif;\n",
        "        font-size: 18pt;\n",
        "        color: #7EB5D6;\n",
        "        line-height: 100%;\n",
        "       }\n",
        "    .text_cell_render h4{\n",
        "    \tmargin-top: 35px;\n",
        "    \tfont-family: Helvetica, serif;\n",
        "        font-size: 14pt;\n",
        "        line-height: 100%;\n",
        "    }\n",
        "    .text_cell_render h5 {\n",
        "        font-weight: 300;\n",
        "        font-size: 22pt;\n",
        "        color: #4057A1;\n",
        "        font-style: italic;\n",
        "        margin-bottom: .5em;\n",
        "        margin-top: 0.5em;\n",
        "        display: block;\n",
        "        line-height: 100%;\n",
        "    }\n",
        "    \n",
        "    .warning{\n",
        "        color: rgb( 240, 20, 20 )\n",
        "        } \n",
        "    .wds {\n",
        "        background: none repeat scroll 0% 0% rgb(247, 247, 247);\n",
        "        padding: 0em 0em;\n",
        "        font-size: 11px;\n",
        "        font-family: Arial,Helvetica,sans-serif;\n",
        "        display: inline-block;\n",
        "        margin: 0px 0em;\n",
        "        white-space: nowrap;\n",
        "    }\n",
        "    cb {\n",
        "        background: none repeat scroll 0% 0% rgb(247, 247, 247);\n",
        "        padding: 0.1em 0.6em;\n",
        "        border: 1px solid rgb(204, 204, 204);\n",
        "        font-size: 11pt;\n",
        "        font-family: \"Source Code Pro\", source-code-pro,Consolas, monospace;\n",
        "        color: rgb(51, 51, 51);\n",
        "        box-shadow: 0px 1px 0px rgba(0, 0, 0, 0.2), 0px 0px 0px 2px rgb(255, 255, 255) inset;\n",
        "        border-radius: 3px 3px 3px 3px;\n",
        "        display: inline-block;\n",
        "        margin: 0px 0.1em;\n",
        "        line-height: 1.4;\n",
        "        white-space: nowrap;\n",
        "    }\n",
        "    q {\t\n",
        "        font-weight: 300;\n",
        "        font-size: 14pt;\n",
        "        color: #4057A1;\n",
        "        margin-bottom: .5em;\n",
        "        margin-top: 0.5em;\n",
        "        display: block;\n",
        "        font-family: \"Helvetica Neue\", Arial, Helvetica, Geneva, sans-serif;\n",
        "        line-height: 145%;\n",
        "        width:800px;\n",
        "        margin-left:auto;\n",
        "        margin-right:auto;\n",
        "    }\n",
        "    qq {\t\n",
        "        font-weight: 300;\n",
        "        font-size: 11pt;\n",
        "        color: #4057A1;\n",
        "        margin-bottom: .5em;\n",
        "        margin-top: 0.5em;\n",
        "        display: block;\n",
        "        font-family: \"Helvetica Neue\", Arial, Helvetica, Geneva, sans-serif;\n",
        "        line-height: 145%;\n",
        "        width:800px;\n",
        "        margin-left:auto;\n",
        "        margin-right:auto;\n",
        "    }\n",
        "    kbd {\n",
        "        background: none repeat scroll 0% 0% rgb(247, 247, 247);\n",
        "        padding: 0.1em 0.6em;\n",
        "        border: 1px solid rgb(204, 204, 204);\n",
        "        font-size: 11px;\n",
        "        font-family: Arial,Helvetica,sans-serif;\n",
        "        color: rgb(51, 51, 51);\n",
        "        box-shadow: 0px 1px 0px rgba(0, 0, 0, 0.2), 0px 0px 0px 2px rgb(255, 255, 255) inset;\n",
        "        border-radius: 3px 3px 3px 3px;\n",
        "        display: inline-block;\n",
        "        margin: 0px 0.1em;\n",
        "        text-shadow: 0px 1px 0px rgb(255, 255, 255);\n",
        "        line-height: 1.4;\n",
        "        white-space: nowrap;\n",
        "    }\n",
        "    ol {\n",
        "        list-style-type: decimal;\n",
        "    }\n",
        "\n",
        "\t.box_rotate {\n",
        "\t\t  -webkit-transform: rotate(270deg);  /* Chrome, Safari 3.1+ */\n",
        "\t\t     -moz-transform: rotate(270deg);  /* Firefox 3.5-15 */\n",
        "\t\t      -ms-transform: rotate(270deg);  /* IE 9 */\n",
        "\t\t       -o-transform: rotate(270deg);  /* Opera 10.50-12.00 */\n",
        "\t\t          transform: rotate(270deg);  /* Firefox 16+, IE 10+, Opera 12.10+ */\n",
        "\t}\n",
        "\n",
        "\t.vertical-text {\n",
        "\t\tdisplay: inline-block;\n",
        "\t\toverflow: hidden;\n",
        "\t\twidth: 1.5em;\n",
        "\t}\n",
        "\n",
        "\t.vertical-text__inner {\n",
        "\t\tdisplay: inline-block;\n",
        "\t\twhite-space: nowrap;\n",
        "\t\tline-height: 1.5;\n",
        "\t\t  -webkit-transform: rotate(270deg);  /* Chrome, Safari 3.1+ */\n",
        "\t\t     -moz-transform: rotate(270deg);  /* Firefox 3.5-15 */\n",
        "\t\t      -ms-transform: rotate(270deg);  /* IE 9 */\n",
        "\t\t       -o-transform: rotate(270deg);  /* Opera 10.50-12.00 */\n",
        "\t\t          transform: rotate(270deg);  /* Firefox 16+, IE 10+, Opera 12.10+ */\n",
        "\t}\n",
        "\n",
        "\t.vertical-text__inner:after {\n",
        "\t\tcontent: \"\";\n",
        "\t\tdisplay: block;\n",
        "\t\tmargin: -1.5em 0 100%;\n",
        "\t}\n",
        "\n",
        "\t.topics{\n",
        "\t\tbackground: url('files/images/topics.svg') no-repeat scroll 0% 0%; \n",
        "\t\twidth: 520px; \n",
        "\t\theight: 250px; \n",
        "\n",
        "\t\tpadding-top: 35px;\n",
        "\t}\n",
        "\n",
        "</style>\n",
        "<script>\n",
        "    MathJax.Hub.Config({\n",
        "                        TeX: {\n",
        "                           extensions: [\"AMSmath.js\"]\n",
        "                           },\n",
        "                tex2jax: {\n",
        "                    inlineMath: [ ['$','$'], [\"\\\\(\",\"\\\\)\"] ],\n",
        "                    displayMath: [ ['$$','$$'], [\"\\\\[\",\"\\\\]\"] ]\n",
        "                },\n",
        "                displayAlign: 'center', // Change this to 'center' to center equations.\n",
        "                \"HTML-CSS\": {\n",
        "                    styles: {'.MathJax_Display': {\"margin\": 4}}\n",
        "                }\n",
        "        });\n",
        "</script>\n"
       ],
       "output_type": "pyout",
       "prompt_number": 4,
       "text": [
        "<IPython.core.display.HTML at 0x22097d0>"
       ]
      }
     ],
     "prompt_number": 4
    },
    {
     "cell_type": "code",
     "collapsed": false,
     "input": [],
     "language": "python",
     "metadata": {},
     "outputs": []
    }
   ],
   "metadata": {}
  }
 ]
}