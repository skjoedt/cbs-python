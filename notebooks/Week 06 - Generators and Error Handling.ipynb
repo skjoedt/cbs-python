{
 "metadata": {
  "name": ""
 },
 "nbformat": 3,
 "nbformat_minor": 0,
 "worksheets": [
  {
   "cells": [
    {
     "cell_type": "markdown",
     "metadata": {},
     "source": [
      "# Week 06 - Generators and Error Handling\n",
      "\n",
      "<div class=\"topics\">\n",
      "    <div style=\"padding-left: 15px;\">\n",
      "        This lecture will cover:\n",
      "        \n",
      "        <ul>\n",
      "            <li>Generators - A special kind of Function:</li>\n",
      "            <li><b>Introduction to Script files</b></li>\n",
      "            <li>Debugging in Python</li>\n",
      "            <li>Error Handling</li>\n",
      "            <ul>\n",
      "                <li>*A program rarely works as expected.*</li>\n",
      "                <li>Working with *Exceptions*</li>\n",
      "            </ul>\n",
      "        </ul>\n",
      "    </div>\n",
      "</div>"
     ]
    },
    {
     "cell_type": "markdown",
     "metadata": {},
     "source": [
      "## Generators - A Special Kind of Function\n",
      "\n",
      "Normal functions perform some action and the result is returned to the point where it was called. If the result of this function is really huge (a big list or dictionary), this could case problems. \n",
      "\n",
      "Take for example a function that reads a file and returns all the records of this file in a dictionary. If the file is too big (like several times the available memory), the resulting data structure will not fit in memory. \n",
      "\n",
      "<center>\n",
      "<img src=\"files/images/generator.png\" size=\"800px\" />\n",
      "</center>\n",
      "\n",
      "This is a common problem in the field of bioinformatics. If the idea is to process each record, we would need a function that returns a record at a time. **A function can't do that because it doesn't keep a state**, so each times it is executed, it has to process all the data again. \n",
      "\n",
      "To do this, Python offer us **generators**\n",
      "\n",
      ">**Generators** are a speciel function that can keep their internal state.\n",
      "\n",
      "In these functions we can use \n",
      "\n",
      "    yield\n",
      "\n",
      "instead of ```return```. The nice thing about ```yield``` is that it can be used inside a loop. The next time the generator is called, it resumes operation from where it was.\n",
      "\n",
      "<center>\n",
      "<img src=\"files/images/generator2.png\" size=\"800px\" />\n",
      "</center>"
     ]
    },
    {
     "cell_type": "markdown",
     "metadata": {},
     "source": [
      "As an example let's look at **```range()```** and **```xrange()```**. By the look of things, it seems they are doing the same thing:"
     ]
    },
    {
     "cell_type": "code",
     "collapsed": false,
     "input": [
      "for i in range(5):\n",
      "    print i, "
     ],
     "language": "python",
     "metadata": {},
     "outputs": [
      {
       "output_type": "stream",
       "stream": "stdout",
       "text": [
        "0 1 2 3 4\n"
       ]
      }
     ],
     "prompt_number": 6
    },
    {
     "cell_type": "code",
     "collapsed": false,
     "input": [
      "for i in xrange(5):\n",
      "    print i,"
     ],
     "language": "python",
     "metadata": {},
     "outputs": [
      {
       "output_type": "stream",
       "stream": "stdout",
       "text": [
        "0 1 2 3 4\n"
       ]
      }
     ],
     "prompt_number": 7
    },
    {
     "cell_type": "markdown",
     "metadata": {},
     "source": [
      "However, ```range()``` is a function and ```xrange()``` is a **generator**. \n",
      "\n",
      "```range(5)``` produces a list ```[0,1,2,3,4]```:"
     ]
    },
    {
     "cell_type": "code",
     "collapsed": false,
     "input": [
      "range(5)"
     ],
     "language": "python",
     "metadata": {},
     "outputs": [
      {
       "metadata": {},
       "output_type": "pyout",
       "prompt_number": 1,
       "text": [
        "[0, 1, 2, 3, 4]"
       ]
      }
     ],
     "prompt_number": 1
    },
    {
     "cell_type": "markdown",
     "metadata": {},
     "source": [
      "but ```xrange(5)``` does seemingly nothing:"
     ]
    },
    {
     "cell_type": "code",
     "collapsed": false,
     "input": [
      "print xrange(5)"
     ],
     "language": "python",
     "metadata": {},
     "outputs": [
      {
       "output_type": "stream",
       "stream": "stdout",
       "text": [
        "xrange(5)\n"
       ]
      }
     ],
     "prompt_number": 2
    },
    {
     "cell_type": "markdown",
     "metadata": {},
     "source": [
      ">In Python3 ```range()``` has taken the generator functionlity of ```xrange()```"
     ]
    },
    {
     "cell_type": "code",
     "collapsed": false,
     "input": [
      "%%python3\n",
      "xrange(5)"
     ],
     "language": "python",
     "metadata": {},
     "outputs": [
      {
       "output_type": "stream",
       "stream": "stderr",
       "text": [
        "Traceback (most recent call last):\n",
        "  File \"<stdin>\", line 1, in <module>\n",
        "NameError: name 'xrange' is not defined\n"
       ]
      }
     ],
     "prompt_number": 53
    },
    {
     "cell_type": "markdown",
     "metadata": {},
     "source": [
      "Generators are equally fast:"
     ]
    },
    {
     "cell_type": "code",
     "collapsed": false,
     "input": [
      "timeit (' for x in range(10000000): pass')"
     ],
     "language": "python",
     "metadata": {},
     "outputs": [
      {
       "output_type": "stream",
       "stream": "stdout",
       "text": [
        "100000000 loops, best of 3: 8.16 ns per loop\n"
       ]
      }
     ],
     "prompt_number": 3
    },
    {
     "cell_type": "code",
     "collapsed": false,
     "input": [
      "timeit (' for x in xrange(10000000): pass')"
     ],
     "language": "python",
     "metadata": {},
     "outputs": [
      {
       "output_type": "stream",
       "stream": "stdout",
       "text": [
        "100000000 loops, best of 3: 8.21 ns per loop\n"
       ]
      }
     ],
     "prompt_number": 4
    },
    {
     "cell_type": "markdown",
     "metadata": {},
     "source": [
      "However, the memory comsumption is far smaller for generators:"
     ]
    },
    {
     "cell_type": "raw",
     "metadata": {},
     "source": [
      "Running in terminal:\n",
      "python -m timeit \"for x in range(10000000):pass\"\n",
      "\n",
      "and \n",
      "\n",
      "python -m timeit \"for x in xrange(10000000):pass\"\n",
      "\n",
      "while monitoring memory usage (e.g. ```top```) shows a considerable difference."
     ]
    },
    {
     "cell_type": "markdown",
     "metadata": {},
     "source": [
      "## Introduction to Script files\n",
      "\n",
      "<center>\n",
      "<img src=\"files/images/scriptfiles.png\" />\n",
      "</center>"
     ]
    },
    {
     "cell_type": "markdown",
     "metadata": {},
     "source": [
      "## Debugging in Python\n",
      "\n",
      "<center>\n",
      "<img src=\"files/images/debugging.png\" width=\"600px\"/>\n",
      "</center>"
     ]
    },
    {
     "cell_type": "markdown",
     "metadata": {},
     "source": [
      "## Error Handling\n",
      "\n",
      ">\"A program rarely works as expected\"\n",
      "-- Some wise bloke\n",
      "\n",
      "So far we have made lots of programs without error checking. \n",
      "\n",
      "#### A program with no error checking\n",
      "This program reads a file (myfile.csv) separated by tabs and looks for a number that is found in the first column of the first line. This value is multiplied by 0.2 and the result is written to another file (otherfile.csv)."
     ]
    },
    {
     "cell_type": "markdown",
     "metadata": {},
     "source": [
      "*Strategy:* "
     ]
    },
    {
     "cell_type": "code",
     "collapsed": false,
     "input": [
      "f = open(\"myfile.csv\")\n",
      "line = f.readline()\n",
      "f.close()\n",
      "value = line.split(\"\\t\")[0]\n",
      "f = open(\"otherfile.csv\", \"w\")\n",
      "f.write( str( int(value) * 0.2 ) )\n",
      "f.close()"
     ],
     "language": "python",
     "metadata": {},
     "outputs": []
    },
    {
     "cell_type": "markdown",
     "metadata": {},
     "source": [
      "#### Possible errors:\n",
      "\n",
      "**File doesn't exist**"
     ]
    },
    {
     "cell_type": "raw",
     "metadata": {},
     "source": [
      "Traceback (most recent call last):\n",
      "  File \"wotest.py\", line 1, in ?\n",
      "    f = open(\"myfile.csv\")\n",
      "IOError: [Errno 2] No such file or directory: 'myfile.csv'"
     ]
    },
    {
     "cell_type": "markdown",
     "metadata": {},
     "source": [
      "**Don't have permission to create the file called \"otherfile.csv\"**"
     ]
    },
    {
     "cell_type": "raw",
     "metadata": {},
     "source": [
      "Traceback (most recent call last):\n",
      "  File \"wotest.py\", line 5, in ?\n",
      "    f = open(\"otherfile.csv\", \"w\")  \n",
      "IOError: [Errno 13] Permission denied: 'otherfile.csv'"
     ]
    },
    {
     "cell_type": "markdown",
     "metadata": {},
     "source": [
      "**There is no tabs in the file**"
     ]
    },
    {
     "cell_type": "raw",
     "metadata": {},
     "source": [
      "Traceback (most recent call last):\n",
      "  File \"wotest.py\", line 6, in ?\n",
      "    f.write( str( int(value) * 0.2 ) )\n",
      "ValueError: invalid literal for int():"
     ]
    },
    {
     "cell_type": "markdown",
     "metadata": {},
     "source": [
      "All of the errors above causes the program to stop. \n",
      "\n",
      ">It is not professional to show the end user a system error like these."
     ]
    },
    {
     "cell_type": "markdown",
     "metadata": {},
     "source": [
      "#### A program with Error Handling \n",
      "\n",
      "*Strategy:* **L**ook **B**efore **Y**ou **L**eap (LBYL)\n"
     ]
    },
    {
     "cell_type": "code",
     "collapsed": false,
     "input": [
      "import os\n",
      "iname = raw_input(\"Enter input filename: \")\n",
      "oname = raw_input(\"Enter output filename: \")\n",
      "cwd = os.getcwd()\n",
      "if os.path.exists(iname):\n",
      "    fh = open(iname)\n",
      "    line = fh.readline()\n",
      "    fh.close()\n",
      "    if \"\\t\" in line:\n",
      "        value = line.split('\\t')[0]\n",
      "        if os.access(cwd+oname,os.W_OK)==0:\n",
      "            fw = open(cwd+oname,\"w\")\n",
      "            if value.isdigit():\n",
      "                fw.write(str(int(value)*.2))\n",
      "                fw.close()\n",
      "            else:\n",
      "                print(\"It can't be converted to int\")\n",
      "        else:\n",
      "            print(\"Output file is not writable\")\n",
      "    else:\n",
      "        print(\"There is no TAB. Check the input file\")\n",
      "else:\n",
      "    print(\"The file '\" + iname + \"' doesn't exist\")"
     ],
     "language": "python",
     "metadata": {},
     "outputs": [
      {
       "name": "stdout",
       "output_type": "stream",
       "stream": "stdout",
       "text": [
        "Enter input filename: ../data/genes.csv\n"
       ]
      },
      {
       "name": "stdout",
       "output_type": "stream",
       "stream": "stdout",
       "text": [
        "Enter output filename: asdsadasd\n"
       ]
      },
      {
       "output_type": "stream",
       "stream": "stdout",
       "text": [
        "It can't be converted to int\n"
       ]
      }
     ],
     "prompt_number": 9
    },
    {
     "cell_type": "markdown",
     "metadata": {},
     "source": [
      "This way of error handling is not very nice! The code is difficult to read and maintain because error checking is mixed together with the instructions. \n",
      "\n",
      "For this reason new programming languages have included a specific system for the control of *execptional conditions*. "
     ]
    },
    {
     "cell_type": "markdown",
     "metadata": {},
     "source": [
      "## Exception Handling: ```try``` and ```except```\n",
      "\n",
      "In python we can use the \n",
      "\n",
      "    try\n",
      "    \n",
      "to wrap around the code we want to execute and then use\n",
      "\n",
      "    except\n",
      "    \n",
      "to wrap around the code that will be executed if there is an error in the code under the ```try``` block. "
     ]
    },
    {
     "cell_type": "markdown",
     "metadata": {},
     "source": [
      "#### Let's try it"
     ]
    },
    {
     "cell_type": "code",
     "collapsed": false,
     "input": [
      "print 6/0"
     ],
     "language": "python",
     "metadata": {},
     "outputs": [
      {
       "ename": "ZeroDivisionError",
       "evalue": "integer division or modulo by zero",
       "output_type": "pyerr",
       "traceback": [
        "\u001b[1;31m---------------------------------------------------------------------------\u001b[0m\n\u001b[1;31mZeroDivisionError\u001b[0m                         Traceback (most recent call last)",
        "\u001b[1;32m<ipython-input-43-5ffd6ab1c3fb>\u001b[0m in \u001b[0;36m<module>\u001b[1;34m()\u001b[0m\n\u001b[1;32m----> 1\u001b[1;33m \u001b[1;32mprint\u001b[0m \u001b[1;36m6\u001b[0m\u001b[1;33m/\u001b[0m\u001b[1;36m0\u001b[0m\u001b[1;33m\u001b[0m\u001b[0m\n\u001b[0m",
        "\u001b[1;31mZeroDivisionError\u001b[0m: integer division or modulo by zero"
       ]
      }
     ],
     "prompt_number": 43
    },
    {
     "cell_type": "code",
     "collapsed": false,
     "input": [
      "try:\n",
      "    # CODE THAT MAY PRODUCE AN ERROR\n",
      "    print 6/0\n",
      "except:\n",
      "    # CODE THAT SHOULD BE EXECUTED INSTEAD WHEN THE ERROR OCCURS\n",
      "    print \"Houston, we have a problem\""
     ],
     "language": "python",
     "metadata": {},
     "outputs": [
      {
       "output_type": "stream",
       "stream": "stdout",
       "text": [
        "Houston, we have a problem\n"
       ]
      }
     ],
     "prompt_number": 42
    },
    {
     "cell_type": "markdown",
     "metadata": {},
     "source": [
      "#### A Program with *Exception Handling*\n",
      "\n",
      "*Strategy:* It's **E**asier to **A**sk **F**orgiveness than **P**ermission (EAFP)"
     ]
    },
    {
     "cell_type": "code",
     "collapsed": false,
     "input": [
      "import os\n",
      "\n",
      "### CODE THAT WILL ALWAYS WORK\n",
      "iname = raw_input(\"Enter input filename: \")\n",
      "oname = raw_input(\"Enter output filename: \")\n",
      "cwd = os.getcwd()\n",
      "\n",
      "### CODE THAT MAY PRODUCE AN ERROR ###\n",
      "try:\n",
      "    fh = open(iname)\n",
      "    line = fh.readline()\n",
      "    fh.close()\n",
      "    value = line.split('\\t')[0]\n",
      "    fw = open(cwd+oname,\"w\")\n",
      "    fw.write(str(int(value)*.2))\n",
      "    fw.close()\n",
      "    \n",
      "### ERROR HANDLING ###\n",
      "except IOError, (errno,errtext):\n",
      "    if errno==13:\n",
      "        print(\"Can't write to outfile.\")\n",
      "    elif errno==2:\n",
      "        print(\"File not exist\")\n",
      "except ValueError, strerror:        \n",
      "    if \"substring not found\" in strerror.message:\n",
      "        print(\"There is no tab\")\n",
      "    elif \"invalid literal for int\" in strerror.message:\n",
      "        print(\"The value can't be converted to int\")\n",
      "except:\n",
      "    print \"Some unknown error occured!?\"\n",
      "else:\n",
      "    print(\"Thank you!. Everything went OK.\")"
     ],
     "language": "python",
     "metadata": {},
     "outputs": [
      {
       "name": "stdout",
       "output_type": "stream",
       "stream": "stdout",
       "text": [
        "Enter input filename: sdksajdsa\n"
       ]
      },
      {
       "name": "stdout",
       "output_type": "stream",
       "stream": "stdout",
       "text": [
        "Enter output filename: sadaskljda\n"
       ]
      },
      {
       "output_type": "stream",
       "stream": "stdout",
       "text": [
        "File not exist\n"
       ]
      }
     ],
     "prompt_number": 5
    },
    {
     "cell_type": "markdown",
     "metadata": {},
     "source": [
      "> \"You can make it foolproof, but you can't make it damnfoolproof\" -- Naeser's law"
     ]
    },
    {
     "cell_type": "markdown",
     "metadata": {},
     "source": [
      "#### Provoking Exceptions\n",
      "\n",
      "Say we have a function that calculates the average of a sequence of numbers:"
     ]
    },
    {
     "cell_type": "code",
     "collapsed": false,
     "input": [
      "def avg(numbers):\n",
      "    return sum(numbers) / len(numbers)"
     ],
     "language": "python",
     "metadata": {},
     "outputs": [],
     "prompt_number": 45
    },
    {
     "cell_type": "markdown",
     "metadata": {},
     "source": [
      "A function of this type with have problems with an empty list"
     ]
    },
    {
     "cell_type": "code",
     "collapsed": false,
     "input": [
      "avg( [] )"
     ],
     "language": "python",
     "metadata": {},
     "outputs": [
      {
       "ename": "ZeroDivisionError",
       "evalue": "integer division or modulo by zero",
       "output_type": "pyerr",
       "traceback": [
        "\u001b[1;31m---------------------------------------------------------------------------\u001b[0m\n\u001b[1;31mZeroDivisionError\u001b[0m                         Traceback (most recent call last)",
        "\u001b[1;32m<ipython-input-46-3bbc4efbc54f>\u001b[0m in \u001b[0;36m<module>\u001b[1;34m()\u001b[0m\n\u001b[1;32m----> 1\u001b[1;33m \u001b[0mavg\u001b[0m\u001b[1;33m(\u001b[0m \u001b[1;33m[\u001b[0m\u001b[1;33m]\u001b[0m \u001b[1;33m)\u001b[0m\u001b[1;33m\u001b[0m\u001b[0m\n\u001b[0m",
        "\u001b[1;32m<ipython-input-45-5a8811d967ec>\u001b[0m in \u001b[0;36mavg\u001b[1;34m(numbers)\u001b[0m\n\u001b[0;32m      1\u001b[0m \u001b[1;32mdef\u001b[0m \u001b[0mavg\u001b[0m\u001b[1;33m(\u001b[0m\u001b[0mnumbers\u001b[0m\u001b[1;33m)\u001b[0m\u001b[1;33m:\u001b[0m\u001b[1;33m\u001b[0m\u001b[0m\n\u001b[1;32m----> 2\u001b[1;33m     \u001b[1;32mreturn\u001b[0m \u001b[0msum\u001b[0m\u001b[1;33m(\u001b[0m\u001b[0mnumbers\u001b[0m\u001b[1;33m)\u001b[0m \u001b[1;33m/\u001b[0m \u001b[0mlen\u001b[0m\u001b[1;33m(\u001b[0m\u001b[0mnumbers\u001b[0m\u001b[1;33m)\u001b[0m\u001b[1;33m\u001b[0m\u001b[0m\n\u001b[0m",
        "\u001b[1;31mZeroDivisionError\u001b[0m: integer division or modulo by zero"
       ]
      }
     ],
     "prompt_number": 46
    },
    {
     "cell_type": "markdown",
     "metadata": {},
     "source": [
      "The error doesn't tell us that it was caused by an empty list. It would be more interesting with if this error could point this out for us. For this we can **raise** an exception"
     ]
    },
    {
     "cell_type": "code",
     "collapsed": false,
     "input": [
      "def avg(numbers):\n",
      "    if not numbers:\n",
      "        raise ValueError( \"The list provided is empty!\" )\n",
      "    return sum(numbers) / len(numbers)"
     ],
     "language": "python",
     "metadata": {},
     "outputs": [],
     "prompt_number": 48
    },
    {
     "cell_type": "code",
     "collapsed": false,
     "input": [
      "avg( [] )"
     ],
     "language": "python",
     "metadata": {},
     "outputs": [
      {
       "ename": "ValueError",
       "evalue": "The list provided is empty!",
       "output_type": "pyerr",
       "traceback": [
        "\u001b[1;31m---------------------------------------------------------------------------\u001b[0m\n\u001b[1;31mValueError\u001b[0m                                Traceback (most recent call last)",
        "\u001b[1;32m<ipython-input-49-3bbc4efbc54f>\u001b[0m in \u001b[0;36m<module>\u001b[1;34m()\u001b[0m\n\u001b[1;32m----> 1\u001b[1;33m \u001b[0mavg\u001b[0m\u001b[1;33m(\u001b[0m \u001b[1;33m[\u001b[0m\u001b[1;33m]\u001b[0m \u001b[1;33m)\u001b[0m\u001b[1;33m\u001b[0m\u001b[0m\n\u001b[0m",
        "\u001b[1;32m<ipython-input-48-b59786bf8ce3>\u001b[0m in \u001b[0;36mavg\u001b[1;34m(numbers)\u001b[0m\n\u001b[0;32m      1\u001b[0m \u001b[1;32mdef\u001b[0m \u001b[0mavg\u001b[0m\u001b[1;33m(\u001b[0m\u001b[0mnumbers\u001b[0m\u001b[1;33m)\u001b[0m\u001b[1;33m:\u001b[0m\u001b[1;33m\u001b[0m\u001b[0m\n\u001b[0;32m      2\u001b[0m     \u001b[1;32mif\u001b[0m \u001b[1;32mnot\u001b[0m \u001b[0mnumbers\u001b[0m\u001b[1;33m:\u001b[0m\u001b[1;33m\u001b[0m\u001b[0m\n\u001b[1;32m----> 3\u001b[1;33m         \u001b[1;32mraise\u001b[0m \u001b[0mValueError\u001b[0m\u001b[1;33m(\u001b[0m \u001b[1;34m\"The list provided is empty!\"\u001b[0m \u001b[1;33m)\u001b[0m\u001b[1;33m\u001b[0m\u001b[0m\n\u001b[0m\u001b[0;32m      4\u001b[0m     \u001b[1;32mreturn\u001b[0m \u001b[0msum\u001b[0m\u001b[1;33m(\u001b[0m\u001b[0mnumbers\u001b[0m\u001b[1;33m)\u001b[0m \u001b[1;33m/\u001b[0m \u001b[0mlen\u001b[0m\u001b[1;33m(\u001b[0m\u001b[0mnumbers\u001b[0m\u001b[1;33m)\u001b[0m\u001b[1;33m\u001b[0m\u001b[0m\n",
        "\u001b[1;31mValueError\u001b[0m: The list provided is empty!"
       ]
      }
     ],
     "prompt_number": 49
    },
    {
     "cell_type": "markdown",
     "metadata": {},
     "source": [
      "Now instead of a ZeroDivisionError we get a ValueError that points the user to the cause of the problem. "
     ]
    },
    {
     "cell_type": "markdown",
     "metadata": {},
     "source": [
      "## Update the exercise!\n",
      "** !!! Before you do anything, backup your exercises !!! **\n",
      "#### For Windows: \n",
      "\n",
      "Open the Git Shell <img src=\"files/images/gitshell.png\" /> icon (<b>not the blue one</b>). Type in \n",
      "\n",
      "<cb>cd cbs-python</cb><br />\n",
      "<cb>git checkout -f master</cb><br />\n",
      "<cb>git pull origin master</cb><br /><br  />\n",
      "\n",
      "#### For MAC and Linux:\n",
      "\n",
      "Open a terminal. Navigate to the course directory (Whereever you placed it):\n",
      "\n",
      "<cb>cd ~/Documents/Courses/cbs-python</cb><br/>\n",
      "\n",
      "Now update the folder using\n",
      "\n",
      "<cb>git checkout -f master</cb><br />\n",
      "<cb>git pull origin master</cb><br /><br  />"
     ]
    },
    {
     "cell_type": "code",
     "collapsed": false,
     "input": [
      "from IPython.core.display import HTML\n",
      "\n",
      "\n",
      "def css_styling():\n",
      "    styles = open(\"../styles/custom.css\", \"r\").read()\n",
      "    return HTML(styles)\n",
      "css_styling()"
     ],
     "language": "python",
     "metadata": {},
     "outputs": [
      {
       "html": [
        "<style>\n",
        "    div.cell{\n",
        "        width:800px;\n",
        "        margin-left:16% !important;\n",
        "        margin-right:auto;\n",
        "    }\n",
        "    div.text_cell_render{\n",
        "        font-family: \"Helvetica Neue\", Arial, Helvetica, Geneva, sans-serif;\n",
        "        line-height: 145%;\n",
        "        font-size: 100%;\n",
        "        width:800px;\n",
        "        margin-left:auto;\n",
        "        margin-right:auto;\n",
        "    }\n",
        "    .CodeMirror{\n",
        "            font-family: \"Source Code Pro\", source-code-pro,Consolas, monospace;\n",
        "    }\n",
        "    div.CodeMirror{\n",
        "    \tfont-size: 11pt;\n",
        "    }\n",
        "    div.cell.border-box-sizing.code_cell{\n",
        "    \tpadding-left: 50px;\n",
        "    }\n",
        "    div.text_cell_input {\n",
        "    \tmargin-left: 50px;\n",
        "    }\n",
        "    .prompt{\n",
        "        display: None;\n",
        "    }\n",
        "    .text_cell_render h1 {\n",
        "        font-family: Helvetica, serif;\n",
        "        font-size: 30pt;\n",
        "        color: #274257;\n",
        "        text-transform: uppercase;\n",
        "        line-height: 100%;\n",
        "    }\n",
        "    .text_cell_render h2 {\n",
        "    \tmargin-top: 35px;\n",
        "        font-family: Helvetica, serif;\n",
        "        font-size: 24pt;\n",
        "        color: #2A75A9;\n",
        "        line-height: 100%;\n",
        "    }\n",
        "    .text_cell_render h3{\n",
        "    \tmargin-top: 35px;\n",
        "        font-family: Helvetica, serif;\n",
        "        font-size: 18pt;\n",
        "        color: #7EB5D6;\n",
        "        line-height: 100%;\n",
        "       }\n",
        "    .text_cell_render h4{\n",
        "    \tmargin-top: 35px;\n",
        "    \tfont-family: Helvetica, serif;\n",
        "        font-size: 14pt;\n",
        "        line-height: 100%;\n",
        "    }\n",
        "    .text_cell_render h5 {\n",
        "        font-weight: 300;\n",
        "        font-size: 22pt;\n",
        "        color: #4057A1;\n",
        "        font-style: italic;\n",
        "        margin-bottom: .5em;\n",
        "        margin-top: 0.5em;\n",
        "        display: block;\n",
        "        line-height: 100%;\n",
        "    }\n",
        "    \n",
        "    .warning{\n",
        "        color: rgb( 240, 20, 20 )\n",
        "        } \n",
        "    .wds {\n",
        "        background: none repeat scroll 0% 0% rgb(247, 247, 247);\n",
        "        padding: 0em 0em;\n",
        "        font-size: 11px;\n",
        "        font-family: Arial,Helvetica,sans-serif;\n",
        "        display: inline-block;\n",
        "        margin: 0px 0em;\n",
        "        white-space: nowrap;\n",
        "    }\n",
        "    cb {\n",
        "        background: none repeat scroll 0% 0% rgb(247, 247, 247);\n",
        "        padding: 0.1em 0.6em;\n",
        "        border: 1px solid rgb(204, 204, 204);\n",
        "        font-size: 11pt;\n",
        "        font-family: \"Source Code Pro\", source-code-pro,Consolas, monospace;\n",
        "        color: rgb(51, 51, 51);\n",
        "        box-shadow: 0px 1px 0px rgba(0, 0, 0, 0.2), 0px 0px 0px 2px rgb(255, 255, 255) inset;\n",
        "        border-radius: 3px 3px 3px 3px;\n",
        "        display: inline-block;\n",
        "        margin: 0px 0.1em;\n",
        "        line-height: 1.4;\n",
        "        white-space: nowrap;\n",
        "    }\n",
        "    q {\t\n",
        "        font-weight: 300;\n",
        "        font-size: 14pt;\n",
        "        color: #4057A1;\n",
        "        margin-bottom: .5em;\n",
        "        margin-top: 0.5em;\n",
        "        display: block;\n",
        "        font-family: \"Helvetica Neue\", Arial, Helvetica, Geneva, sans-serif;\n",
        "        line-height: 145%;\n",
        "        width:800px;\n",
        "        margin-left:auto;\n",
        "        margin-right:auto;\n",
        "    }\n",
        "    qq {\t\n",
        "        font-weight: 300;\n",
        "        font-size: 11pt;\n",
        "        color: #4057A1;\n",
        "        margin-bottom: .5em;\n",
        "        margin-top: 0.5em;\n",
        "        display: block;\n",
        "        font-family: \"Helvetica Neue\", Arial, Helvetica, Geneva, sans-serif;\n",
        "        line-height: 145%;\n",
        "        width:800px;\n",
        "        margin-left:auto;\n",
        "        margin-right:auto;\n",
        "    }\n",
        "    kbd {\n",
        "        background: none repeat scroll 0% 0% rgb(247, 247, 247);\n",
        "        padding: 0.1em 0.6em;\n",
        "        border: 1px solid rgb(204, 204, 204);\n",
        "        font-size: 11px;\n",
        "        font-family: Arial,Helvetica,sans-serif;\n",
        "        color: rgb(51, 51, 51);\n",
        "        box-shadow: 0px 1px 0px rgba(0, 0, 0, 0.2), 0px 0px 0px 2px rgb(255, 255, 255) inset;\n",
        "        border-radius: 3px 3px 3px 3px;\n",
        "        display: inline-block;\n",
        "        margin: 0px 0.1em;\n",
        "        text-shadow: 0px 1px 0px rgb(255, 255, 255);\n",
        "        line-height: 1.4;\n",
        "        white-space: nowrap;\n",
        "    }\n",
        "    ol {\n",
        "        list-style-type: decimal;\n",
        "    }\n",
        "\n",
        "\t.box_rotate {\n",
        "\t\t  -webkit-transform: rotate(270deg);  /* Chrome, Safari 3.1+ */\n",
        "\t\t     -moz-transform: rotate(270deg);  /* Firefox 3.5-15 */\n",
        "\t\t      -ms-transform: rotate(270deg);  /* IE 9 */\n",
        "\t\t       -o-transform: rotate(270deg);  /* Opera 10.50-12.00 */\n",
        "\t\t          transform: rotate(270deg);  /* Firefox 16+, IE 10+, Opera 12.10+ */\n",
        "\t}\n",
        "\n",
        "\t.vertical-text {\n",
        "\t\tdisplay: inline-block;\n",
        "\t\toverflow: hidden;\n",
        "\t\twidth: 1.5em;\n",
        "\t}\n",
        "\n",
        "\t.vertical-text__inner {\n",
        "\t\tdisplay: inline-block;\n",
        "\t\twhite-space: nowrap;\n",
        "\t\tline-height: 1.5;\n",
        "\t\t  -webkit-transform: rotate(270deg);  /* Chrome, Safari 3.1+ */\n",
        "\t\t     -moz-transform: rotate(270deg);  /* Firefox 3.5-15 */\n",
        "\t\t      -ms-transform: rotate(270deg);  /* IE 9 */\n",
        "\t\t       -o-transform: rotate(270deg);  /* Opera 10.50-12.00 */\n",
        "\t\t          transform: rotate(270deg);  /* Firefox 16+, IE 10+, Opera 12.10+ */\n",
        "\t}\n",
        "\n",
        "\t.vertical-text__inner:after {\n",
        "\t\tcontent: \"\";\n",
        "\t\tdisplay: block;\n",
        "\t\tmargin: -1.5em 0 100%;\n",
        "\t}\n",
        "\n",
        "\t.topics{\n",
        "\t\tbackground: url('files/images/topics.png') no-repeat scroll 0% 0%; \n",
        "\t\twidth: 520px; \n",
        "\t\theight: 250px; \n",
        "\n",
        "\t\tpadding-top: 35px;\n",
        "\t}\n",
        "\n",
        "\t.c_program{\n",
        "\t\tbackground: url('files/images/program.png') no-repeat scroll 0% 0%; width: 520px; margin-left: auto; margin-right: auto;\n",
        "\t}\n",
        "\n",
        "\t.c_require{\n",
        "\t\tbackground: url('files/images/software.png') no-repeat scroll 0% 0%; width: 520px; height: 250px; margin-left: auto; margin-right: auto;\n",
        "\t}\n",
        "\n",
        "</style>\n",
        "<script>\n",
        "    MathJax.Hub.Config({\n",
        "                        TeX: {\n",
        "                           extensions: [\"AMSmath.js\"]\n",
        "                           },\n",
        "                tex2jax: {\n",
        "                    inlineMath: [ ['$','$'], [\"\\\\(\",\"\\\\)\"] ],\n",
        "                    displayMath: [ ['$$','$$'], [\"\\\\[\",\"\\\\]\"] ]\n",
        "                },\n",
        "                displayAlign: 'center', // Change this to 'center' to center equations.\n",
        "                \"HTML-CSS\": {\n",
        "                    styles: {'.MathJax_Display': {\"margin\": 4}}\n",
        "                }\n",
        "        });\n",
        "</script>\n"
       ],
       "metadata": {},
       "output_type": "pyout",
       "prompt_number": 3,
       "text": [
        "<IPython.core.display.HTML at 0x1f86a50>"
       ]
      }
     ],
     "prompt_number": 3
    },
    {
     "cell_type": "code",
     "collapsed": false,
     "input": [],
     "language": "python",
     "metadata": {},
     "outputs": []
    }
   ],
   "metadata": {}
  }
 ]
}