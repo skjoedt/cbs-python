{
 "metadata": {
  "name": ""
 },
 "nbformat": 3,
 "nbformat_minor": 0,
 "worksheets": [
  {
   "cells": [
    {
     "cell_type": "markdown",
     "metadata": {},
     "source": [
      "# Week 09 - BioPython and Final Remarks\n",
      "\n",
      "<div class=\"topics\">\n",
      "    <div style=\"padding-left: 15px;\">\n",
      "        This lecture will cover:\n",
      "        <ul>\n",
      "        <li>BioPython</li>\n",
      "        <ul>\n",
      "            <li>An Introduction to the BioPython module</li>\n",
      "            <li>Ways of making life easier in computational biology</li>\n",
      "        </ul>\n",
      "        <li>Become an Expert in Command Line Python</li>\n",
      "        <li>Projects</li>\n",
      "        </ul>\n",
      "    </div>\n",
      "</div>\n"
     ]
    },
    {
     "cell_type": "markdown",
     "metadata": {},
     "source": [
      "## BioPython\n",
      "#### What is BioPython?\n",
      "\n",
      ">\"The Biopython Project is an international association of developers of freely available Python tools for computational molecular biology. Basically, we just like to program in Python and want to make it as easy as possible to use Python for bioinformatics by creating high-quality, reusable modules and scripts.\" --\n",
      "http://biopython.org\n",
      "\n",
      "#### What does it contain? \n",
      "\n",
      ">\"A lot...\"\n",
      "\n",
      "<center>\n",
      "<img src=\"files/images/BioPython.png\" width=\"800px\" />\n",
      "</center>"
     ]
    },
    {
     "cell_type": "markdown",
     "metadata": {},
     "source": [
      "## A few Examples\n",
      "The best way to explain how to use BioPython is by examples"
     ]
    },
    {
     "cell_type": "markdown",
     "metadata": {},
     "source": [
      "#### The Alphabet\n",
      "The BioPython module contains alphabets to declare a sequence type such as DNA and Proteins."
     ]
    },
    {
     "cell_type": "code",
     "collapsed": false,
     "input": [
      "from Bio import Alphabet\n",
      "print Alphabet.ThreeLetterProtein.letters"
     ],
     "language": "python",
     "metadata": {},
     "outputs": [
      {
       "output_type": "stream",
       "stream": "stdout",
       "text": [
        "['Ala', 'Asx', 'Cys', 'Asp', 'Glu', 'Phe', 'Gly', 'His', 'Ile', 'Lys', 'Leu', 'Met', 'Asn', 'Pro', 'Gln', 'Arg', 'Ser', 'Thr', 'Sec', 'Val', 'Trp', 'Xaa', 'Tyr', 'Glx']\n"
       ]
      }
     ],
     "prompt_number": 1
    },
    {
     "cell_type": "code",
     "collapsed": false,
     "input": [
      "from Bio.Alphabet import IUPAC\n",
      "print IUPAC.IUPACProtein.letters\n",
      "print IUPAC.unambiguous_dna.letters"
     ],
     "language": "python",
     "metadata": {},
     "outputs": [
      {
       "output_type": "stream",
       "stream": "stdout",
       "text": [
        "ACDEFGHIKLMNPQRSTVWY\n",
        "GATC\n"
       ]
      }
     ],
     "prompt_number": 2
    },
    {
     "cell_type": "markdown",
     "metadata": {},
     "source": [
      "#### Seq Objects\n",
      "This objects is composed of a sequence of a specific type (alphabet)"
     ]
    },
    {
     "cell_type": "code",
     "collapsed": false,
     "input": [
      "from Bio.Seq import Seq\n",
      "my_gene = Seq(\"CCGGGTT\", IUPAC.unambiguous_dna)\n",
      "my_gene"
     ],
     "language": "python",
     "metadata": {},
     "outputs": [
      {
       "metadata": {},
       "output_type": "pyout",
       "prompt_number": 3,
       "text": [
        "Seq('CCGGGTT', IUPACUnambiguousDNA())"
       ]
      }
     ],
     "prompt_number": 3
    },
    {
     "cell_type": "code",
     "collapsed": false,
     "input": [
      "my_gene.transcribe()"
     ],
     "language": "python",
     "metadata": {},
     "outputs": [
      {
       "metadata": {},
       "output_type": "pyout",
       "prompt_number": 4,
       "text": [
        "Seq('CCGGGUU', IUPACUnambiguousRNA())"
       ]
      }
     ],
     "prompt_number": 4
    },
    {
     "cell_type": "code",
     "collapsed": false,
     "input": [
      "my_gene.translate()"
     ],
     "language": "python",
     "metadata": {},
     "outputs": [
      {
       "metadata": {},
       "output_type": "pyout",
       "prompt_number": 5,
       "text": [
        "Seq('PG', IUPACProtein())"
       ]
      }
     ],
     "prompt_number": 5
    },
    {
     "cell_type": "markdown",
     "metadata": {},
     "source": [
      "Many of the string methods applies on these Seq objects, like"
     ]
    },
    {
     "cell_type": "code",
     "collapsed": false,
     "input": [
      "my_gene[4:]"
     ],
     "language": "python",
     "metadata": {},
     "outputs": [
      {
       "metadata": {},
       "output_type": "pyout",
       "prompt_number": 6,
       "text": [
        "Seq('GTT', IUPACUnambiguousDNA())"
       ]
      }
     ],
     "prompt_number": 6
    },
    {
     "cell_type": "code",
     "collapsed": false,
     "input": [
      "len(my_gene)"
     ],
     "language": "python",
     "metadata": {},
     "outputs": [
      {
       "metadata": {},
       "output_type": "pyout",
       "prompt_number": 7,
       "text": [
        "7"
       ]
      }
     ],
     "prompt_number": 7
    },
    {
     "cell_type": "markdown",
     "metadata": {},
     "source": [
      "If you need it to be a string, you can always convert it"
     ]
    },
    {
     "cell_type": "code",
     "collapsed": false,
     "input": [
      "str(my_gene)"
     ],
     "language": "python",
     "metadata": {},
     "outputs": [
      {
       "metadata": {},
       "output_type": "pyout",
       "prompt_number": 8,
       "text": [
        "'CCGGGTT'"
       ]
      }
     ],
     "prompt_number": 8
    },
    {
     "cell_type": "markdown",
     "metadata": {},
     "source": [
      "#### SeqRecord\n",
      "SeqRecord is a python Class that represents a sequence record containing the sequence itself, name and id. Much like an entry from a fasta file. Let's see how it works"
     ]
    },
    {
     "cell_type": "code",
     "collapsed": false,
     "input": [
      "from Bio.SeqRecord import SeqRecord\n",
      "my_record = SeqRecord( my_gene , id=\"001\", name=\"MyGene1\",\n",
      "                      description=\"My first gene\")\n",
      "print my_record"
     ],
     "language": "python",
     "metadata": {},
     "outputs": [
      {
       "output_type": "stream",
       "stream": "stdout",
       "text": [
        "ID: 001\n",
        "Name: MyGene1\n",
        "Description: My first gene\n",
        "Number of features: 0\n",
        "Seq('CCGGGTT', IUPACUnambiguousDNA())\n"
       ]
      }
     ],
     "prompt_number": 9
    },
    {
     "cell_type": "markdown",
     "metadata": {},
     "source": [
      "#### SeqIO\n",
      "This class contains methods for reading and writing sequence files and handle them as SeqRecord objects. "
     ]
    },
    {
     "cell_type": "code",
     "collapsed": false,
     "input": [
      "from Bio import SeqIO"
     ],
     "language": "python",
     "metadata": {},
     "outputs": [],
     "prompt_number": 11
    },
    {
     "cell_type": "markdown",
     "metadata": {},
     "source": [
      "**Reading Sequence files**\n",
      "\n",
      "If there is only one sequence use ```SeqIO.read()```:"
     ]
    },
    {
     "cell_type": "code",
     "collapsed": false,
     "input": [
      "hbg = SeqIO.read( \"../data/human_beta_globin.fasta\" , \"fasta\" )\n",
      "\n",
      "print hbg"
     ],
     "language": "python",
     "metadata": {},
     "outputs": [
      {
       "output_type": "stream",
       "stream": "stdout",
       "text": [
        "ID: ENA|V00499|V00499.1\n",
        "Name: ENA|V00499|V00499.1\n",
        "Description: ENA|V00499|V00499.1 Human germ line gene for beta-globin. : Location:1..2052\n",
        "Number of features: 0\n",
        "Seq('CCCTGTGGAGCCACACCCTAGGGTTGGCCAATCTACTCCCAGGAGCAGGGAGGG...ACT', SingleLetterAlphabet())\n"
       ]
      }
     ],
     "prompt_number": 12
    },
    {
     "cell_type": "markdown",
     "metadata": {},
     "source": [
      "If there is more than one sequence use ```SeqIO.parse()```"
     ]
    },
    {
     "cell_type": "code",
     "collapsed": false,
     "input": [
      "for record in SeqIO.parse( \"../data/HIV-1_M-B.fasta\" , \"fasta\" ):\n",
      "    print record.id, \"- length:\", len(record.seq)"
     ],
     "language": "python",
     "metadata": {},
     "outputs": [
      {
       "output_type": "stream",
       "stream": "stdout",
       "text": [
        "sp|P03378|ENV_HV1A2 - length: 855\n",
        "sp|P03349|GAG_HV1A2 - length: 502\n",
        "sp|P03407|NEF_HV1A2 - length: 210\n",
        "sp|P03369|POL_HV1A2 - length: 1437\n",
        "sp|P04623|REV_HV1A2 - length: 116\n",
        "sp|P04614|TAT_HV1A2 - length: 101\n",
        "sp|P04614-2|TAT_HV1A2 - length: 72\n",
        "sp|P03402|VIF_HV1A2 - length: 192\n",
        "sp|P05952|VPR_HV1A2 - length: 97\n",
        "sp|P05949|VPU_HV1A2 - length: 81\n"
       ]
      }
     ],
     "prompt_number": 13
    },
    {
     "cell_type": "markdown",
     "metadata": {},
     "source": [
      "**Writing to files**\n",
      "\n",
      "Writing works in the opposite way, turning one or more SeqRecord objects into a file. "
     ]
    },
    {
     "cell_type": "code",
     "collapsed": false,
     "input": [
      "SeqIO.write( my_record , \"../data/my_gene.gbk\" , \"genbank\" )"
     ],
     "language": "python",
     "metadata": {},
     "outputs": [
      {
       "metadata": {},
       "output_type": "pyout",
       "prompt_number": 14,
       "text": [
        "1"
       ]
      }
     ],
     "prompt_number": 14
    },
    {
     "cell_type": "code",
     "collapsed": false,
     "input": [
      "SeqIO.read( \"../data/my_gene.gbk\" , \"genbank\" )"
     ],
     "language": "python",
     "metadata": {},
     "outputs": [
      {
       "metadata": {},
       "output_type": "pyout",
       "prompt_number": 15,
       "text": [
        "SeqRecord(seq=Seq('CCGGGTT', IUPACAmbiguousDNA()), id='001', name='MyGene1', description='My first gene', dbxrefs=[])"
       ]
      }
     ],
     "prompt_number": 15
    },
    {
     "cell_type": "markdown",
     "metadata": {},
     "source": [
      "#### BLAST\n",
      "The Blast module in BioPython contain functions to deal with blast programs and output. \n",
      "\n",
      "** Running a local NCBI BLAST on Interaction**"
     ]
    },
    {
     "cell_type": "code",
     "collapsed": false,
     "input": [
      "from Bio.Blast import NCBIStandalone as BLAST"
     ],
     "language": "python",
     "metadata": {},
     "outputs": []
    },
    {
     "cell_type": "markdown",
     "metadata": {},
     "source": [
      "This module simply works as a Blast wrapper (a piece of code to parse along the commandline options) for the blast program locally installed on the computer. "
     ]
    },
    {
     "cell_type": "code",
     "collapsed": false,
     "input": [
      "blast_exe = '/usr/cbs/bio/bin/Linux/ia64/blastall'\n",
      "file_in = '/path/to/my/file.fasta'\n",
      "blast_db = '/path/to/my/blast/database'\n",
      "\n",
      "result_handle, error_handle = BLAST.blastall(blast_exe, \"blastn\", blast_db, file_in)"
     ],
     "language": "python",
     "metadata": {},
     "outputs": []
    },
    {
     "cell_type": "markdown",
     "metadata": {},
     "source": [
      "```result_handle``` contains the blast object from the run. Any errors will be placed in the ```error_handle```."
     ]
    },
    {
     "cell_type": "markdown",
     "metadata": {},
     "source": [
      "** Running BLAST over the internet **\n",
      "\n",
      "The function ```qblast()``` in the ```NCBIWWW``` module calls the *online* version of BLAST. This is slower than the standalone and does not offer the same flexibility for custom databases."
     ]
    },
    {
     "cell_type": "code",
     "collapsed": false,
     "input": [
      "from Bio.Blast import NCBIWWW"
     ],
     "language": "python",
     "metadata": {},
     "outputs": [],
     "prompt_number": 16
    },
    {
     "cell_type": "markdown",
     "metadata": {},
     "source": [
      "The function takes three arguments: ```qblast(program, database, sequence)```. Here is an example where we just give the Gene ID as sequence:"
     ]
    },
    {
     "cell_type": "code",
     "collapsed": false,
     "input": [
      "result_handle = NCBIWWW.qblast(\"blastn\", \"nr\", \"8332116\")"
     ],
     "language": "python",
     "metadata": {},
     "outputs": [],
     "prompt_number": 21
    },
    {
     "cell_type": "markdown",
     "metadata": {},
     "source": [
      "The result of the ```qblast()``` function is similar to a file handle object when we use ```open(\"myfile\")```. Similarly we can use ```read()``` to get the content."
     ]
    },
    {
     "cell_type": "code",
     "collapsed": false,
     "input": [
      "blast_result = result_handle.read()"
     ],
     "language": "python",
     "metadata": {},
     "outputs": [],
     "prompt_number": 20
    },
    {
     "cell_type": "markdown",
     "metadata": {},
     "source": [
      "Which is nothing more than an XML file: "
     ]
    },
    {
     "cell_type": "code",
     "collapsed": false,
     "input": [
      "print blast_result[0:1000]"
     ],
     "language": "python",
     "metadata": {},
     "outputs": []
    },
    {
     "cell_type": "markdown",
     "metadata": {},
     "source": [
      "BioPython offers a tool to process the XML file in the ```NCBIXML``` module:"
     ]
    },
    {
     "cell_type": "code",
     "collapsed": false,
     "input": [
      "from Bio.Blast import NCBIXML"
     ],
     "language": "python",
     "metadata": {},
     "outputs": [],
     "prompt_number": 22
    },
    {
     "cell_type": "markdown",
     "metadata": {},
     "source": [
      "The module has a ```parse()``` that takes as argument the file handle for the blast result and returns an *iterator* for each record in the result. There is *one* record per *query sequence*. In our case, we only had one query sequence, and therefore only one record. "
     ]
    },
    {
     "cell_type": "code",
     "collapsed": false,
     "input": [
      "for record in NCBIXML.parse(result_handle):\n",
      "    pass"
     ],
     "language": "python",
     "metadata": {},
     "outputs": [],
     "prompt_number": 23
    },
    {
     "cell_type": "markdown",
     "metadata": {},
     "source": [
      "\n",
      "Inside the record object is the *alignments* as well as all the parameters used in the run. Each alignment object contains information of the hit (title, accession number) and a list of *high scoring segment pairs* (HSPS) which is a segment of an alignment, shown below.\n",
      "\n",
      "<center>\n",
      "<img src=\"files/images/blasthsp.png\" width=\"600px\" />\n",
      "</center>"
     ]
    },
    {
     "cell_type": "code",
     "collapsed": false,
     "input": [
      "for align in record.alignments:\n",
      "    print align.title[:35] + \", E =\", align.hsps[0].expect,\\\n",
      "    \", Accession:\", str(align.accession)"
     ],
     "language": "python",
     "metadata": {},
     "outputs": [
      {
       "output_type": "stream",
       "stream": "stdout",
       "text": [
        "gi|224094601|ref|XM_002310151.1| Po, E = 8.26116e-88 , Accession: XM_002310151\n",
        "gi|470129329|ref|XM_004300526.1| PR, E = 5.21336e-84 , Accession: XM_004300526\n",
        "gi|359495761|ref|XM_002274845.2| PR, E = 1.81964e-83 , Accession: XM_002274845\n",
        "gi|349709091|emb|FQ378501.1| Vitis , E = 1.81964e-83 , Accession: FQ378501\n",
        "gi|255562758|ref|XM_002522339.1| Ri, E = 1.39894e-78 , Accession: XM_002522339\n",
        "gi|502153055|ref|XM_004509143.1| PR, E = 1.0073e-67 , Accession: XM_004509143\n",
        "gi|358346403|ref|XM_003637210.1| Me, E = 1.22715e-66 , Accession: XM_003637210\n",
        "gi|358344000|ref|XM_003636035.1| Me, E = 1.22715e-66 , Accession: XM_003636035\n",
        "gi|449448541|ref|XM_004141977.1| PR, E = 7.74415e-63 , Accession: XM_004141977\n",
        "gi|356561272|ref|XM_003548859.1| PR, E = 7.74415e-63 , Accession: XM_003548859\n",
        "gi|356502211|ref|XM_003519866.1| PR, E = 2.70297e-62 , Accession: XM_003519866\n",
        "gi|460375241|ref|XM_004233368.1| PR, E = 4.88709e-59 , Accession: XM_004233368\n",
        "gi|225311746|dbj|AK326681.1| Solanu, E = 4.88709e-59 , Accession: AK326681\n",
        "gi|255762732|gb|GQ370517.1| Salvia , E = 1.31139e-53 , Accession: GQ370517\n",
        "gi|225428595|ref|XM_002284686.1| PR, E = 1.31139e-53 , Accession: XM_002284686\n",
        "gi|297819785|ref|XM_002877730.1| Ar, E = 1.00819e-48 , Accession: XM_002877730\n",
        "gi|86755971|gb|DQ359747.1| Chimonan, E = 3.51894e-48 , Accession: DQ359747\n",
        "gi|145339339|ref|NM_114943.4| Arabi, E = 4.28695e-47 , Accession: NM_114943\n",
        "gi|15810634|gb|AY056356.1| Arabidop, E = 4.28695e-47 , Accession: AY056356\n",
        "gi|10121842|gb|AF283005.1| Arabidop, E = 4.28695e-47 , Accession: AF283005\n",
        "gi|13430785|gb|AF360305.1| Arabidop, E = 4.28695e-47 , Accession: AF360305\n",
        "gi|60317457|gb|AY761065.1| Gossypiu, E = 4.28695e-47 , Accession: AY761065\n",
        "gi|255556172|ref|XM_002519075.1| Ri, E = 2.2207e-44 , Accession: XM_002519075\n",
        "gi|156567558|gb|EU077497.1| Ponciru, E = 2.2207e-44 , Accession: EU077497\n",
        "gi|449502385|ref|XM_004161578.1| PR, E = 4.89141e-40 , Accession: XM_004161578\n",
        "gi|449455211|ref|XM_004145299.1| PR, E = 4.89141e-40 , Accession: XM_004145299\n",
        "gi|449474965|ref|XM_004154286.1| PR, E = 4.89141e-40 , Accession: XM_004154286\n",
        "gi|46577795|gb|AY587773.1| Tamarix , E = 4.89141e-40 , Accession: AY587773\n",
        "gi|305690597|gb|HQ010041.1| Corylus, E = 1.70727e-39 , Accession: HQ010041\n",
        "gi|470148635|ref|XM_004309813.1| PR, E = 5.95896e-39 , Accession: XM_004309813\n",
        "gi|224105476|ref|XM_002313788.1| Po, E = 5.95896e-39 , Accession: XM_002313788\n",
        "gi|242389633|emb|FP100664.1| Phyllo, E = 4.58124e-34 , Accession: FP100664\n",
        "gi|242382816|emb|FP092058.1| Phyllo, E = 4.58124e-34 , Accession: FP092058\n",
        "gi|242382391|emb|FP097178.1| Phyllo, E = 6.79916e-32 , Accession: FP097178\n",
        "gi|242381728|emb|FP091375.1| Phyllo, E = 6.79916e-32 , Accession: FP091375\n",
        "gi|238007351|gb|BT084358.1| Zea may, E = 6.79916e-32 , Accession: BT084358\n",
        "gi|195636267|gb|EU965484.1| Zea may, E = 6.79916e-32 , Accession: EU965484\n",
        "gi|54652523|gb|BT017742.1| Zea mays, E = 6.79916e-32 , Accession: BT017742\n",
        "gi|162459269|ref|NM_001111732.1| Ze, E = 6.79916e-32 , Accession: NM_001111732\n",
        "gi|21209119|gb|AY106041.1| Zea mays, E = 6.79916e-32 , Accession: AY106041\n",
        "gi|242037992|ref|XM_002466346.1| So, E = 2.37314e-31 , Accession: XM_002466346\n",
        "gi|255617390|ref|XM_002539789.1| Ri, E = 8.28308e-31 , Accession: XM_002539789\n",
        "gi|30690903|ref|NM_119885.2| Arabid, E = 1.00909e-29 , Accession: NM_119885\n",
        "gi|26449888|dbj|AK117399.1| Arabido, E = 1.00909e-29 , Accession: AK117399\n",
        "gi|226504237|ref|NM_001155133.1| Ze, E = 3.52205e-29 , Accession: NM_001155133\n",
        "gi|166359605|gb|EU365626.1| Thellun, E = 3.52205e-29 , Accession: EU365626\n",
        "gi|150172175|emb|CU406592.1| Oryza , E = 3.52205e-29 , Accession: CU406592\n",
        "gi|115455578|ref|NM_001057925.1| Or, E = 3.52205e-29 , Accession: NM_001057925\n",
        "gi|32976054|dbj|AK066036.1| Oryza s, E = 3.52205e-29 , Accession: AK066036\n",
        "gi|32970924|dbj|AK060906.1| Oryza s, E = 3.52205e-29 , Accession: AK060906\n"
       ]
      }
     ],
     "prompt_number": 24
    },
    {
     "cell_type": "markdown",
     "metadata": {},
     "source": [
      "#### Entrez\n",
      "**Entrez** is a data retrieval system that provides users access to NCBI\u2019s databases such as PubMed, GenBank, GEO, and many others. You can access Entrez from a web browser to manually enter queries, or you can use Biopython\u2019s Bio.Entrez module for programmatic access to Entrez. The latter allows you for example to search PubMed or download GenBank records from **within a Python script**.\n"
     ]
    },
    {
     "cell_type": "code",
     "collapsed": false,
     "input": [
      "from Bio import Entrez"
     ],
     "language": "python",
     "metadata": {},
     "outputs": [],
     "prompt_number": 27
    },
    {
     "cell_type": "markdown",
     "metadata": {},
     "source": [
      "Let's see an example of searching for a gene http://www.ncbi.nlm.nih.gov/nucleotide/186972394 directly from the Gene ID: ```\"EU490707\"```"
     ]
    },
    {
     "cell_type": "code",
     "collapsed": false,
     "input": [
      "entrez_handle = Entrez.efetch(db=\"nucleotide\", id=\"EU490707\",\n",
      "                              rettype=\"fasta\", email=\"csh@cbs.dtu.dk\")"
     ],
     "language": "python",
     "metadata": {},
     "outputs": [],
     "prompt_number": 29
    },
    {
     "cell_type": "code",
     "collapsed": false,
     "input": [
      "entrez_handle.read()"
     ],
     "language": "python",
     "metadata": {},
     "outputs": [
      {
       "metadata": {},
       "output_type": "pyout",
       "prompt_number": 30,
       "text": [
        "'>gi|186972394|gb|EU490707.1| Selenipedium aequinoctiale maturase K (matK) gene, partial cds; chloroplast\\nATTTTTTACGAACCTGTGGAAATTTTTGGTTATGACAATAAATCTAGTTTAGTACTTGTGAAACGTTTAA\\nTTACTCGAATGTATCAACAGAATTTTTTGATTTCTTCGGTTAATGATTCTAACCAAAAAGGATTTTGGGG\\nGCACAAGCATTTTTTTTCTTCTCATTTTTCTTCTCAAATGGTATCAGAAGGTTTTGGAGTCATTCTGGAA\\nATTCCATTCTCGTCGCAATTAGTATCTTCTCTTGAAGAAAAAAAAATACCAAAATATCAGAATTTACGAT\\nCTATTCATTCAATATTTCCCTTTTTAGAAGACAAATTTTTACATTTGAATTATGTGTCAGATCTACTAAT\\nACCCCATCCCATCCATCTGGAAATCTTGGTTCAAATCCTTCAATGCCGGATCAAGGATGTTCCTTCTTTG\\nCATTTATTGCGATTGCTTTTCCACGAATATCATAATTTGAATAGTCTCATTACTTCAAAGAAATTCATTT\\nACGCCTTTTCAAAAAGAAAGAAAAGATTCCTTTGGTTACTATATAATTCTTATGTATATGAATGCGAATA\\nTCTATTCCAGTTTCTTCGTAAACAGTCTTCTTATTTACGATCAACATCTTCTGGAGTCTTTCTTGAGCGA\\nACACATTTATATGTAAAAATAGAACATCTTCTAGTAGTGTGTTGTAATTCTTTTCAGAGGATCCTATGCT\\nTTCTCAAGGATCCTTTCATGCATTATGTTCGATATCAAGGAAAAGCAATTCTGGCTTCAAAGGGAACTCT\\nTATTCTGATGAAGAAATGGAAATTTCATCTTGTGAATTTTTGGCAATCTTATTTTCACTTTTGGTCTCAA\\nCCGTATAGGATTCATATAAAGCAATTATCCAACTATTCCTTCTCTTTTCTGGGGTATTTTTCAAGTGTAC\\nTAGAAAATCATTTGGTAGTAAGAAATCAAATGCTAGAGAATTCATTTATAATAAATCTTCTGACTAAGAA\\nATTCGATACCATAGCCCCAGTTATTTCTCTTATTGGATCATTGTCGAAAGCTCAATTTTGTACTGTATTG\\nGGTCATCCTATTAGTAAACCGATCTGGACCGATTTCTCGGATTCTGATATTCTTGATCGATTTTGCCGGA\\nTATGTAGAAATCTTTGTCGTTATCACAGCGGATCCTCAAAAAAACAGGTTTTGTATCGTATAAAATATAT\\nACTTCGACTTTCGTGTGCTAGAACTTTGGCACGGAAACATAAAAGTACAGTACGCACTTTTATGCGAAGA\\nTTAGGTTCGGGATTATTAGAAGAATTCTTTATGGAAGAAGAA\\n\\n'"
       ]
      }
     ],
     "prompt_number": 30
    },
    {
     "cell_type": "code",
     "collapsed": false,
     "input": [
      "entrez_handle = Entrez.efetch(db=\"nucleotide\", id=\"EU490707\",\n",
      "                            rettype=\"fasta\", email=\"csh@cbs.dtu.dk\")"
     ],
     "language": "python",
     "metadata": {},
     "outputs": [],
     "prompt_number": 31
    },
    {
     "cell_type": "code",
     "collapsed": false,
     "input": [
      "record = SeqIO.read(entrez_handle, \"fasta\")"
     ],
     "language": "python",
     "metadata": {},
     "outputs": [],
     "prompt_number": 32
    },
    {
     "cell_type": "code",
     "collapsed": false,
     "input": [
      "print record"
     ],
     "language": "python",
     "metadata": {},
     "outputs": [
      {
       "output_type": "stream",
       "stream": "stdout",
       "text": [
        "ID: gi|186972394|gb|EU490707.1|\n",
        "Name: gi|186972394|gb|EU490707.1|\n",
        "Description: gi|186972394|gb|EU490707.1| Selenipedium aequinoctiale maturase K (matK) gene, partial cds; chloroplast\n",
        "Number of features: 0\n",
        "Seq('ATTTTTTACGAACCTGTGGAAATTTTTGGTTATGACAATAAATCTAGTTTAGTA...GAA', SingleLetterAlphabet())\n"
       ]
      }
     ],
     "prompt_number": 33
    },
    {
     "cell_type": "markdown",
     "metadata": {},
     "source": [
      "Before using BioPython to access online resources note that most systems will find it abusing if you make hundreds of requests. BioPython already limits no more than one request every 3 seconds. "
     ]
    },
    {
     "cell_type": "markdown",
     "metadata": {},
     "source": [
      "#### Conclusion\n",
      "\n",
      "There are hundreds of modules and perhaps thousands of functions inside BioPython that you can explore on your own. \n",
      "\n",
      "<br>\n",
      "\n",
      "<center>\n",
      "<img src=\"files/images/BioPython.png\" width=\"600px\" />\n",
      "</center>\n",
      "\n",
      "<br>\n",
      "\n",
      "A good place to start is the BioPython Tutorial and Cookbook:<br/><br/> \n",
      "\n",
      "<center>\n",
      "http://biopython.org/DIST/docs/tutorial/Tutorial.pdf\n",
      "</center>"
     ]
    },
    {
     "cell_type": "markdown",
     "metadata": {},
     "source": [
      "## Become an Expert in Command Line Python\n",
      "\n",
      "Here are some guidelines of how you should write Biological programs: \n",
      "\n",
      "#### Accept parameters to the program\n",
      "Try not to *hardcode* any parameters to your program. Users of your program may not have enough programming experience to know how to change them inside the code. \n",
      "\n",
      "Instead, let them have default values, but accept them to be changed through the command line, like"
     ]
    },
    {
     "cell_type": "raw",
     "metadata": {},
     "source": [
      "./blastall -p blastn -i seq3.txt -d TAIR8cds -m 7"
     ]
    },
    {
     "cell_type": "markdown",
     "metadata": {},
     "source": [
      "#### Generate output that can easily be parsed by programs\n",
      "Always try to find a good balance between output that is human readable and easily parsed by other programs. *Always* use standard formats, like fasta for sequences and csv for a table of values.\n",
      "\n",
      "Use # in case you need to comment your output. Most other programs will understand this. "
     ]
    },
    {
     "cell_type": "markdown",
     "metadata": {},
     "source": [
      "#### Document your code! \n",
      "Although this is not specific to be an expert in command line, it is always good practice to keep your code commented and your functions documented. Also, add a \"-h\" option to run the program, e.g.:"
     ]
    },
    {
     "cell_type": "raw",
     "metadata": {},
     "source": [
      "$ fasta_align -h"
     ]
    },
    {
     "cell_type": "raw",
     "metadata": {},
     "source": [
      "Usage: fasta_align [-h] [args] fsa1 fsa2\n",
      "\n",
      "\tPARAMETER            DEFAULT VALUE        DESCRIPTION\n",
      "\t[-gf float]          11.000000            penalty for first gap\n",
      "\t[-gn float]          1.000000             penalty for next gap\n",
      "\t[-mal int]           3                    Minimum alignment lenght\n",
      "\t[-nw]                0                    Use Needleman-Wunsch\n",
      "\t[-bls int]           50                   BLOSUM SCORE MATRIX\n",
      "\t[-mpat filename]     /home/people/mniel/matrices/BLOSUM%i Matrix pattern"
     ]
    },
    {
     "cell_type": "markdown",
     "metadata": {},
     "source": [
      "#### Use my Template to get started\n",
      "\n",
      "I have made a program template for you to get started with your own projects. The template is something I use for many of my scripts.\n"
     ]
    },
    {
     "cell_type": "code",
     "collapsed": false,
     "input": [
      "#!/usr/bin/python2.7\n",
      "\n",
      "\"\"\"\n",
      "NAME:        ProgramName\n",
      "AUTHOR:      Christian Skjoedt \n",
      "DESCRIPTION:\n",
      "\tThis is a template script.\n",
      "\"\"\"\n",
      "\n",
      "from sys import argv\n",
      "from argparse import ArgumentParser\n",
      "import os, datetime, getpass\n",
      "\n",
      "\n",
      "def ParseArguments():\n",
      "\t\"\"\" Handles program parameters and returns an argument class containing \n",
      "\tall parameters \"\"\"\n",
      "\n",
      "\tparser = ArgumentParser(description='Description of program')\n",
      "\n",
      "\tparser.add_argument(\"-f\", type=str, dest=\"fasta_file\", \n",
      "                        default=\"\", help=\"Fasta input file\", required=True)\n",
      "\tparser.add_argument(\"-o\", type=str, dest=\"output_file\", \n",
      "                        default=\"\", help=\"Output file\")\n",
      "\tparser.add_argument(\"-p\", type=float, dest=\"first_parameter\", \n",
      "                        default=0.5, help=\"First Parameter (decimal)\")\n",
      "\tparser.add_argument(\"-n\", type=int, dest=\"second_parameter\", \n",
      "                        default=0, help=\"Second Parameter (integer)\")\n",
      "\t\n",
      "\targs = parser.parse_args()\n",
      "\n",
      "\t# PRINT RUNNING DESCRIPTION \n",
      "\tnow = datetime.datetime.now()\n",
      "\tprint '# ' + ' '.join(argv)\n",
      "\tprint '# ' + now.strftime(\"%a %b %d %Y %H:%M\")\n",
      "\tprint '# USER: ' + getpass.getuser()\n",
      "\tprint '# CWD: ' + os.getcwd()\n",
      "\tif os.name != \"nt\":\n",
      "\t\tprint '# HOST: ' + ' '.join([ os.uname()[0] , os.uname()[4] , \n",
      "        \t                         os.uname()[2] , os.uname()[1] ])\n",
      "\n",
      "\tprint '# COMMAND LINE PARAMETERS SET TO:'\n",
      "\tfor arg in dir(args):\n",
      "\t\tif arg[:1]!='_':\n",
      "\t\t\tprint '# \\t' + \"{:<30}\".format(arg) +\\\n",
      "\t\t\t\t  \"{:<30}\".format(getattr(args, arg))\n",
      "\n",
      "\treturn args\n",
      "\n",
      "def my_function(args):\n",
      "\tprint \"Input file is:\", args.fasta_file\n",
      "\tprint \"Output file is:\", args.output_file\n",
      "\tprint \"Paramter 1 is:\", args.first_parameter\n",
      "\tprint \"Paramter 2 is:\", args.second_parameter\n",
      "\n",
      "def main(argv):\t\n",
      "\targs = ParseArguments()\n",
      "\n",
      "\t# PUT FUNCTIONS AND CLASSES ABOVE AND USE THEM HERE\n",
      "\tmy_function(args)\n",
      "\t\n",
      "if __name__ == '__main__':\n",
      "   main(argv)"
     ],
     "language": "python",
     "metadata": {},
     "outputs": []
    },
    {
     "cell_type": "markdown",
     "metadata": {},
     "source": [
      "#### Making command line work in Windows\n",
      "\n",
      "In windows, you cannot readily type in\n",
      "\n",
      "    python myprogram.py\n",
      "    \n",
      "in the command prompt to run ```myprogram.py```. This is because windows doesn't know where Python is. \n",
      "\n",
      "To tell it, we have to add the Python directory to something called Environment Variables. \n",
      "\n",
      "<ol>\n",
      "    <li>Open up the run command by holding down <kbd><img id=\"wds\" src=\"files/images/wds.png\" height=10px></kbd> while pressing <kbd>R</kbd>.</li>\n",
      "    <li>In the field, type <cb>sysdm.cpl</cb> and hit Enter.</li>\n",
      "    <li>Go to the *Advanced* tab and click on *Environment Variables*. A new dialog window will open.</li>\n",
      "    <li>Find in the System variables list the varible *Path*: select it and click on Edit.</li>\n",
      "    <li>(Be careful now) In **the end of the line**, add <cb>;C:\\Python27\\</cb> and click OK. **Remember the ;**</li>\n",
      "</ol>\n",
      "\n",
      "<center>\n",
      "<img src=\"files/images/environvar.png\" />\n",
      "</center>\n",
      "<br />\n",
      "\n",
      "Now you should be able to open a command prompt and type in\n",
      "\n",
      "    python\n",
      "    \n",
      "regardless of which directory you are in. "
     ]
    },
    {
     "cell_type": "markdown",
     "metadata": {},
     "source": [
      "## Update the exercise!\n",
      "** !!! Before you do anything, backup your exercises !!! **\n",
      "#### For Windows: \n",
      "\n",
      "Open the Git Shell <img src=\"files/images/gitshell.png\" /> icon (<b>not the blue one</b>). Type in \n",
      "\n",
      "<cb>cd cbs-python</cb><br />\n",
      "<cb>git checkout -f master</cb><br />\n",
      "<cb>git pull origin master</cb><br /><br  />\n",
      "\n",
      "#### For MAC and Linux:\n",
      "\n",
      "Open a terminal. Navigate to the course directory (Whereever you placed it):\n",
      "\n",
      "<cb>cd ~/Documents/Courses/cbs-python</cb><br/>\n",
      "\n",
      "Now update the folder using\n",
      "\n",
      "<cb>git checkout -f master</cb><br />\n",
      "<cb>git pull origin master</cb><br /><br  />"
     ]
    },
    {
     "cell_type": "code",
     "collapsed": false,
     "input": [
      "from IPython.core.display import HTML\n",
      "\n",
      "\n",
      "def css_styling():\n",
      "    styles = open(\"../styles/custom.css\", \"r\").read()\n",
      "    return HTML(styles)\n",
      "css_styling()"
     ],
     "language": "python",
     "metadata": {},
     "outputs": [
      {
       "html": [
        "<style>\n",
        "    div.cell{\n",
        "        width:800px;\n",
        "        margin-left:16% !important;\n",
        "        margin-right:auto;\n",
        "    }\n",
        "    div.text_cell_render{\n",
        "        font-family: \"Helvetica Neue\", Arial, Helvetica, Geneva, sans-serif;\n",
        "        line-height: 145%;\n",
        "        font-size: 100%;\n",
        "        width:800px;\n",
        "        margin-left:auto;\n",
        "        margin-right:auto;\n",
        "    }\n",
        "    .CodeMirror{\n",
        "            font-family: \"Source Code Pro\", source-code-pro,Consolas, monospace;\n",
        "    }\n",
        "    div.CodeMirror{\n",
        "    \tfont-size: 11pt;\n",
        "    }\n",
        "    div.cell.border-box-sizing.code_cell{\n",
        "    \tpadding-left: 50px;\n",
        "    }\n",
        "    div.text_cell_input {\n",
        "    \tmargin-left: 50px;\n",
        "    }\n",
        "    .prompt{\n",
        "        display: None;\n",
        "    }\n",
        "    .text_cell_render h1 {\n",
        "        font-family: Helvetica, serif;\n",
        "        font-size: 30pt;\n",
        "        color: #274257;\n",
        "        text-transform: uppercase;\n",
        "        line-height: 100%;\n",
        "    }\n",
        "    .text_cell_render h2 {\n",
        "    \tmargin-top: 35px;\n",
        "        font-family: Helvetica, serif;\n",
        "        font-size: 24pt;\n",
        "        color: #2A75A9;\n",
        "        line-height: 100%;\n",
        "    }\n",
        "    .text_cell_render h3{\n",
        "    \tmargin-top: 35px;\n",
        "        font-family: Helvetica, serif;\n",
        "        font-size: 18pt;\n",
        "        color: #7EB5D6;\n",
        "        line-height: 100%;\n",
        "       }\n",
        "    .text_cell_render h4{\n",
        "    \tmargin-top: 35px;\n",
        "    \tfont-family: Helvetica, serif;\n",
        "        font-size: 14pt;\n",
        "        line-height: 100%;\n",
        "    }\n",
        "    .text_cell_render h5 {\n",
        "        font-weight: 300;\n",
        "        font-size: 22pt;\n",
        "        color: #4057A1;\n",
        "        font-style: italic;\n",
        "        margin-bottom: .5em;\n",
        "        margin-top: 0.5em;\n",
        "        display: block;\n",
        "        line-height: 100%;\n",
        "    }\n",
        "    \n",
        "    .warning{\n",
        "        color: rgb( 240, 20, 20 )\n",
        "        } \n",
        "    .wds {\n",
        "        background: none repeat scroll 0% 0% rgb(247, 247, 247);\n",
        "        padding: 0em 0em;\n",
        "        font-size: 11px;\n",
        "        font-family: Arial,Helvetica,sans-serif;\n",
        "        display: inline-block;\n",
        "        margin: 0px 0em;\n",
        "        white-space: nowrap;\n",
        "    }\n",
        "    cb {\n",
        "        background: none repeat scroll 0% 0% rgb(247, 247, 247);\n",
        "        padding: 0.1em 0.6em;\n",
        "        border: 1px solid rgb(204, 204, 204);\n",
        "        font-size: 11pt;\n",
        "        font-family: \"Source Code Pro\", source-code-pro,Consolas, monospace;\n",
        "        color: rgb(51, 51, 51);\n",
        "        box-shadow: 0px 1px 0px rgba(0, 0, 0, 0.2), 0px 0px 0px 2px rgb(255, 255, 255) inset;\n",
        "        border-radius: 3px 3px 3px 3px;\n",
        "        display: inline-block;\n",
        "        margin: 0px 0.1em;\n",
        "        line-height: 1.4;\n",
        "        white-space: nowrap;\n",
        "    }\n",
        "    q {\t\n",
        "        font-weight: 300;\n",
        "        font-size: 14pt;\n",
        "        color: #4057A1;\n",
        "        margin-bottom: .5em;\n",
        "        margin-top: 0.5em;\n",
        "        display: block;\n",
        "        font-family: \"Helvetica Neue\", Arial, Helvetica, Geneva, sans-serif;\n",
        "        line-height: 145%;\n",
        "        width:800px;\n",
        "        margin-left:auto;\n",
        "        margin-right:auto;\n",
        "    }\n",
        "    qq {\t\n",
        "        font-weight: 300;\n",
        "        font-size: 11pt;\n",
        "        color: #4057A1;\n",
        "        margin-bottom: .5em;\n",
        "        margin-top: 0.5em;\n",
        "        display: block;\n",
        "        font-family: \"Helvetica Neue\", Arial, Helvetica, Geneva, sans-serif;\n",
        "        line-height: 145%;\n",
        "        width:800px;\n",
        "        margin-left:auto;\n",
        "        margin-right:auto;\n",
        "    }\n",
        "    kbd {\n",
        "        background: none repeat scroll 0% 0% rgb(247, 247, 247);\n",
        "        padding: 0.1em 0.6em;\n",
        "        border: 1px solid rgb(204, 204, 204);\n",
        "        font-size: 11px;\n",
        "        font-family: Arial,Helvetica,sans-serif;\n",
        "        color: rgb(51, 51, 51);\n",
        "        box-shadow: 0px 1px 0px rgba(0, 0, 0, 0.2), 0px 0px 0px 2px rgb(255, 255, 255) inset;\n",
        "        border-radius: 3px 3px 3px 3px;\n",
        "        display: inline-block;\n",
        "        margin: 0px 0.1em;\n",
        "        text-shadow: 0px 1px 0px rgb(255, 255, 255);\n",
        "        line-height: 1.4;\n",
        "        white-space: nowrap;\n",
        "    }\n",
        "    ol {\n",
        "        list-style-type: decimal;\n",
        "    }\n",
        "\n",
        "\t.box_rotate {\n",
        "\t\t  -webkit-transform: rotate(270deg);  /* Chrome, Safari 3.1+ */\n",
        "\t\t     -moz-transform: rotate(270deg);  /* Firefox 3.5-15 */\n",
        "\t\t      -ms-transform: rotate(270deg);  /* IE 9 */\n",
        "\t\t       -o-transform: rotate(270deg);  /* Opera 10.50-12.00 */\n",
        "\t\t          transform: rotate(270deg);  /* Firefox 16+, IE 10+, Opera 12.10+ */\n",
        "\t}\n",
        "\n",
        "\t.vertical-text {\n",
        "\t\tdisplay: inline-block;\n",
        "\t\toverflow: hidden;\n",
        "\t\twidth: 1.5em;\n",
        "\t}\n",
        "\n",
        "\t.vertical-text__inner {\n",
        "\t\tdisplay: inline-block;\n",
        "\t\twhite-space: nowrap;\n",
        "\t\tline-height: 1.5;\n",
        "\t\t  -webkit-transform: rotate(270deg);  /* Chrome, Safari 3.1+ */\n",
        "\t\t     -moz-transform: rotate(270deg);  /* Firefox 3.5-15 */\n",
        "\t\t      -ms-transform: rotate(270deg);  /* IE 9 */\n",
        "\t\t       -o-transform: rotate(270deg);  /* Opera 10.50-12.00 */\n",
        "\t\t          transform: rotate(270deg);  /* Firefox 16+, IE 10+, Opera 12.10+ */\n",
        "\t}\n",
        "\n",
        "\t.vertical-text__inner:after {\n",
        "\t\tcontent: \"\";\n",
        "\t\tdisplay: block;\n",
        "\t\tmargin: -1.5em 0 100%;\n",
        "\t}\n",
        "\n",
        "\t.topics{\n",
        "\t\tbackground: url('files/images/topics.png') no-repeat scroll 0% 0%; \n",
        "\t\twidth: 520px; \n",
        "\t\theight: 250px; \n",
        "\n",
        "\t\tpadding-top: 35px;\n",
        "\t}\n",
        "\n",
        "\t.c_program{\n",
        "\t\tbackground: url('files/images/program.png') no-repeat scroll 0% 0%; width: 520px; margin-left: auto; margin-right: auto;\n",
        "\t}\n",
        "\n",
        "\t.c_require{\n",
        "\t\tbackground: url('files/images/software.png') no-repeat scroll 0% 0%; width: 520px; height: 250px; margin-left: auto; margin-right: auto;\n",
        "\t}\n",
        "\n",
        "</style>\n",
        "<script>\n",
        "    MathJax.Hub.Config({\n",
        "                        TeX: {\n",
        "                           extensions: [\"AMSmath.js\"]\n",
        "                           },\n",
        "                tex2jax: {\n",
        "                    inlineMath: [ ['$','$'], [\"\\\\(\",\"\\\\)\"] ],\n",
        "                    displayMath: [ ['$$','$$'], [\"\\\\[\",\"\\\\]\"] ]\n",
        "                },\n",
        "                displayAlign: 'center', // Change this to 'center' to center equations.\n",
        "                \"HTML-CSS\": {\n",
        "                    styles: {'.MathJax_Display': {\"margin\": 4}}\n",
        "                }\n",
        "        });\n",
        "</script>\n"
       ],
       "metadata": {},
       "output_type": "pyout",
       "prompt_number": 11,
       "text": [
        "<IPython.core.display.HTML at 0x361a0d0>"
       ]
      }
     ],
     "prompt_number": 11
    },
    {
     "cell_type": "code",
     "collapsed": false,
     "input": [],
     "language": "python",
     "metadata": {},
     "outputs": []
    }
   ],
   "metadata": {}
  }
 ]
}