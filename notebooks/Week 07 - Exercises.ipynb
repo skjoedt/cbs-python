{
 "metadata": {
  "name": ""
 },
 "nbformat": 3,
 "nbformat_minor": 0,
 "worksheets": [
  {
   "cells": [
    {
     "cell_type": "markdown",
     "metadata": {},
     "source": [
      "# Week 07 - Exercises"
     ]
    },
    {
     "cell_type": "markdown",
     "metadata": {},
     "source": [
      "<q>1. Making a class for sequence objects</q>\n",
      "\n",
      "In this exercise we will create a class that holds a sequence string and a few methods associated with sequence objects (DNA, RNA and Proteins).\n",
      "\n",
      "I have already started it:"
     ]
    },
    {
     "cell_type": "code",
     "collapsed": false,
     "input": [
      "class Sequence:\n",
      "    def __init__(self, seqstring):\n",
      "        # Initial method that is executed when object is created.\n",
      "        # Pitfall: Remember the self when assigning variables! \n",
      "        self.seq = seqstring.upper() # This is the variable that holds the sequence!\n",
      "    def __len__(self):\n",
      "        # Enables the use of len( object ) on the sequence objects.\n",
      "        return len( self.seq )\n",
      "    def __getitem__(self, index):\n",
      "        # Enables the use of object[i], object[i:i+3] and for loops. \n",
      "        return self.seq.__getitem__(index)\n",
      "    def __str__(self):\n",
      "        # Enables the use of \"print object\" to print the sequence string of the class.\n",
      "        return self.seq.__str__()"
     ],
     "language": "python",
     "metadata": {},
     "outputs": [],
     "prompt_number": 77
    },
    {
     "cell_type": "markdown",
     "metadata": {},
     "source": [
      "So far the only thing that the class ```Sequence``` does is to make an internal variable called ```seq``` to store a sequence string."
     ]
    },
    {
     "cell_type": "code",
     "collapsed": false,
     "input": [
      "testseq = Sequence(\"acggtgtcagtacacgcgtaagcgat\")\n",
      "testseq.seq # <- This is the variable holding the sequence"
     ],
     "language": "python",
     "metadata": {},
     "outputs": [
      {
       "metadata": {},
       "output_type": "pyout",
       "prompt_number": 79,
       "text": [
        "'ACGGTGTCAGTACACGCGTAAGCGAT'"
       ]
      }
     ],
     "prompt_number": 79
    },
    {
     "cell_type": "markdown",
     "metadata": {},
     "source": [
      "The extra methods ```__len__```, ```__getitem__``` and ```__str__``` enables the use of len(testseq), testseq[4] and print testseq respectively:"
     ]
    },
    {
     "cell_type": "code",
     "collapsed": false,
     "input": [
      "print len(testseq)\n",
      "print testseq[4:15]\n",
      "print testseq"
     ],
     "language": "python",
     "metadata": {},
     "outputs": [
      {
       "output_type": "stream",
       "stream": "stdout",
       "text": [
        "26\n",
        "TGTCAGTACAC\n",
        "ACGGTGTCAGTACACGCGTAAGCGAT\n"
       ]
      }
     ],
     "prompt_number": 25
    },
    {
     "cell_type": "markdown",
     "metadata": {},
     "source": [
      "<qq>Make adjustments to the class above so it contains a method **```reverse()```** that returns the reverse of the sequence</qq>"
     ]
    },
    {
     "cell_type": "markdown",
     "metadata": {},
     "source": [
      "Test it by running:\n"
     ]
    },
    {
     "cell_type": "code",
     "collapsed": false,
     "input": [
      "testseq = Sequence(\"acggtgtcagtacacgcgtaagcgat\")\n",
      "testseq.reverse()"
     ],
     "language": "python",
     "metadata": {},
     "outputs": []
    },
    {
     "cell_type": "markdown",
     "metadata": {},
     "source": [
      "<q>2. Making RNA, DNA and Protein sequence classes</q>\n",
      "The idea in this exercise is that while we have already started the fundamental class called ```Sequence```, we are interested in **functionality specific to DNA, RNA and Proteins**. Instead of making three copies of the ```Sequence``` class above and add new methods we will just make a new class that inherits the properties of ```Sequence```. In fact, since DNA and RNA could share similar methods, we are going to make a class called ```BaseSequence``` to hold these methods.\n",
      "\n",
      "To make it more clear, imagine this hierarchy:\n",
      "\n",
      "<ul>\n",
      "    <li>Sequence</li>\n",
      "    <ul>\n",
      "        <li>BaseSequence</li>\n",
      "        <ul>\n",
      "            <li>DNASequence</li>\n",
      "            <li>RNASequence</li>\n",
      "        </ul>\n",
      "        <li>ProteinSequence</li>\n",
      "    </ul>\n",
      "</ul>\n",
      "\n",
      "Illustrated as\n",
      "\n",
      "<center>\n",
      "<img src=\"files/images/ex_classes.png\" />\n",
      "</center>\n",
      "\n",
      "In total we are going to make **5 classes** containing methods specific to the class type. So BaseSequence will contain methods associated with DNA and RNA,\n",
      "like calculating GC-Content, but not methods like generating reverse compliment since this is specific to DNA sequences. So by letting each class inherit the properties of the parent class we are making sure to get all the functionalities for DNA, RNA and Protein sequence without maintaining extra code. \n",
      "\n",
      "**Okay, let's get started...**"
     ]
    },
    {
     "cell_type": "markdown",
     "metadata": {},
     "source": [
      "<qq>Fill out the **XXX** in the code blocks below</qq>\n",
      "\n",
      "We are going to create one class at a time, starting with the highest in the hierarchy. We have already created ```Sequence``` in the previous exercise, so we can go straight to ```BaseSequence```. \n",
      "\n",
      "This class should inherit the properties of ```Sequence``` and contain the method ```GCcontent()``` that returns the GC content of the base sequence. \n",
      "\n",
      "**Hint:** *To initialize the method, we need to call the ```__init__``` method from the parent class, in this case ```Sequence```. See the lecture notes for examples.*"
     ]
    },
    {
     "cell_type": "code",
     "collapsed": false,
     "input": [
      "class BaseSequence(XXX):\n",
      "    def __init__(self, seqstring):\n",
      "        XXX\n",
      "    def GCcontent(XXX):\n",
      "        \"\"\" Returns the GC content (eg. 0.54) of Base Sequence \"\"\"\n",
      "        gc = XXX #hint: use count(\"G\") and count(\"C\")\n",
      "        return gc"
     ],
     "language": "python",
     "metadata": {},
     "outputs": [],
     "prompt_number": 49
    },
    {
     "cell_type": "markdown",
     "metadata": {},
     "source": [
      "Test it as follows:"
     ]
    },
    {
     "cell_type": "code",
     "collapsed": false,
     "input": [
      "testseq = BaseSequence(\"tgaccgtggactgtacgtggacg\")\n",
      "testseq.GCcontent()"
     ],
     "language": "python",
     "metadata": {},
     "outputs": []
    },
    {
     "cell_type": "markdown",
     "metadata": {},
     "source": [
      "Next up is ```ProteinSequence``` that should also inherit the properties of ```Sequence```. Additionally it should contain a method for getting the three letter version of the protein sequence. I have already made the dictionary for you."
     ]
    },
    {
     "cell_type": "code",
     "collapsed": false,
     "input": [
      "class ProteinSequence(XXX):\n",
      "    ThreeLetterCodes = {\n",
      "        'A': 'Ala', 'C': 'Cys', 'D': 'Asp', 'E': 'Glu', 'F': 'Phe', 'G': 'Gly',\n",
      "        'H': 'His', 'I': 'Ile', 'K': 'Lys', 'L': 'Lys', 'M': 'Met', 'N': 'Asn',\n",
      "        'P': 'Pro', 'Q': 'Gln', 'R': 'Arg', 'S': 'Ser', 'T': 'Thr', 'V': 'Val',\n",
      "        'W': 'Trp', 'Y': 'Tyr'}\n",
      "    \n",
      "    def __init__(self, seqstring):\n",
      "        XXX\n",
      "        \n",
      "    def ThreeLetter(self):\n",
      "        \"\"\" Returns a string containing the three letter version of protein\n",
      "        sequence \"\"\"\n",
      "        XXX # Hint go through each amino acid and look it up in the dictionaory"
     ],
     "language": "python",
     "metadata": {},
     "outputs": [],
     "prompt_number": 26
    },
    {
     "cell_type": "markdown",
     "metadata": {},
     "source": [
      "Test it as follows:"
     ]
    },
    {
     "cell_type": "code",
     "collapsed": false,
     "input": [
      "testprot = ProteinSequence(\"LPTAKATACATKA\")\n",
      "testprot.ThreeLetter()"
     ],
     "language": "python",
     "metadata": {},
     "outputs": []
    },
    {
     "cell_type": "markdown",
     "metadata": {},
     "source": [
      "Finally we can look at the deepest classes called ```RNASequence``` and ```DNASequence``` who should inherit the properties of ```BaseSequence```. \n",
      "\n",
      "```RNASequence``` should contain a method for translating the RNA sequence to protein. Fortunately, all you have to finish is the translate_codon() function that takes a single codon \"UAC\" and returns the corresponding amino acid \"Y\".  "
     ]
    },
    {
     "cell_type": "code",
     "collapsed": false,
     "input": [
      "class RNASequence(XXX):\n",
      "    CodonTable = {'aaa': 'K', 'aac': 'N', 'aag': 'K', 'aau': 'N', 'aca': 'T',\n",
      "      'acc': 'T', 'acg': 'T', 'acu': 'T', 'aga': 'R', 'agc': 'S', 'agg': 'R', \n",
      "      'agu': 'S', 'aua': 'I', 'auc': 'I', 'aug': 'M', 'auu': 'I', 'caa': 'Q',\n",
      "      'cac': 'H', 'cag': 'Q', 'cau': 'H', 'cca': 'P', 'ccc': 'P', 'ccg': 'P',\n",
      "      'ccu': 'P', 'cga': 'R', 'cgc': 'R', 'cgg': 'R', 'cgu': 'R', 'cua': 'L',\n",
      "      'cuc': 'L', 'cug': 'L', 'cuu': 'L', 'gaa': 'E', 'gac': 'D', 'gag': 'E',\n",
      "      'gau': 'D', 'gca': 'A', 'gcc': 'A', 'gcg': 'A', 'gcu': 'A', 'gga': 'G',\n",
      "      'ggc': 'G', 'ggg': 'G', 'ggu': 'G', 'gua': 'V', 'guc': 'V', 'gug': 'V',\n",
      "      'guu': 'V', 'uaa': '*', 'uac': 'Y', 'uag': '*', 'uau': 'Y', 'uca': 'S',\n",
      "      'ucc': 'S', 'ucg': 'S', 'ucu': 'S', 'uga': '*', 'ugc': 'C', 'ugg': 'W',\n",
      "      'ugu': 'C', 'uua': 'L', 'uuc': 'F', 'uug': 'L', 'uuu': 'F'}\n",
      "    \n",
      "    def __init__(self, seqstring):\n",
      "        XXX\n",
      "        \n",
      "    def translate_codon(self, codon):\n",
      "        \"\"\" Returns amino acid translation of codon \"\"\"\n",
      "        XXX\n",
      "    \n",
      "    def Translate(self, frame=1):\n",
      "        \"\"\" Produce an instance of ProteinSequence with translated sequence \"\"\"\n",
      "        protein = (self.translate_codon(self.seq[n:n+3]) for n in range(frame-1,\n",
      "            len(self.seq) - ((len(self.seq) - (frame-1)) % 3), 3))\n",
      "        return \"\".join(protein)"
     ],
     "language": "python",
     "metadata": {},
     "outputs": [],
     "prompt_number": 56
    },
    {
     "cell_type": "markdown",
     "metadata": {},
     "source": [
      "Test it as follows:"
     ]
    },
    {
     "cell_type": "code",
     "collapsed": false,
     "input": [
      "testrna = RNASequence(\"uguacuugugguaccagugaguga\")\n",
      "print testrna.Translate()"
     ],
     "language": "python",
     "metadata": {},
     "outputs": []
    },
    {
     "cell_type": "markdown",
     "metadata": {},
     "source": [
      "The ```DNASequence``` should contain methods for transcibing (already made) and a method to get the reverse complement of the DNA sequence, returned as a new ```DNASequence``` instance. "
     ]
    },
    {
     "cell_type": "code",
     "collapsed": false,
     "input": [
      "class DNASequence(XXX):\n",
      "    TranscriptionTable = {\"A\":\"U\", \"T\":\"A\", \"C\":\"G\", \"G\":\"C\"}\n",
      "    \n",
      "    def __init__(self, seqstring):\n",
      "        XXX\n",
      "        \n",
      "    def Transcribe(self):\n",
      "        \"\"\" Produce an instance of RNASequence with transcribed sequence \"\"\"\n",
      "        rnaseq = \"\".join((self.TranscriptionTable[x] for x in self.seq))\n",
      "        return RNASequence(rnaseq)\n",
      "    \n",
      "    def ReverseComplement(self):\n",
      "        \"\"\" Produces an instance of DNASequence with reverse complimented\n",
      "        sequence \"\"\"\n",
      "        revcomp = XXX\n",
      "        return DNASequence( revcomp )"
     ],
     "language": "python",
     "metadata": {},
     "outputs": [],
     "prompt_number": 67
    },
    {
     "cell_type": "markdown",
     "metadata": {},
     "source": [
      "Test it as follows:"
     ]
    },
    {
     "cell_type": "code",
     "collapsed": false,
     "input": [
      "testdna = DNASequence(\"tgcagactgagtggagactgtgacgtgaatcg\")\n",
      "print testdna.Transcribe()\n",
      "print testdna.ReverseComplement()"
     ],
     "language": "python",
     "metadata": {},
     "outputs": []
    },
    {
     "cell_type": "markdown",
     "metadata": {},
     "source": [
      "### Final remarks\n",
      "\n",
      "Now we have hopefully created the hierarchy above. It means that we can now go all the way through the central dogma from a DNA sequence to a Protein, as follows: "
     ]
    },
    {
     "cell_type": "code",
     "collapsed": false,
     "input": [
      "# CREATE GENE INSTANCE FROM DNA SEQUENCE\n",
      "gene = DNASequence(\"attacgactagtaggactgaggttattaaccgagtgagaccgatata\")\n",
      "# PRINT INFO OF GENE\n",
      "print \"  GC content:\", gene.GCcontent()\n",
      "print \"  RevCompl:\", gene.ReverseComplement()\n",
      "# CREATE RNA INSTANCE FROM TRANSCRIBED DNA SEQUENCE\n",
      "mRNA = gene.Transcribe()\n",
      "print mRNA\n",
      "# CREATE PROTEIN INSTANCE FROM TRANSLATED RNA SEQUENCE\n",
      "protein = mRNA.Translate(frame=1)\n",
      "print protein\n",
      "# PRINT THREE LETTER VERSION OF PROTEIN SEQUENCE\n",
      "print protein.ThreeLetter()"
     ],
     "language": "python",
     "metadata": {},
     "outputs": []
    },
    {
     "cell_type": "markdown",
     "metadata": {},
     "source": [
      "We have only touched the surface of what Classes can do in your Python. There are countless ways to use Classes in your life science projects which will hopefully make more sense as you get more experienced with Python. For now, I hope you get a taste of at least one of the ways to use classes. Most modules you will encounter for your project will deal with classes in awesome ways. You will see more of this in week 9 when we will study the BioPython module. "
     ]
    },
    {
     "cell_type": "code",
     "collapsed": false,
     "input": [
      "from IPython.core.display import HTML\n",
      "\n",
      "\n",
      "def css_styling():\n",
      "    styles = open(\"../styles/custom.css\", \"r\").read()\n",
      "    return HTML(styles)\n",
      "css_styling()"
     ],
     "language": "python",
     "metadata": {},
     "outputs": [
      {
       "html": [
        "<style>\n",
        "    div.cell{\n",
        "        width:800px;\n",
        "        margin-left:16% !important;\n",
        "        margin-right:auto;\n",
        "    }\n",
        "    div.text_cell_render{\n",
        "        font-family: \"Helvetica Neue\", Arial, Helvetica, Geneva, sans-serif;\n",
        "        line-height: 145%;\n",
        "        font-size: 100%;\n",
        "        width:800px;\n",
        "        margin-left:auto;\n",
        "        margin-right:auto;\n",
        "    }\n",
        "    .CodeMirror{\n",
        "            font-family: \"Source Code Pro\", source-code-pro,Consolas, monospace;\n",
        "    }\n",
        "    div.CodeMirror{\n",
        "    \tfont-size: 11pt;\n",
        "    }\n",
        "    div.cell.border-box-sizing.code_cell{\n",
        "    \tpadding-left: 50px;\n",
        "    }\n",
        "    div.text_cell_input {\n",
        "    \tmargin-left: 50px;\n",
        "    }\n",
        "    .prompt{\n",
        "        display: None;\n",
        "    }\n",
        "    .text_cell_render h1 {\n",
        "        font-family: Helvetica, serif;\n",
        "        font-size: 30pt;\n",
        "        color: #274257;\n",
        "        text-transform: uppercase;\n",
        "        line-height: 100%;\n",
        "    }\n",
        "    .text_cell_render h2 {\n",
        "    \tmargin-top: 35px;\n",
        "        font-family: Helvetica, serif;\n",
        "        font-size: 24pt;\n",
        "        color: #2A75A9;\n",
        "        line-height: 100%;\n",
        "    }\n",
        "    .text_cell_render h3{\n",
        "    \tmargin-top: 35px;\n",
        "        font-family: Helvetica, serif;\n",
        "        font-size: 18pt;\n",
        "        color: #7EB5D6;\n",
        "        line-height: 100%;\n",
        "       }\n",
        "    .text_cell_render h4{\n",
        "    \tmargin-top: 35px;\n",
        "    \tfont-family: Helvetica, serif;\n",
        "        font-size: 14pt;\n",
        "        line-height: 100%;\n",
        "    }\n",
        "    .text_cell_render h5 {\n",
        "        font-weight: 300;\n",
        "        font-size: 22pt;\n",
        "        color: #4057A1;\n",
        "        font-style: italic;\n",
        "        margin-bottom: .5em;\n",
        "        margin-top: 0.5em;\n",
        "        display: block;\n",
        "        line-height: 100%;\n",
        "    }\n",
        "    \n",
        "    .warning{\n",
        "        color: rgb( 240, 20, 20 )\n",
        "        } \n",
        "    .wds {\n",
        "        background: none repeat scroll 0% 0% rgb(247, 247, 247);\n",
        "        padding: 0em 0em;\n",
        "        font-size: 11px;\n",
        "        font-family: Arial,Helvetica,sans-serif;\n",
        "        display: inline-block;\n",
        "        margin: 0px 0em;\n",
        "        white-space: nowrap;\n",
        "    }\n",
        "    cb {\n",
        "        background: none repeat scroll 0% 0% rgb(247, 247, 247);\n",
        "        padding: 0.1em 0.6em;\n",
        "        border: 1px solid rgb(204, 204, 204);\n",
        "        font-size: 11pt;\n",
        "        font-family: \"Source Code Pro\", source-code-pro,Consolas, monospace;\n",
        "        color: rgb(51, 51, 51);\n",
        "        box-shadow: 0px 1px 0px rgba(0, 0, 0, 0.2), 0px 0px 0px 2px rgb(255, 255, 255) inset;\n",
        "        border-radius: 3px 3px 3px 3px;\n",
        "        display: inline-block;\n",
        "        margin: 0px 0.1em;\n",
        "        line-height: 1.4;\n",
        "        white-space: nowrap;\n",
        "    }\n",
        "    q {\t\n",
        "        font-weight: 300;\n",
        "        font-size: 14pt;\n",
        "        color: #4057A1;\n",
        "        margin-bottom: .5em;\n",
        "        margin-top: 0.5em;\n",
        "        display: block;\n",
        "        font-family: \"Helvetica Neue\", Arial, Helvetica, Geneva, sans-serif;\n",
        "        line-height: 145%;\n",
        "        width:800px;\n",
        "        margin-left:auto;\n",
        "        margin-right:auto;\n",
        "    }\n",
        "    qq {\t\n",
        "        font-weight: 300;\n",
        "        font-size: 11pt;\n",
        "        color: #4057A1;\n",
        "        margin-bottom: .5em;\n",
        "        margin-top: 0.5em;\n",
        "        display: block;\n",
        "        font-family: \"Helvetica Neue\", Arial, Helvetica, Geneva, sans-serif;\n",
        "        line-height: 145%;\n",
        "        width:800px;\n",
        "        margin-left:auto;\n",
        "        margin-right:auto;\n",
        "    }\n",
        "    kbd {\n",
        "        background: none repeat scroll 0% 0% rgb(247, 247, 247);\n",
        "        padding: 0.1em 0.6em;\n",
        "        border: 1px solid rgb(204, 204, 204);\n",
        "        font-size: 11px;\n",
        "        font-family: Arial,Helvetica,sans-serif;\n",
        "        color: rgb(51, 51, 51);\n",
        "        box-shadow: 0px 1px 0px rgba(0, 0, 0, 0.2), 0px 0px 0px 2px rgb(255, 255, 255) inset;\n",
        "        border-radius: 3px 3px 3px 3px;\n",
        "        display: inline-block;\n",
        "        margin: 0px 0.1em;\n",
        "        text-shadow: 0px 1px 0px rgb(255, 255, 255);\n",
        "        line-height: 1.4;\n",
        "        white-space: nowrap;\n",
        "    }\n",
        "    ol {\n",
        "        list-style-type: decimal;\n",
        "    }\n",
        "\n",
        "\t.box_rotate {\n",
        "\t\t  -webkit-transform: rotate(270deg);  /* Chrome, Safari 3.1+ */\n",
        "\t\t     -moz-transform: rotate(270deg);  /* Firefox 3.5-15 */\n",
        "\t\t      -ms-transform: rotate(270deg);  /* IE 9 */\n",
        "\t\t       -o-transform: rotate(270deg);  /* Opera 10.50-12.00 */\n",
        "\t\t          transform: rotate(270deg);  /* Firefox 16+, IE 10+, Opera 12.10+ */\n",
        "\t}\n",
        "\n",
        "\t.vertical-text {\n",
        "\t\tdisplay: inline-block;\n",
        "\t\toverflow: hidden;\n",
        "\t\twidth: 1.5em;\n",
        "\t}\n",
        "\n",
        "\t.vertical-text__inner {\n",
        "\t\tdisplay: inline-block;\n",
        "\t\twhite-space: nowrap;\n",
        "\t\tline-height: 1.5;\n",
        "\t\t  -webkit-transform: rotate(270deg);  /* Chrome, Safari 3.1+ */\n",
        "\t\t     -moz-transform: rotate(270deg);  /* Firefox 3.5-15 */\n",
        "\t\t      -ms-transform: rotate(270deg);  /* IE 9 */\n",
        "\t\t       -o-transform: rotate(270deg);  /* Opera 10.50-12.00 */\n",
        "\t\t          transform: rotate(270deg);  /* Firefox 16+, IE 10+, Opera 12.10+ */\n",
        "\t}\n",
        "\n",
        "\t.vertical-text__inner:after {\n",
        "\t\tcontent: \"\";\n",
        "\t\tdisplay: block;\n",
        "\t\tmargin: -1.5em 0 100%;\n",
        "\t}\n",
        "\n",
        "\t.topics{\n",
        "\t\tbackground: url('files/images/topics.png') no-repeat scroll 0% 0%; \n",
        "\t\twidth: 520px; \n",
        "\t\theight: 250px; \n",
        "\n",
        "\t\tpadding-top: 35px;\n",
        "\t}\n",
        "\n",
        "\t.c_program{\n",
        "\t\tbackground: url('files/images/program.png') no-repeat scroll 0% 0%; width: 520px; margin-left: auto; margin-right: auto;\n",
        "\t}\n",
        "\n",
        "\t.c_require{\n",
        "\t\tbackground: url('files/images/software.png') no-repeat scroll 0% 0%; width: 520px; height: 250px; margin-left: auto; margin-right: auto;\n",
        "\t}\n",
        "\n",
        "</style>\n",
        "<script>\n",
        "    MathJax.Hub.Config({\n",
        "                        TeX: {\n",
        "                           extensions: [\"AMSmath.js\"]\n",
        "                           },\n",
        "                tex2jax: {\n",
        "                    inlineMath: [ ['$','$'], [\"\\\\(\",\"\\\\)\"] ],\n",
        "                    displayMath: [ ['$$','$$'], [\"\\\\[\",\"\\\\]\"] ]\n",
        "                },\n",
        "                displayAlign: 'center', // Change this to 'center' to center equations.\n",
        "                \"HTML-CSS\": {\n",
        "                    styles: {'.MathJax_Display': {\"margin\": 4}}\n",
        "                }\n",
        "        });\n",
        "</script>\n"
       ],
       "metadata": {},
       "output_type": "pyout",
       "prompt_number": 2,
       "text": [
        "<IPython.core.display.HTML at 0x261c110>"
       ]
      }
     ],
     "prompt_number": 2
    }
   ],
   "metadata": {}
  }
 ]
}