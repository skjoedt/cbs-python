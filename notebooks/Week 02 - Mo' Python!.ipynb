{
 "metadata": {
  "name": ""
 },
 "nbformat": 3,
 "nbformat_minor": 0,
 "worksheets": [
  {
   "cells": [
    {
     "cell_type": "markdown",
     "metadata": {},
     "source": [
      "# Data types in python\n",
      "\n",
      "\n",
      "<div class=\"topics\">\n",
      "    <div style=\"padding-left: 15px;\">\n",
      "        This lecture will cover:\n",
      "        \n",
      "        <ul>\n",
      "            <li>Python Data Types:</li>\n",
      "            <ul>\n",
      "                <li>Numbers</li>\n",
      "                <li>Booleans</li>\n",
      "                <li>Sequences</li>\n",
      "                <li>Dictionaries</li>\n",
      "            </ul>\n",
      "            <li>DataFrames in Python</li>\n",
      "            <li>Python and Memory Management</li>\n",
      "        </ul>\n",
      "    </div>\n",
      "</div>\n"
     ]
    },
    {
     "cell_type": "markdown",
     "metadata": {},
     "source": [
      "## Numbers\n",
      "Like most other computer languages Python has several types of numbers. Number data types store numeric values. They are immutable data types, which means that changing the value of a number data type results in a newly created object.\n"
     ]
    },
    {
     "cell_type": "code",
     "collapsed": false,
     "input": [
      "A = 10\n",
      "B = 2"
     ],
     "language": "python",
     "metadata": {},
     "outputs": []
    },
    {
     "cell_type": "markdown",
     "metadata": {},
     "source": [
      "<ul style=\"width: 600px;\">\n",
      "    <li><b>integers:</b> often called just ints, are positive or negative whole numbers with no decimal point. </li>\n",
      "    <li><b>long:</b> are integers of unlimited size, written like integers and followed by an uppercase or lowercase L</li>\n",
      "    <li><b>floats:</b> represent real numbers and are written with a decimal point dividing the integer and fractional parts. Floats may also be in scientific notation, with E or e indicating the power of 10 (2.5E2 = 2.5 x 10<sup>2</sup> = 250)</li>\n",
      "    <li><b>complex:</b> are of the form <cb>a + bJ</cb>, where a and b are floats and J is an imaginary number. Complex numbers are not used much in Python programming.</li>\n",
      "</ul>\n"
     ]
    },
    {
     "cell_type": "code",
     "collapsed": false,
     "input": [
      "\n",
      "A = 10      # int\n",
      "B = 20131L  # long\n",
      "C = 3.14    # float\n",
      "D = 1 + 3.14j   # complex"
     ],
     "language": "python",
     "metadata": {},
     "outputs": []
    },
    {
     "cell_type": "markdown",
     "metadata": {},
     "source": [
      "####Arithmetics\n",
      "\n",
      "Python supports all the standard arithmetical operations on numerical types, and mostly uses a similar syntax to several other computer languages:\n"
     ]
    },
    {
     "cell_type": "code",
     "collapsed": false,
     "input": [
      "x = 3.14159\n",
      "y = 2.71828\n",
      "\n",
      "x + y # addition\n",
      "x - y # subtraction\n",
      "x * y # multiplication\n",
      "x / y # division\n",
      "x // y # floored division\n",
      "x % y # modulus - remainder of x/y\n",
      "x ** y # exponentiation\n",
      "pow(x, y) # another way to do exponentiation\n",
      "\n",
      "print ((x + 1) - y) * 4"
     ],
     "language": "python",
     "metadata": {},
     "outputs": []
    },
    {
     "cell_type": "markdown",
     "metadata": {},
     "source": [
      "You can mix (some) types in arithmetic expressions and python will apply rules as to the type of the result"
     ]
    },
    {
     "cell_type": "code",
     "collapsed": false,
     "input": [
      "13 + 5.0"
     ],
     "language": "python",
     "metadata": {},
     "outputs": []
    },
    {
     "cell_type": "markdown",
     "metadata": {},
     "source": [
      "You can force python to use a particular type by casting an expression explicitly, using helpfully named functions: float, int, str etc."
     ]
    },
    {
     "cell_type": "code",
     "collapsed": false,
     "input": [
      "float(3) + float(7)"
     ],
     "language": "python",
     "metadata": {},
     "outputs": []
    },
    {
     "cell_type": "code",
     "collapsed": false,
     "input": [
      "int(3.14159) + 1"
     ],
     "language": "python",
     "metadata": {},
     "outputs": []
    },
    {
     "cell_type": "markdown",
     "metadata": {},
     "source": [
      "Division in python sometimes trips up new (and experienced!) programmers. If you divide 2 integers you will only get an integer result. If you want a floating point results you should explicitly cast at least one of the arguments to a float."
     ]
    },
    {
     "cell_type": "code",
     "collapsed": false,
     "input": [
      "print \"3/4:\", 3/4"
     ],
     "language": "python",
     "metadata": {},
     "outputs": []
    },
    {
     "cell_type": "code",
     "collapsed": false,
     "input": [
      "print \"3.0/4:\", float(3)/4"
     ],
     "language": "python",
     "metadata": {},
     "outputs": []
    },
    {
     "cell_type": "markdown",
     "metadata": {},
     "source": [
      "There are a few shortcut assignment statements to make modifying variables directly faster to type"
     ]
    },
    {
     "cell_type": "code",
     "collapsed": false,
     "input": [
      "x = 3\n",
      "x += 1 # equivalent to x = x + 1\n",
      "x"
     ],
     "language": "python",
     "metadata": {},
     "outputs": []
    },
    {
     "cell_type": "code",
     "collapsed": false,
     "input": [
      "y = 10\n",
      "y *= x # equivalent to y = y * x\n",
      "y"
     ],
     "language": "python",
     "metadata": {},
     "outputs": []
    },
    {
     "cell_type": "markdown",
     "metadata": {},
     "source": [
      "## Booleans\n",
      "\n",
      "Boolean values represent truth or falsehood, as used in logical operations, for example. Not surprisingly, there are only two values, and in Python they are called True and False."
     ]
    },
    {
     "cell_type": "code",
     "collapsed": false,
     "input": [
      "a = True\n",
      "b = False\n",
      "print b"
     ],
     "language": "python",
     "metadata": {},
     "outputs": []
    },
    {
     "cell_type": "markdown",
     "metadata": {},
     "source": [
      "## Sequences"
     ]
    },
    {
     "cell_type": "markdown",
     "metadata": {},
     "source": [
      "In Python the word *sequence* refer to an ordered collection of items. We will take a look at them all:\n",
      "<ul>\n",
      "    <li>Strings</li>\n",
      "    <li>Lists</li>\n",
      "    <li>Tuples</li>\n",
      "</ul>"
     ]
    },
    {
     "cell_type": "markdown",
     "metadata": {},
     "source": [
      "### Strings\n",
      "Strings are amongst the most popular types in Python. We can create them simply by enclosing characters in quotes. Python treats single quotes the same as double quotes."
     ]
    },
    {
     "cell_type": "code",
     "collapsed": false,
     "input": [
      "print \"This is a string\"\n",
      "print 'This is a string'\n",
      "print '''This is a string'''\n",
      "print \"\"\"This is a string\"\"\""
     ],
     "language": "python",
     "metadata": {},
     "outputs": []
    },
    {
     "cell_type": "code",
     "collapsed": false,
     "input": [
      "print \"A single quote (') inside double quotes\"\n",
      "print 'Here we have \"double quotes\" inside single quotes'"
     ],
     "language": "python",
     "metadata": {},
     "outputs": []
    },
    {
     "cell_type": "markdown",
     "metadata": {},
     "source": [
      "####Modifying strings\n",
      "\n",
      "You can apply some of the same \"math\" operations on strings:"
     ]
    },
    {
     "cell_type": "code",
     "collapsed": false,
     "input": [
      "A = \"ACGTGA\"\n",
      "B = \"TATAA\""
     ],
     "language": "python",
     "metadata": {},
     "outputs": []
    },
    {
     "cell_type": "code",
     "collapsed": false,
     "input": [
      "A + B"
     ],
     "language": "python",
     "metadata": {},
     "outputs": []
    },
    {
     "cell_type": "code",
     "collapsed": false,
     "input": [
      "B * 5"
     ],
     "language": "python",
     "metadata": {},
     "outputs": []
    },
    {
     "cell_type": "markdown",
     "metadata": {},
     "source": [
      "Strings are immutable -- once we have created it, we can't change it."
     ]
    },
    {
     "cell_type": "code",
     "collapsed": false,
     "input": [
      "A = \"acgctAGACGT\"\n",
      "A.upper() # Returns the uppercase string"
     ],
     "language": "python",
     "metadata": {},
     "outputs": []
    },
    {
     "cell_type": "code",
     "collapsed": false,
     "input": [
      "print A"
     ],
     "language": "python",
     "metadata": {},
     "outputs": []
    },
    {
     "cell_type": "markdown",
     "metadata": {},
     "source": [
      "Our string A is unchanged..."
     ]
    },
    {
     "cell_type": "markdown",
     "metadata": {},
     "source": [
      "To actually change the string we have to make a copy of it. "
     ]
    },
    {
     "cell_type": "code",
     "collapsed": false,
     "input": [
      "B = A.upper()\n",
      "print \"A is\", A\n",
      "print \"B is\", B"
     ],
     "language": "python",
     "metadata": {},
     "outputs": []
    },
    {
     "cell_type": "markdown",
     "metadata": {},
     "source": [
      "Or by reassign to the name A to change the string."
     ]
    },
    {
     "cell_type": "code",
     "collapsed": false,
     "input": [
      "A = A.upper()\n",
      "print A"
     ],
     "language": "python",
     "metadata": {},
     "outputs": []
    },
    {
     "cell_type": "markdown",
     "metadata": {},
     "source": [
      "Some other string manipulations:"
     ]
    },
    {
     "cell_type": "code",
     "collapsed": false,
     "input": [
      "B = \"a,bunch,of,words\"\n",
      "print B.split(\",\")"
     ],
     "language": "python",
     "metadata": {},
     "outputs": []
    },
    {
     "cell_type": "code",
     "collapsed": false,
     "input": [
      "B = [\"a\", \"bunch\", \"of\", \"words\", \"in\", \"a\", \"list\", \"object\"]\n",
      "print \" \".join(B)\n",
      "print \"_\".join(B)"
     ],
     "language": "python",
     "metadata": {},
     "outputs": []
    },
    {
     "cell_type": "markdown",
     "metadata": {},
     "source": [
      "### Lists"
     ]
    },
    {
     "cell_type": "markdown",
     "metadata": {},
     "source": [
      "#### Making lists"
     ]
    },
    {
     "cell_type": "markdown",
     "metadata": {},
     "source": [
      "Lists are like arrays in other programming languages. It is essentially a stack of data items. Unlike strings (stack of characters), lists are collections that you can actually change.\n",
      "\n",
      "Lets say you want to make a list of your movies:\n",
      "\n",
      "<ul>\n",
      "    <li>The Meaning of Life</li>\n",
      "    <li>The Life of Brian</li>\n",
      "    <li>The Holy Grail</li>\n",
      "</ul>\n",
      "\n",
      "In python, this is done using brackets **[ ]**"
     ]
    },
    {
     "cell_type": "code",
     "collapsed": false,
     "input": [
      "movies = [\"The Holy Grail\", \"The Life of Brian\", \"The Meaning of Life\"]"
     ],
     "language": "python",
     "metadata": {},
     "outputs": []
    },
    {
     "cell_type": "markdown",
     "metadata": {},
     "source": [
      "#### Reading from lists"
     ]
    },
    {
     "cell_type": "code",
     "collapsed": false,
     "input": [
      "print movies"
     ],
     "language": "python",
     "metadata": {},
     "outputs": []
    },
    {
     "cell_type": "markdown",
     "metadata": {},
     "source": [
      "We can also use this brackets afterwards to access just a single item in the list:"
     ]
    },
    {
     "cell_type": "code",
     "collapsed": false,
     "input": [
      "movies[1]"
     ],
     "language": "python",
     "metadata": {},
     "outputs": []
    },
    {
     "cell_type": "markdown",
     "metadata": {},
     "source": [
      "movies[1] didn't give us the first item in the list as you would expect, but the second. Lists in python starts with [0] and the last item in the movie list is therefore [2]. The string <cb>Python</cb> will have the following indices:"
     ]
    },
    {
     "cell_type": "markdown",
     "metadata": {},
     "source": [
      "<img src=\"http://www.python-course.eu/images/string_indices.gif\" />"
     ]
    },
    {
     "cell_type": "code",
     "collapsed": false,
     "input": [
      "print movies[0]\n",
      "print movies[1]\n",
      "print movies[2]"
     ],
     "language": "python",
     "metadata": {},
     "outputs": []
    },
    {
     "cell_type": "code",
     "collapsed": false,
     "input": [
      "print movies[3] # will give an index error"
     ],
     "language": "python",
     "metadata": {},
     "outputs": []
    },
    {
     "cell_type": "markdown",
     "metadata": {},
     "source": [
      "You can check how many items are in the movie collection using"
     ]
    },
    {
     "cell_type": "code",
     "collapsed": false,
     "input": [
      "len(movies)"
     ],
     "language": "python",
     "metadata": {},
     "outputs": []
    },
    {
     "cell_type": "markdown",
     "metadata": {},
     "source": [
      "#### Adding more data to the list"
     ]
    },
    {
     "cell_type": "markdown",
     "metadata": {},
     "source": [
      "If you want to **add** just another item to the list (appending) you can do this by"
     ]
    },
    {
     "cell_type": "code",
     "collapsed": false,
     "input": [
      "movies.append(\"Die Hard\")"
     ],
     "language": "python",
     "metadata": {},
     "outputs": []
    },
    {
     "cell_type": "markdown",
     "metadata": {},
     "source": [
      "Printing the list now gives"
     ]
    },
    {
     "cell_type": "code",
     "collapsed": false,
     "input": [
      "print movies"
     ],
     "language": "python",
     "metadata": {},
     "outputs": []
    },
    {
     "cell_type": "markdown",
     "metadata": {},
     "source": [
      "To **insert** an item into a specific position of the list you can use"
     ]
    },
    {
     "cell_type": "code",
     "collapsed": false,
     "input": [
      "movies.insert(3, \"Twilight\")\n",
      "print movies"
     ],
     "language": "python",
     "metadata": {},
     "outputs": []
    },
    {
     "cell_type": "markdown",
     "metadata": {},
     "source": [
      "Appending and inserting only works with a single item. You can also **extend** the list with another list using"
     ]
    },
    {
     "cell_type": "code",
     "collapsed": false,
     "input": [
      "newmovies = [\"The Dark Knight Rises\", \"Django Unchained\", \"The Avengers\"]\n",
      "movies.extend(newmovies)"
     ],
     "language": "python",
     "metadata": {},
     "outputs": []
    },
    {
     "cell_type": "code",
     "collapsed": false,
     "input": [
      "print movies"
     ],
     "language": "python",
     "metadata": {},
     "outputs": []
    },
    {
     "cell_type": "markdown",
     "metadata": {},
     "source": [
      "#### Deleting items from list"
     ]
    },
    {
     "cell_type": "markdown",
     "metadata": {},
     "source": [
      "Of course you can **remove** an element again from the collection of favorite movies by either <cb>movies.pop(3)</cb> or <cb>movies.remove(\"Twilight\")</cb>"
     ]
    },
    {
     "cell_type": "code",
     "collapsed": false,
     "input": [
      "movies.remove(\"Twilight\")\n",
      "print movies"
     ],
     "language": "python",
     "metadata": {},
     "outputs": []
    },
    {
     "cell_type": "markdown",
     "metadata": {},
     "source": [
      "Using <cb>movies.pop()</cb> without any paramter just removes the last element. Additionally the function <cb>.pop()</cb> also returns this element where it was called:"
     ]
    },
    {
     "cell_type": "code",
     "collapsed": false,
     "input": [
      "movies.pop()"
     ],
     "language": "python",
     "metadata": {},
     "outputs": []
    },
    {
     "cell_type": "code",
     "collapsed": false,
     "input": [
      "print movies"
     ],
     "language": "python",
     "metadata": {},
     "outputs": []
    },
    {
     "cell_type": "code",
     "collapsed": false,
     "input": [
      "del movies[2] # also works\n",
      "print movies"
     ],
     "language": "python",
     "metadata": {},
     "outputs": []
    },
    {
     "cell_type": "markdown",
     "metadata": {},
     "source": [
      "### Tuples"
     ]
    },
    {
     "cell_type": "markdown",
     "metadata": {},
     "source": [
      "Tuples are like lists - but once you have created it, you can't change it. "
     ]
    },
    {
     "cell_type": "code",
     "collapsed": false,
     "input": [
      "mytuble = (1,2,3,4)"
     ],
     "language": "python",
     "metadata": {},
     "outputs": []
    },
    {
     "cell_type": "markdown",
     "metadata": {},
     "source": [
      "Since they have a **fixed size** you generally use them as structures for some data, like coordinates (x,y). \n",
      "\n",
      "**Example**: Say you go for a walk at DTU campus and note your GPS coordinates at any instant in a tuple (x,y) called <cb>current_coordinate</cb>. While walking you record your journey in a list called <cb>journey</cb>, so you can trace your route at a later point."
     ]
    },
    {
     "cell_type": "code",
     "collapsed": true,
     "input": [
      "journey = [] # empty list\n",
      "while walking:\n",
      "    current_coordinate = (x,y)\n",
      "    journey.append(coordinate)\n",
      "# This code won't run, because we don't know the coordinates \"x\" and \"y\" and when to stop \"walking\".\n",
      "# But it illustrates the idea of tuples used as coordinates and lists used as records."
     ],
     "language": "python",
     "metadata": {},
     "outputs": []
    },
    {
     "cell_type": "markdown",
     "metadata": {},
     "source": [
      "After a short walk your <cb>journey</cb> would look something like this:"
     ]
    },
    {
     "cell_type": "code",
     "collapsed": false,
     "input": [
      "[\n",
      "   (55.787159, 12.518814),\n",
      "   (55.787033, 12.519661),\n",
      "   (55.786761, 12.521485),\n",
      "   (55.787582, 12.522022),\n",
      "   (55.787889, 12.520208),\n",
      "   (55.787159, 12.518814)\n",
      "];"
     ],
     "language": "python",
     "metadata": {},
     "outputs": []
    },
    {
     "cell_type": "markdown",
     "metadata": {},
     "source": [
      "This cannot be done in the opposite way! \n",
      "\n",
      "Tuples are in general more memory efficient than lists but accessing data items from list and tuples are equally fast."
     ]
    },
    {
     "cell_type": "markdown",
     "metadata": {},
     "source": [
      "## Dictionaries\n",
      "\n",
      "Dictionaries is a special type of data structure in python. It holds a Key and a Value. They Value can be addressed not by a number, like in lists, but by a Key. You make dictionaries using the <b>{ }</b> brackets:"
     ]
    },
    {
     "cell_type": "code",
     "collapsed": false,
     "input": [
      "IUPAC = {'A': 'Ala', 'C': 'Cys', 'E': 'Glu'}"
     ],
     "language": "python",
     "metadata": {},
     "outputs": []
    },
    {
     "cell_type": "markdown",
     "metadata": {},
     "source": [
      "And access each Value using, eg. <cb>IUPAC['E']</cb>:"
     ]
    },
    {
     "cell_type": "code",
     "collapsed": false,
     "input": [
      "print \"C stands for the amino acid\", IUPAC['C']"
     ],
     "language": "python",
     "metadata": {},
     "outputs": []
    },
    {
     "cell_type": "markdown",
     "metadata": {},
     "source": [
      "Another way of creating it is:"
     ]
    },
    {
     "cell_type": "code",
     "collapsed": false,
     "input": [
      "IUPAC = dict(A='Ala', C='Cys', E='Glu')"
     ],
     "language": "python",
     "metadata": {},
     "outputs": []
    },
    {
     "cell_type": "markdown",
     "metadata": {},
     "source": [
      "The <cb>dict()</cb> function can also be used to convert sequences to dictionaries:"
     ]
    },
    {
     "cell_type": "code",
     "collapsed": false,
     "input": [
      "rgb = [('red','ff0000'), ('green','00ff00'), ('blue','0000ff')]\n",
      "colors = dict(rgb)\n",
      "colors['green']"
     ],
     "language": "python",
     "metadata": {},
     "outputs": []
    },
    {
     "cell_type": "markdown",
     "metadata": {},
     "source": [
      "## Running trough items in a collection\n",
      "\n",
      "Python has a very non-typical way of running through items in a collection (items in a list, characters in a string or keys in a dictionary).\n",
      "\n",
      "It goes like this:"
     ]
    },
    {
     "cell_type": "code",
     "collapsed": false,
     "input": [
      "for color in colors:\n",
      "    print color"
     ],
     "language": "python",
     "metadata": {},
     "outputs": []
    },
    {
     "cell_type": "markdown",
     "metadata": {},
     "source": [
      "The recipe is basically a **for** line ending with a colon. Everything that follows with an indentation will be evaluated for each item in the collection."
     ]
    },
    {
     "cell_type": "code",
     "collapsed": false,
     "input": [
      "for color in colors:\n",
      "    print \"This\",\n",
      "    print \"color\",\n",
      "    print \"is\",\n",
      "    for character in color:\n",
      "        print character,\n",
      "    print \"!\"\n",
      "print \"Last color is\", color"
     ],
     "language": "python",
     "metadata": {},
     "outputs": []
    },
    {
     "cell_type": "markdown",
     "metadata": {},
     "source": [
      "## Membership testing\n",
      "\n",
      "There are two kind of membership tests in python\n",
      "\n",
      "    in\n",
      "\n",
      "and \n",
      "\n",
      "    not in\n",
      "\n",
      "They are used to test if an item is a member of a collection. Like"
     ]
    },
    {
     "cell_type": "code",
     "collapsed": false,
     "input": [
      "2 in [1,2,3,4]"
     ],
     "language": "python",
     "metadata": {},
     "outputs": []
    },
    {
     "cell_type": "code",
     "collapsed": false,
     "input": [
      "2 not in [1,3,5,7]"
     ],
     "language": "python",
     "metadata": {},
     "outputs": []
    },
    {
     "cell_type": "markdown",
     "metadata": {},
     "source": [
      "They will return a boolean, either\n",
      "\n",
      "    True\n",
      "or \n",
      "\n",
      "    False\n",
      "\n",
      "which is another data type aswell. This type is case-sensitive, so true is not the same as True!\n",
      "\n",
      "It can be used with all kind of collections:"
     ]
    },
    {
     "cell_type": "code",
     "collapsed": false,
     "input": [
      "\"T\" in \"UAGCCGACGUGA\""
     ],
     "language": "python",
     "metadata": {},
     "outputs": []
    },
    {
     "cell_type": "markdown",
     "metadata": {},
     "source": [
      "## List Comprehension\n",
      "\n",
      "Instead of defining a list by *enumeration*:"
     ]
    },
    {
     "cell_type": "code",
     "collapsed": false,
     "input": [
      "A = [0,1,2,3,4]"
     ],
     "language": "python",
     "metadata": {},
     "outputs": []
    },
    {
     "cell_type": "markdown",
     "metadata": {},
     "source": [
      "you can assign it by *comprehension*, eg. \n",
      "<center>\n",
      "<img src=\"files/images/eq_1.gif\" />\n",
      "</center>\n",
      "\n",
      "which gives\n",
      "<center>\n",
      "<img src=\"files/images/eq_2.gif\" />\n",
      "</center>\n",
      "\n",
      "\n",
      "In Python this is written as:\n",
      "\n",
      "    B = [expression for item in collection]"
     ]
    },
    {
     "cell_type": "raw",
     "metadata": {},
     "source": []
    },
    {
     "cell_type": "code",
     "collapsed": false,
     "input": [
      "B = [3*x for x in A]\n",
      "print B"
     ],
     "language": "python",
     "metadata": {},
     "outputs": []
    },
    {
     "cell_type": "markdown",
     "metadata": {},
     "source": [
      "## Conversion"
     ]
    },
    {
     "cell_type": "markdown",
     "metadata": {},
     "source": [
      "Conversion between data types in Python is called *type casting*. This is done using functions like \n",
      "\n",
      "    int()\n",
      "    float()\n",
      "    str()\n",
      "    list()\n",
      "    dict()\n",
      "\n",
      "A common conversion is from string to number:"
     ]
    },
    {
     "cell_type": "code",
     "collapsed": false,
     "input": [
      "x = \"12.4\"\n",
      "y = \"-2\"\n",
      "print x + y"
     ],
     "language": "python",
     "metadata": {},
     "outputs": [
      {
       "output_type": "stream",
       "stream": "stdout",
       "text": [
        "12.4-2\n"
       ]
      }
     ],
     "prompt_number": 17
    },
    {
     "cell_type": "code",
     "collapsed": false,
     "input": [
      "print float(x) + int(y)"
     ],
     "language": "python",
     "metadata": {},
     "outputs": [
      {
       "output_type": "stream",
       "stream": "stdout",
       "text": [
        "10.4\n"
       ]
      }
     ],
     "prompt_number": 18
    },
    {
     "cell_type": "markdown",
     "metadata": {},
     "source": [
      "Or the other way around"
     ]
    },
    {
     "cell_type": "code",
     "collapsed": false,
     "input": [
      "x = 12.4\n",
      "y = -2"
     ],
     "language": "python",
     "metadata": {},
     "outputs": [],
     "prompt_number": 34
    },
    {
     "cell_type": "code",
     "collapsed": false,
     "input": [
      "print str(x) + str(y)"
     ],
     "language": "python",
     "metadata": {},
     "outputs": [
      {
       "output_type": "stream",
       "stream": "stdout",
       "text": [
        "12.4-2\n"
       ]
      }
     ],
     "prompt_number": 45
    },
    {
     "cell_type": "markdown",
     "metadata": {},
     "source": [
      "Example of using list()"
     ]
    },
    {
     "cell_type": "code",
     "collapsed": false,
     "input": [
      "myStr = \"ABCDEFG\"\n",
      "print list(myStr)"
     ],
     "language": "python",
     "metadata": {},
     "outputs": [
      {
       "output_type": "stream",
       "stream": "stdout",
       "text": [
        "['A', 'B', 'C', 'D', 'E', 'F', 'G']\n"
       ]
      }
     ],
     "prompt_number": 24
    },
    {
     "cell_type": "markdown",
     "metadata": {},
     "source": [
      "Example of using dict()"
     ]
    },
    {
     "cell_type": "code",
     "collapsed": false,
     "input": [
      "myList = [(\"a\", 2), (\"b\", 3), (\"c\", 1)]\n",
      "myDict = dict(myList)\n",
      "print myDict"
     ],
     "language": "python",
     "metadata": {},
     "outputs": [
      {
       "output_type": "stream",
       "stream": "stdout",
       "text": [
        "{'a': 2, 'c': 1, 'b': 3}\n"
       ]
      }
     ],
     "prompt_number": 23
    },
    {
     "cell_type": "markdown",
     "metadata": {},
     "source": [
      "## DataFrames in Python with \"Pandas\"\n",
      "\n",
      "Some of you have worked with R and are familiar with some very sophisticated data types called DataFrames. The Python module **Pandas** offers something very similar. \n",
      "\n",
      "<center>\n",
      "<img src=\"files/images/panda_greet.jpg\" />\n",
      "</center>\n",
      "\n",
      "First load in the module:"
     ]
    },
    {
     "cell_type": "code",
     "collapsed": false,
     "input": [
      "from pandas import DataFrame"
     ],
     "language": "python",
     "metadata": {},
     "outputs": [],
     "prompt_number": 6
    },
    {
     "cell_type": "markdown",
     "metadata": {},
     "source": [
      "Now let's create a data set, inspired by our movie example earlier:"
     ]
    },
    {
     "cell_type": "code",
     "collapsed": false,
     "input": [
      "titles = ['The Holy Grail', 'The Life of Brian', 'The Meaning of Life',\n",
      " 'Die Hard', 'The Dark Knight Rises', 'Django Unchained', 'The Avengers']\n",
      "prod_year = [1975, 1979, 1983, 1988, 2012, 2012, 2012]"
     ],
     "language": "python",
     "metadata": {},
     "outputs": [],
     "prompt_number": 7
    },
    {
     "cell_type": "markdown",
     "metadata": {},
     "source": [
      "Merge the two data sets using <cb>zip()</cb>"
     ]
    },
    {
     "cell_type": "code",
     "collapsed": false,
     "input": [
      "zip?"
     ],
     "language": "python",
     "metadata": {},
     "outputs": [],
     "prompt_number": 8
    },
    {
     "cell_type": "code",
     "collapsed": false,
     "input": [
      "movies = zip(titles, prod_year)\n",
      "movies"
     ],
     "language": "python",
     "metadata": {},
     "outputs": [
      {
       "metadata": {},
       "output_type": "pyout",
       "prompt_number": 10,
       "text": [
        "[('The Holy Grail', 1975),\n",
        " ('The Life of Brian', 1979),\n",
        " ('The Meaning of Life', 1983),\n",
        " ('Die Hard', 1988),\n",
        " ('The Dark Knight Rises', 2012),\n",
        " ('Django Unchained', 2012),\n",
        " ('The Avengers', 2012)]"
       ]
      }
     ],
     "prompt_number": 10
    },
    {
     "cell_type": "markdown",
     "metadata": {},
     "source": [
      "Now we will convert it to a DataFrame"
     ]
    },
    {
     "cell_type": "code",
     "collapsed": false,
     "input": [
      "df = DataFrame(data = movies, columns=[\"Title\", \"Year\"])\n",
      "df"
     ],
     "language": "python",
     "metadata": {},
     "outputs": [
      {
       "html": [
        "<div style=\"max-height:1000px;max-width:1500px;overflow:auto;\">\n",
        "<table border=\"1\">\n",
        "  <thead>\n",
        "    <tr>\n",
        "      <th></th>\n",
        "      <th>Title</th>\n",
        "      <th>Year</th>\n",
        "    </tr>\n",
        "  </thead>\n",
        "  <tbody>\n",
        "    <tr>\n",
        "      <td><strong>0</strong></td>\n",
        "      <td>        The Holy Grail</td>\n",
        "      <td> 1975</td>\n",
        "    </tr>\n",
        "    <tr>\n",
        "      <td><strong>1</strong></td>\n",
        "      <td>     The Life of Brian</td>\n",
        "      <td> 1979</td>\n",
        "    </tr>\n",
        "    <tr>\n",
        "      <td><strong>2</strong></td>\n",
        "      <td>   The Meaning of Life</td>\n",
        "      <td> 1983</td>\n",
        "    </tr>\n",
        "    <tr>\n",
        "      <td><strong>3</strong></td>\n",
        "      <td>              Die Hard</td>\n",
        "      <td> 1988</td>\n",
        "    </tr>\n",
        "    <tr>\n",
        "      <td><strong>4</strong></td>\n",
        "      <td> The Dark Knight Rises</td>\n",
        "      <td> 2012</td>\n",
        "    </tr>\n",
        "    <tr>\n",
        "      <td><strong>5</strong></td>\n",
        "      <td>      Django Unchained</td>\n",
        "      <td> 2012</td>\n",
        "    </tr>\n",
        "    <tr>\n",
        "      <td><strong>6</strong></td>\n",
        "      <td>          The Avengers</td>\n",
        "      <td> 2012</td>\n",
        "    </tr>\n",
        "  </tbody>\n",
        "</table>\n",
        "</div>"
       ],
       "metadata": {},
       "output_type": "pyout",
       "prompt_number": 11,
       "text": [
        "                   Title  Year\n",
        "0         The Holy Grail  1975\n",
        "1      The Life of Brian  1979\n",
        "2    The Meaning of Life  1983\n",
        "3               Die Hard  1988\n",
        "4  The Dark Knight Rises  2012\n",
        "5       Django Unchained  2012\n",
        "6           The Avengers  2012"
       ]
      }
     ],
     "prompt_number": 11
    },
    {
     "cell_type": "code",
     "collapsed": false,
     "input": [
      "df.head(3)"
     ],
     "language": "python",
     "metadata": {},
     "outputs": [
      {
       "html": [
        "<div style=\"max-height:1000px;max-width:1500px;overflow:auto;\">\n",
        "<table border=\"1\">\n",
        "  <thead>\n",
        "    <tr>\n",
        "      <th></th>\n",
        "      <th>Title</th>\n",
        "      <th>Year</th>\n",
        "    </tr>\n",
        "  </thead>\n",
        "  <tbody>\n",
        "    <tr>\n",
        "      <td><strong>0</strong></td>\n",
        "      <td>      The Holy Grail</td>\n",
        "      <td> 1975</td>\n",
        "    </tr>\n",
        "    <tr>\n",
        "      <td><strong>1</strong></td>\n",
        "      <td>   The Life of Brian</td>\n",
        "      <td> 1979</td>\n",
        "    </tr>\n",
        "    <tr>\n",
        "      <td><strong>2</strong></td>\n",
        "      <td> The Meaning of Life</td>\n",
        "      <td> 1983</td>\n",
        "    </tr>\n",
        "  </tbody>\n",
        "</table>\n",
        "</div>"
       ],
       "metadata": {},
       "output_type": "pyout",
       "prompt_number": 12,
       "text": [
        "                 Title  Year\n",
        "0       The Holy Grail  1975\n",
        "1    The Life of Brian  1979\n",
        "2  The Meaning of Life  1983"
       ]
      }
     ],
     "prompt_number": 12
    },
    {
     "cell_type": "code",
     "collapsed": false,
     "input": [
      "print df.head(3)"
     ],
     "language": "python",
     "metadata": {},
     "outputs": [
      {
       "output_type": "stream",
       "stream": "stdout",
       "text": [
        "                 Title  Year\n",
        "0       The Holy Grail  1975\n",
        "1    The Life of Brian  1979\n",
        "2  The Meaning of Life  1983\n"
       ]
      }
     ],
     "prompt_number": 13
    },
    {
     "cell_type": "code",
     "collapsed": false,
     "input": [
      "df.Title.head(3)"
     ],
     "language": "python",
     "metadata": {},
     "outputs": [
      {
       "metadata": {},
       "output_type": "pyout",
       "prompt_number": 14,
       "text": [
        "0         The Holy Grail\n",
        "1      The Life of Brian\n",
        "2    The Meaning of Life\n",
        "Name: Title"
       ]
      }
     ],
     "prompt_number": 14
    },
    {
     "cell_type": "code",
     "collapsed": false,
     "input": [
      "df.sort(\"Year\", ascending=0)"
     ],
     "language": "python",
     "metadata": {},
     "outputs": [
      {
       "html": [
        "<div style=\"max-height:1000px;max-width:1500px;overflow:auto;\">\n",
        "<table border=\"1\">\n",
        "  <thead>\n",
        "    <tr>\n",
        "      <th></th>\n",
        "      <th>Title</th>\n",
        "      <th>Year</th>\n",
        "    </tr>\n",
        "  </thead>\n",
        "  <tbody>\n",
        "    <tr>\n",
        "      <td><strong>6</strong></td>\n",
        "      <td>          The Avengers</td>\n",
        "      <td> 2012</td>\n",
        "    </tr>\n",
        "    <tr>\n",
        "      <td><strong>5</strong></td>\n",
        "      <td>      Django Unchained</td>\n",
        "      <td> 2012</td>\n",
        "    </tr>\n",
        "    <tr>\n",
        "      <td><strong>4</strong></td>\n",
        "      <td> The Dark Knight Rises</td>\n",
        "      <td> 2012</td>\n",
        "    </tr>\n",
        "    <tr>\n",
        "      <td><strong>3</strong></td>\n",
        "      <td>              Die Hard</td>\n",
        "      <td> 1988</td>\n",
        "    </tr>\n",
        "    <tr>\n",
        "      <td><strong>2</strong></td>\n",
        "      <td>   The Meaning of Life</td>\n",
        "      <td> 1983</td>\n",
        "    </tr>\n",
        "    <tr>\n",
        "      <td><strong>1</strong></td>\n",
        "      <td>     The Life of Brian</td>\n",
        "      <td> 1979</td>\n",
        "    </tr>\n",
        "    <tr>\n",
        "      <td><strong>0</strong></td>\n",
        "      <td>        The Holy Grail</td>\n",
        "      <td> 1975</td>\n",
        "    </tr>\n",
        "  </tbody>\n",
        "</table>\n",
        "</div>"
       ],
       "metadata": {},
       "output_type": "pyout",
       "prompt_number": 15,
       "text": [
        "                   Title  Year\n",
        "6           The Avengers  2012\n",
        "5       Django Unchained  2012\n",
        "4  The Dark Knight Rises  2012\n",
        "3               Die Hard  1988\n",
        "2    The Meaning of Life  1983\n",
        "1      The Life of Brian  1979\n",
        "0         The Holy Grail  1975"
       ]
      }
     ],
     "prompt_number": 15
    },
    {
     "cell_type": "code",
     "collapsed": false,
     "input": [
      "df[\"imdb\"] = [8.4, 8.1, 7.5, 8.3, 8.6, 8.5, 8.2]\n",
      "df"
     ],
     "language": "python",
     "metadata": {},
     "outputs": [
      {
       "html": [
        "<div style=\"max-height:1000px;max-width:1500px;overflow:auto;\">\n",
        "<table border=\"1\">\n",
        "  <thead>\n",
        "    <tr>\n",
        "      <th></th>\n",
        "      <th>Title</th>\n",
        "      <th>Year</th>\n",
        "      <th>imdb</th>\n",
        "    </tr>\n",
        "  </thead>\n",
        "  <tbody>\n",
        "    <tr>\n",
        "      <td><strong>0</strong></td>\n",
        "      <td>        The Holy Grail</td>\n",
        "      <td> 1975</td>\n",
        "      <td> 8.4</td>\n",
        "    </tr>\n",
        "    <tr>\n",
        "      <td><strong>1</strong></td>\n",
        "      <td>     The Life of Brian</td>\n",
        "      <td> 1979</td>\n",
        "      <td> 8.1</td>\n",
        "    </tr>\n",
        "    <tr>\n",
        "      <td><strong>2</strong></td>\n",
        "      <td>   The Meaning of Life</td>\n",
        "      <td> 1983</td>\n",
        "      <td> 7.5</td>\n",
        "    </tr>\n",
        "    <tr>\n",
        "      <td><strong>3</strong></td>\n",
        "      <td>              Die Hard</td>\n",
        "      <td> 1988</td>\n",
        "      <td> 8.3</td>\n",
        "    </tr>\n",
        "    <tr>\n",
        "      <td><strong>4</strong></td>\n",
        "      <td> The Dark Knight Rises</td>\n",
        "      <td> 2012</td>\n",
        "      <td> 8.6</td>\n",
        "    </tr>\n",
        "    <tr>\n",
        "      <td><strong>5</strong></td>\n",
        "      <td>      Django Unchained</td>\n",
        "      <td> 2012</td>\n",
        "      <td> 8.5</td>\n",
        "    </tr>\n",
        "    <tr>\n",
        "      <td><strong>6</strong></td>\n",
        "      <td>          The Avengers</td>\n",
        "      <td> 2012</td>\n",
        "      <td> 8.2</td>\n",
        "    </tr>\n",
        "  </tbody>\n",
        "</table>\n",
        "</div>"
       ],
       "metadata": {},
       "output_type": "pyout",
       "prompt_number": 16,
       "text": [
        "                   Title  Year  imdb\n",
        "0         The Holy Grail  1975   8.4\n",
        "1      The Life of Brian  1979   8.1\n",
        "2    The Meaning of Life  1983   7.5\n",
        "3               Die Hard  1988   8.3\n",
        "4  The Dark Knight Rises  2012   8.6\n",
        "5       Django Unchained  2012   8.5\n",
        "6           The Avengers  2012   8.2"
       ]
      }
     ],
     "prompt_number": 16
    },
    {
     "cell_type": "code",
     "collapsed": false,
     "input": [
      "import matplotlib\n",
      "%pylab inline"
     ],
     "language": "python",
     "metadata": {},
     "outputs": [
      {
       "output_type": "stream",
       "stream": "stdout",
       "text": [
        "Populating the interactive namespace from numpy and matplotlib\n"
       ]
      }
     ],
     "prompt_number": 17
    },
    {
     "cell_type": "code",
     "collapsed": false,
     "input": [
      "df[\"Year\"].plot()"
     ],
     "language": "python",
     "metadata": {},
     "outputs": [
      {
       "metadata": {},
       "output_type": "pyout",
       "prompt_number": 18,
       "text": [
        "<matplotlib.axes.AxesSubplot at 0x38cb210>"
       ]
      },
      {
       "metadata": {},
       "output_type": "display_data",
       "png": "[encoded data removed]",
       "text": [
        "<matplotlib.figure.Figure at 0x38bbe90>"
       ]
      }
     ],
     "prompt_number": 18
    },
    {
     "cell_type": "code",
     "collapsed": false,
     "input": [
      "plot([1,2,3])"
     ],
     "language": "python",
     "metadata": {},
     "outputs": []
    },
    {
     "cell_type": "code",
     "collapsed": false,
     "input": [
      "from IPython.display import YouTubeVideo\n",
      "YouTubeVideo(\"p8hle-ni-DM\")"
     ],
     "language": "python",
     "metadata": {},
     "outputs": [
      {
       "html": [
        "\n",
        "        <iframe\n",
        "            width=\"400\"\n",
        "            height=300\"\n",
        "            src=\"http://www.youtube.com/embed/p8hle-ni-DM\"\n",
        "            frameborder=\"0\"\n",
        "            allowfullscreen\n",
        "        ></iframe>\n",
        "        "
       ],
       "metadata": {},
       "output_type": "pyout",
       "prompt_number": 2,
       "text": [
        "<IPython.lib.display.YouTubeVideo at 0x30ee590>"
       ]
      }
     ],
     "prompt_number": 2
    },
    {
     "cell_type": "markdown",
     "metadata": {},
     "source": [
      "## Python and memory management\n",
      "\n",
      "Without going into too much detail I feel it is important to know a little bit about what is going on in the engine room of the Python language. \n",
      "\n",
      "#### A computer has memory\n",
      "A computer has long-term and short term memory, much like the human brain.\n",
      "\n",
      "<center>\n",
      "<img src=\"http://crescentok.com/staff/jaskew/WebBased/brain3.gif\" />\n",
      "</center>\n",
      "\n",
      "What differs is the access speed and capacity. \n",
      "<center>\n",
      "<table>\n",
      "    <tr><td><b>Memory</b></td><td><b>Tech. Term</b></td><td><b>Access Speed</b></td><td><b>Capacity</b></td></tr>\n",
      "    <tr><td>Long Term</td><td>Hard Drive/SSD</td><td>MB/S</td><td>TB</td></tr>\n",
      "    <tr><td>Short Term</td><td>DDR RAM</td><td>GB/S</td><td>GB</td></tr>\n",
      "</table>\n",
      "</center>\n",
      "\n"
     ]
    },
    {
     "cell_type": "markdown",
     "metadata": {},
     "source": [
      "#### What does python do? \n",
      "\n",
      "When we assign values to names in python, like "
     ]
    },
    {
     "cell_type": "code",
     "collapsed": false,
     "input": [
      "x = 5-2"
     ],
     "language": "python",
     "metadata": {},
     "outputs": []
    },
    {
     "cell_type": "markdown",
     "metadata": {},
     "source": [
      "the right-hand side of the command is first evaluated (5-2) and the result is stored in memory. Then the name \"x\" is assigned to this piece of data in our memory so we can use it later by calling out \"x\".\n",
      "\n",
      "It can be visualized as blocks of data put into memory:\n",
      "\n",
      "<img src=\"files/images/assignments.png\" />\n",
      "\n",
      "Different names can point to the same piece of data in our memory, like this:"
     ]
    },
    {
     "cell_type": "code",
     "collapsed": false,
     "input": [
      "x = 3\n",
      "y = x\n",
      "y = 2"
     ],
     "language": "python",
     "metadata": {},
     "outputs": []
    },
    {
     "cell_type": "markdown",
     "metadata": {},
     "source": [
      "In the second line, the name y points to the value in x (3). In the third line y points to the value 2. <b>This does not change the value of x!</b>"
     ]
    },
    {
     "cell_type": "code",
     "collapsed": false,
     "input": [
      "print x"
     ],
     "language": "python",
     "metadata": {},
     "outputs": []
    },
    {
     "cell_type": "markdown",
     "metadata": {},
     "source": [
      "It can be visualized as\n",
      "\n",
      "<img src=\"http://www.python-course.eu/images/variable_memory.gif\" />"
     ]
    },
    {
     "cell_type": "markdown",
     "metadata": {},
     "source": [
      "When working with lists it is important that you understand how assignments are made.\n",
      "\n",
      "Take for instance this code:"
     ]
    },
    {
     "cell_type": "code",
     "collapsed": false,
     "input": [
      "a = 3\n",
      "b = [1,2,a]"
     ],
     "language": "python",
     "metadata": {},
     "outputs": []
    },
    {
     "cell_type": "markdown",
     "metadata": {},
     "source": [
      "Or translated into english: \n",
      "\n",
      "\"let variable a have a value of 3.\"<br />\n",
      "\"let variable b have a list with three elements: 1, 2 and a (that has the value 3).\""
     ]
    },
    {
     "cell_type": "code",
     "collapsed": false,
     "input": [
      "print b"
     ],
     "language": "python",
     "metadata": {},
     "outputs": []
    },
    {
     "cell_type": "markdown",
     "metadata": {},
     "source": [
      "So by changing the value of a, the third item in the list should change as well:"
     ]
    },
    {
     "cell_type": "code",
     "collapsed": false,
     "input": [
      "a = 5\n",
      "print b"
     ],
     "language": "python",
     "metadata": {},
     "outputs": []
    },
    {
     "cell_type": "markdown",
     "metadata": {},
     "source": [
      "<b>It doesn't?!</b> If you know another programming language you may think that \"Python is storing the value (3) instead of a reference to the value (a). <b>This is not exactly the case!</b> Lets try with another example: "
     ]
    },
    {
     "cell_type": "code",
     "collapsed": false,
     "input": [
      "c = [1,2,3]\n",
      "d = [5,6,c]"
     ],
     "language": "python",
     "metadata": {},
     "outputs": []
    },
    {
     "cell_type": "markdown",
     "metadata": {},
     "source": [
      "Or translated into english: \n",
      "\n",
      "\"let variable c have a list with three elements: 1, 2 and 3.\"<br />\n",
      "\"let variable d have a list with three elements: 5, 6 and c (that has 3 elements)\""
     ]
    },
    {
     "cell_type": "code",
     "collapsed": false,
     "input": [
      "print c\n",
      "print d"
     ],
     "language": "python",
     "metadata": {},
     "outputs": []
    },
    {
     "cell_type": "markdown",
     "metadata": {},
     "source": [
      "Let's do the same as before; changing the value of the first variable (c):"
     ]
    },
    {
     "cell_type": "code",
     "collapsed": false,
     "input": [
      "c.pop() # removes last element\n",
      "print c"
     ],
     "language": "python",
     "metadata": {},
     "outputs": []
    },
    {
     "cell_type": "code",
     "collapsed": false,
     "input": [
      "print d"
     ],
     "language": "python",
     "metadata": {},
     "outputs": []
    },
    {
     "cell_type": "markdown",
     "metadata": {},
     "source": [
      "In this case d actually changed! This might seem rather inconsistent for you, but if we see all assignments (like x = 2) as binding names (a,b,c,d) with objects (3, 2, list etc.) then it starts to make sense. "
     ]
    },
    {
     "cell_type": "markdown",
     "metadata": {},
     "source": [
      "<b>Case 1</b>\n",
      "\n",
      "In the first case, when we **reassigned** the value 5 to *a* the original reference to 3 is destroyed.\n",
      "<center>\n",
      "<img src=\"files/images/fig3-5.png\" width=\"600px\"/>\n",
      "</center>\n",
      "\n",
      "<b>Case 2</b>\n",
      "\n",
      "In the second case we didn't reassign *c* to a new object, we simply changed the object itself. So the reference of *c* were unchanged.\n",
      "\n",
      "<center>\n",
      "    <img src=\"files/images/fig3-6.png\" width=\"600px\" />\n",
      "</center>"
     ]
    },
    {
     "cell_type": "markdown",
     "metadata": {},
     "source": [
      "\n",
      "### Memory handling and life science research\n",
      "\n",
      "In life science you come across a great deal of data types. Here is just a few:\n",
      "\n",
      "<table>\n",
      "    <tr><td><b>Data type</b></td><td><b>Size of data</b></td></tr>\n",
      "    <tr><td>Fluorescence spectroscopy</td><td>0.1 - 10 MB</td></tr>\n",
      "    <tr><td>Flow cytometry</td><td>50 - 200 MB</td></tr>\n",
      "    <tr><td>Mass Spectrometry</td><td>100 MB - 10 GB</td></tr>\n",
      "    <tr><td>NGS data</td><td>2 GB - TB</td></tr>\n",
      "</table>\n",
      "\n",
      "Your program may perform excellent on data of KB size but when introduced to larger data sets the time it can take hours to finish. \n",
      "\n",
      "Let's use an example to see this in details. \n",
      "\n",
      "Say you have created a list to store your data:"
     ]
    },
    {
     "cell_type": "code",
     "collapsed": false,
     "input": [
      "data = []"
     ],
     "language": "python",
     "metadata": {},
     "outputs": []
    },
    {
     "cell_type": "markdown",
     "metadata": {},
     "source": [
      "Python have no clue how large your data set is, so it makes a temporary space in memory to store your list, like shown in a gray box below: \n",
      "\n",
      "<center>\n",
      "<img src=\"files/images/malloc_1.svg\" />\n",
      "</center>\n",
      "\n",
      "Now you start filling data into the list. At some point the data list become larger than what was originally reserved. Now Python automatically reserves more space for the list - but it still doesn't know how much should be reserved.\n",
      "\n",
      "<center>\n",
      "<img src=\"files/images/malloc_2.svg\" />\n",
      "</center>\n",
      "\n",
      "Doing this for small data sets (<50 MB) is OK - you can't really feel the difference - but for large amount of data the speed can be boosted dramatically if you allocate the space you need **from the beginning**:"
     ]
    },
    {
     "cell_type": "code",
     "collapsed": false,
     "input": [
      "data = [0]*50\n",
      "print data"
     ],
     "language": "python",
     "metadata": {},
     "outputs": []
    },
    {
     "cell_type": "markdown",
     "metadata": {},
     "source": [
      "And then place the data items into the list. This way Python doesn't spend unnescesarry time on reallocating the data list every time you put something in it. "
     ]
    },
    {
     "cell_type": "code",
     "collapsed": false,
     "input": [
      "data[5] = 3.14\n",
      "print data"
     ],
     "language": "python",
     "metadata": {},
     "outputs": []
    },
    {
     "cell_type": "markdown",
     "metadata": {},
     "source": [
      "---"
     ]
    },
    {
     "cell_type": "code",
     "collapsed": false,
     "input": [
      "from IPython.core.display import HTML\n",
      "\n",
      "\n",
      "def css_styling():\n",
      "    styles = open(\"../styles/custom.css\", \"r\").read()\n",
      "    return HTML(styles)\n",
      "css_styling()"
     ],
     "language": "python",
     "metadata": {},
     "outputs": [
      {
       "html": [
        "<style>\n",
        "    div.cell{\n",
        "        width:800px;\n",
        "        margin-left:16% !important;\n",
        "        margin-right:auto;\n",
        "    }\n",
        "    div.text_cell_render{\n",
        "        font-family: \"Helvetica Neue\", Arial, Helvetica, Geneva, sans-serif;\n",
        "        line-height: 145%;\n",
        "        font-size: 100%;\n",
        "        width:800px;\n",
        "        margin-left:auto;\n",
        "        margin-right:auto;\n",
        "    }\n",
        "    .CodeMirror{\n",
        "            font-family: \"Source Code Pro\", source-code-pro,Consolas, monospace;\n",
        "    }\n",
        "    div.CodeMirror{\n",
        "    \tfont-size: 11pt;\n",
        "    }\n",
        "    div.cell.border-box-sizing.code_cell{\n",
        "    \tpadding-left: 50px;\n",
        "    }\n",
        "    div.text_cell_input {\n",
        "    \tmargin-left: 50px;\n",
        "    }\n",
        "    .prompt{\n",
        "        display: None;\n",
        "    }\n",
        "    .text_cell_render h1 {\n",
        "        font-family: Helvetica, serif;\n",
        "        font-size: 30pt;\n",
        "        color: #274257;\n",
        "        text-transform: uppercase;\n",
        "        line-height: 100%;\n",
        "    }\n",
        "    .text_cell_render h2 {\n",
        "    \tmargin-top: 35px;\n",
        "        font-family: Helvetica, serif;\n",
        "        font-size: 24pt;\n",
        "        color: #2A75A9;\n",
        "        line-height: 100%;\n",
        "    }\n",
        "    .text_cell_render h3{\n",
        "    \tmargin-top: 35px;\n",
        "        font-family: Helvetica, serif;\n",
        "        font-size: 18pt;\n",
        "        color: #7EB5D6;\n",
        "        line-height: 100%;\n",
        "       }\n",
        "    .text_cell_render h4{\n",
        "    \tmargin-top: 35px;\n",
        "    \tfont-family: Helvetica, serif;\n",
        "        font-size: 14pt;\n",
        "        line-height: 100%;\n",
        "    }\n",
        "    .text_cell_render h5 {\n",
        "        font-weight: 300;\n",
        "        font-size: 22pt;\n",
        "        color: #4057A1;\n",
        "        font-style: italic;\n",
        "        margin-bottom: .5em;\n",
        "        margin-top: 0.5em;\n",
        "        display: block;\n",
        "        line-height: 100%;\n",
        "    }\n",
        "    \n",
        "    .warning{\n",
        "        color: rgb( 240, 20, 20 )\n",
        "        } \n",
        "    .wds {\n",
        "        background: none repeat scroll 0% 0% rgb(247, 247, 247);\n",
        "        padding: 0em 0em;\n",
        "        font-size: 11px;\n",
        "        font-family: Arial,Helvetica,sans-serif;\n",
        "        display: inline-block;\n",
        "        margin: 0px 0em;\n",
        "        white-space: nowrap;\n",
        "    }\n",
        "    cb {\n",
        "        background: none repeat scroll 0% 0% rgb(247, 247, 247);\n",
        "        padding: 0.1em 0.6em;\n",
        "        border: 1px solid rgb(204, 204, 204);\n",
        "        font-size: 11pt;\n",
        "        font-family: \"Source Code Pro\", source-code-pro,Consolas, monospace;\n",
        "        color: rgb(51, 51, 51);\n",
        "        box-shadow: 0px 1px 0px rgba(0, 0, 0, 0.2), 0px 0px 0px 2px rgb(255, 255, 255) inset;\n",
        "        border-radius: 3px 3px 3px 3px;\n",
        "        display: inline-block;\n",
        "        margin: 0px 0.1em;\n",
        "        line-height: 1.4;\n",
        "        white-space: nowrap;\n",
        "    }\n",
        "    q {\t\n",
        "        font-weight: 300;\n",
        "        font-size: 14pt;\n",
        "        color: #4057A1;\n",
        "        margin-bottom: .5em;\n",
        "        margin-top: 0.5em;\n",
        "        display: block;\n",
        "        font-family: \"Helvetica Neue\", Arial, Helvetica, Geneva, sans-serif;\n",
        "        line-height: 145%;\n",
        "        width:800px;\n",
        "        margin-left:auto;\n",
        "        margin-right:auto;\n",
        "    }\n",
        "    qq {\t\n",
        "        font-weight: 300;\n",
        "        font-size: 11pt;\n",
        "        color: #4057A1;\n",
        "        margin-bottom: .5em;\n",
        "        margin-top: 0.5em;\n",
        "        display: block;\n",
        "        font-family: \"Helvetica Neue\", Arial, Helvetica, Geneva, sans-serif;\n",
        "        line-height: 145%;\n",
        "        width:800px;\n",
        "        margin-left:auto;\n",
        "        margin-right:auto;\n",
        "    }\n",
        "    kbd {\n",
        "        background: none repeat scroll 0% 0% rgb(247, 247, 247);\n",
        "        padding: 0.1em 0.6em;\n",
        "        border: 1px solid rgb(204, 204, 204);\n",
        "        font-size: 11px;\n",
        "        font-family: Arial,Helvetica,sans-serif;\n",
        "        color: rgb(51, 51, 51);\n",
        "        box-shadow: 0px 1px 0px rgba(0, 0, 0, 0.2), 0px 0px 0px 2px rgb(255, 255, 255) inset;\n",
        "        border-radius: 3px 3px 3px 3px;\n",
        "        display: inline-block;\n",
        "        margin: 0px 0.1em;\n",
        "        text-shadow: 0px 1px 0px rgb(255, 255, 255);\n",
        "        line-height: 1.4;\n",
        "        white-space: nowrap;\n",
        "    }\n",
        "    ol {\n",
        "        list-style-type: decimal;\n",
        "    }\n",
        "\n",
        "\t.box_rotate {\n",
        "\t\t  -webkit-transform: rotate(270deg);  /* Chrome, Safari 3.1+ */\n",
        "\t\t     -moz-transform: rotate(270deg);  /* Firefox 3.5-15 */\n",
        "\t\t      -ms-transform: rotate(270deg);  /* IE 9 */\n",
        "\t\t       -o-transform: rotate(270deg);  /* Opera 10.50-12.00 */\n",
        "\t\t          transform: rotate(270deg);  /* Firefox 16+, IE 10+, Opera 12.10+ */\n",
        "\t}\n",
        "\n",
        "\t.vertical-text {\n",
        "\t\tdisplay: inline-block;\n",
        "\t\toverflow: hidden;\n",
        "\t\twidth: 1.5em;\n",
        "\t}\n",
        "\n",
        "\t.vertical-text__inner {\n",
        "\t\tdisplay: inline-block;\n",
        "\t\twhite-space: nowrap;\n",
        "\t\tline-height: 1.5;\n",
        "\t\t  -webkit-transform: rotate(270deg);  /* Chrome, Safari 3.1+ */\n",
        "\t\t     -moz-transform: rotate(270deg);  /* Firefox 3.5-15 */\n",
        "\t\t      -ms-transform: rotate(270deg);  /* IE 9 */\n",
        "\t\t       -o-transform: rotate(270deg);  /* Opera 10.50-12.00 */\n",
        "\t\t          transform: rotate(270deg);  /* Firefox 16+, IE 10+, Opera 12.10+ */\n",
        "\t}\n",
        "\n",
        "\t.vertical-text__inner:after {\n",
        "\t\tcontent: \"\";\n",
        "\t\tdisplay: block;\n",
        "\t\tmargin: -1.5em 0 100%;\n",
        "\t}\n",
        "\n",
        "\t.topics{\n",
        "\t\tbackground: url('files/images/topics.png') no-repeat scroll 0% 0%; \n",
        "\t\twidth: 520px; \n",
        "\t\theight: 250px; \n",
        "\n",
        "\t\tpadding-top: 35px;\n",
        "\t}\n",
        "\n",
        "</style>\n",
        "<script>\n",
        "    MathJax.Hub.Config({\n",
        "                        TeX: {\n",
        "                           extensions: [\"AMSmath.js\"]\n",
        "                           },\n",
        "                tex2jax: {\n",
        "                    inlineMath: [ ['$','$'], [\"\\\\(\",\"\\\\)\"] ],\n",
        "                    displayMath: [ ['$$','$$'], [\"\\\\[\",\"\\\\]\"] ]\n",
        "                },\n",
        "                displayAlign: 'center', // Change this to 'center' to center equations.\n",
        "                \"HTML-CSS\": {\n",
        "                    styles: {'.MathJax_Display': {\"margin\": 4}}\n",
        "                }\n",
        "        });\n",
        "</script>\n"
       ],
       "metadata": {},
       "output_type": "pyout",
       "prompt_number": 1,
       "text": [
        "<IPython.core.display.HTML at 0x30ee310>"
       ]
      }
     ],
     "prompt_number": 1
    },
    {
     "cell_type": "code",
     "collapsed": false,
     "input": [],
     "language": "python",
     "metadata": {},
     "outputs": []
    },
    {
     "cell_type": "code",
     "collapsed": false,
     "input": [],
     "language": "python",
     "metadata": {},
     "outputs": []
    }
   ],
   "metadata": {}
  }
 ]
}